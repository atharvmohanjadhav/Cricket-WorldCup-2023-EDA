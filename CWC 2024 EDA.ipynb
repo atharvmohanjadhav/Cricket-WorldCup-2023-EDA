{
 "cells": [
  {
   "cell_type": "code",
   "execution_count": 1,
   "id": "dcb771ad-4eff-4bff-b3e5-a822d980daf6",
   "metadata": {},
   "outputs": [],
   "source": [
    "import pandas as pd\n",
    "import seaborn as sns\n",
    "import matplotlib.pyplot as plt\n",
    "import numpy as np"
   ]
  },
  {
   "cell_type": "code",
   "execution_count": 2,
   "id": "ecde89f7-9836-44b1-94bb-d2938dc5ae7f",
   "metadata": {},
   "outputs": [],
   "source": [
    "df = pd.read_csv(r\"C:\\Users\\athar\\Downloads\\matches.csv\")"
   ]
  },
  {
   "cell_type": "code",
   "execution_count": 3,
   "id": "766a66b0-055c-4bce-8531-5787df3e8a0a",
   "metadata": {},
   "outputs": [],
   "source": [
    "batting = pd.read_csv(r\"C:\\Users\\athar\\Downloads\\icc_wc_23_bat.csv\")"
   ]
  },
  {
   "cell_type": "code",
   "execution_count": 4,
   "id": "d4dca460-4857-4f38-9a22-62a1863f8915",
   "metadata": {},
   "outputs": [],
   "source": [
    "bowling = pd.read_csv(r\"C:\\Users\\athar\\Downloads\\icc_wc_23_bowl.csv\")"
   ]
  },
  {
   "cell_type": "code",
   "execution_count": 5,
   "id": "3e202141-e25b-44df-93b5-4938707f8983",
   "metadata": {},
   "outputs": [
    {
     "data": {
      "text/html": [
       "<div>\n",
       "<style scoped>\n",
       "    .dataframe tbody tr th:only-of-type {\n",
       "        vertical-align: middle;\n",
       "    }\n",
       "\n",
       "    .dataframe tbody tr th {\n",
       "        vertical-align: top;\n",
       "    }\n",
       "\n",
       "    .dataframe thead th {\n",
       "        text-align: right;\n",
       "    }\n",
       "</style>\n",
       "<table border=\"1\" class=\"dataframe\">\n",
       "  <thead>\n",
       "    <tr style=\"text-align: right;\">\n",
       "      <th></th>\n",
       "      <th>season</th>\n",
       "      <th>team1</th>\n",
       "      <th>team2</th>\n",
       "      <th>date</th>\n",
       "      <th>match_number</th>\n",
       "      <th>venue</th>\n",
       "      <th>city</th>\n",
       "      <th>toss_winner</th>\n",
       "      <th>toss_decision</th>\n",
       "      <th>player_of_match</th>\n",
       "      <th>umpire1</th>\n",
       "      <th>umpire2</th>\n",
       "      <th>reserve_umpire</th>\n",
       "      <th>match_referee</th>\n",
       "      <th>winner</th>\n",
       "      <th>winner_runs</th>\n",
       "      <th>winner_wickets</th>\n",
       "      <th>match_type</th>\n",
       "    </tr>\n",
       "  </thead>\n",
       "  <tbody>\n",
       "    <tr>\n",
       "      <th>0</th>\n",
       "      <td>2023/24</td>\n",
       "      <td>England</td>\n",
       "      <td>New Zealand</td>\n",
       "      <td>2023/10/05</td>\n",
       "      <td>1</td>\n",
       "      <td>Narendra Modi Stadium</td>\n",
       "      <td>Ahmedabad</td>\n",
       "      <td>New Zealand</td>\n",
       "      <td>field</td>\n",
       "      <td>R Ravindra</td>\n",
       "      <td>HDPK Dharmasena</td>\n",
       "      <td>Nitin Menon</td>\n",
       "      <td>Sharfuddoula</td>\n",
       "      <td>J Srinath</td>\n",
       "      <td>New Zealand</td>\n",
       "      <td>NaN</td>\n",
       "      <td>9.0</td>\n",
       "      <td>Group</td>\n",
       "    </tr>\n",
       "    <tr>\n",
       "      <th>1</th>\n",
       "      <td>2023/24</td>\n",
       "      <td>Pakistan</td>\n",
       "      <td>Netherlands</td>\n",
       "      <td>2023/10/06</td>\n",
       "      <td>2</td>\n",
       "      <td>Rajiv Gandhi International Stadium</td>\n",
       "      <td>Hyderabad</td>\n",
       "      <td>Netherlands</td>\n",
       "      <td>field</td>\n",
       "      <td>Saud Shakeel</td>\n",
       "      <td>AT Holdstock</td>\n",
       "      <td>CM Brown</td>\n",
       "      <td>PR Reiffel</td>\n",
       "      <td>JJ Crowe</td>\n",
       "      <td>Pakistan</td>\n",
       "      <td>81.0</td>\n",
       "      <td>NaN</td>\n",
       "      <td>Group</td>\n",
       "    </tr>\n",
       "    <tr>\n",
       "      <th>2</th>\n",
       "      <td>2023/24</td>\n",
       "      <td>Afghanistan</td>\n",
       "      <td>Bangladesh</td>\n",
       "      <td>2023/10/07</td>\n",
       "      <td>3</td>\n",
       "      <td>Himachal Pradesh Cricket Association Stadium</td>\n",
       "      <td>Dharamsala</td>\n",
       "      <td>Bangladesh</td>\n",
       "      <td>field</td>\n",
       "      <td>Mehedi Hasan Miraz</td>\n",
       "      <td>JS Wilson</td>\n",
       "      <td>HDPK Dharmasena</td>\n",
       "      <td>M Erasmus</td>\n",
       "      <td>AJ Pycroft</td>\n",
       "      <td>Bangladesh</td>\n",
       "      <td>NaN</td>\n",
       "      <td>6.0</td>\n",
       "      <td>Group</td>\n",
       "    </tr>\n",
       "    <tr>\n",
       "      <th>3</th>\n",
       "      <td>2023/24</td>\n",
       "      <td>South Africa</td>\n",
       "      <td>Sri Lanka</td>\n",
       "      <td>2023/10/07</td>\n",
       "      <td>4</td>\n",
       "      <td>Arun Jaitley Stadium</td>\n",
       "      <td>Delhi</td>\n",
       "      <td>Sri Lanka</td>\n",
       "      <td>field</td>\n",
       "      <td>AK Markram</td>\n",
       "      <td>RK Illingworth</td>\n",
       "      <td>Sharfuddoula</td>\n",
       "      <td>AG Wharf</td>\n",
       "      <td>J Srinath</td>\n",
       "      <td>South Africa</td>\n",
       "      <td>102.0</td>\n",
       "      <td>NaN</td>\n",
       "      <td>Group</td>\n",
       "    </tr>\n",
       "    <tr>\n",
       "      <th>4</th>\n",
       "      <td>2023/24</td>\n",
       "      <td>Australia</td>\n",
       "      <td>India</td>\n",
       "      <td>2023/10/08</td>\n",
       "      <td>5</td>\n",
       "      <td>MA Chidambaram Stadium</td>\n",
       "      <td>Chennai</td>\n",
       "      <td>Australia</td>\n",
       "      <td>bat</td>\n",
       "      <td>KL Rahul</td>\n",
       "      <td>CB Gaffaney</td>\n",
       "      <td>RA Kettleborough</td>\n",
       "      <td>AT Holdstock</td>\n",
       "      <td>RB Richardson</td>\n",
       "      <td>India</td>\n",
       "      <td>NaN</td>\n",
       "      <td>6.0</td>\n",
       "      <td>Group</td>\n",
       "    </tr>\n",
       "  </tbody>\n",
       "</table>\n",
       "</div>"
      ],
      "text/plain": [
       "    season         team1        team2        date  match_number  \\\n",
       "0  2023/24       England  New Zealand  2023/10/05             1   \n",
       "1  2023/24      Pakistan  Netherlands  2023/10/06             2   \n",
       "2  2023/24   Afghanistan   Bangladesh  2023/10/07             3   \n",
       "3  2023/24  South Africa    Sri Lanka  2023/10/07             4   \n",
       "4  2023/24     Australia        India  2023/10/08             5   \n",
       "\n",
       "                                          venue        city  toss_winner  \\\n",
       "0                         Narendra Modi Stadium   Ahmedabad  New Zealand   \n",
       "1            Rajiv Gandhi International Stadium   Hyderabad  Netherlands   \n",
       "2  Himachal Pradesh Cricket Association Stadium  Dharamsala   Bangladesh   \n",
       "3                          Arun Jaitley Stadium       Delhi    Sri Lanka   \n",
       "4                        MA Chidambaram Stadium     Chennai    Australia   \n",
       "\n",
       "  toss_decision     player_of_match          umpire1           umpire2  \\\n",
       "0         field          R Ravindra  HDPK Dharmasena       Nitin Menon   \n",
       "1         field        Saud Shakeel     AT Holdstock          CM Brown   \n",
       "2         field  Mehedi Hasan Miraz        JS Wilson   HDPK Dharmasena   \n",
       "3         field          AK Markram   RK Illingworth      Sharfuddoula   \n",
       "4           bat            KL Rahul      CB Gaffaney  RA Kettleborough   \n",
       "\n",
       "  reserve_umpire  match_referee        winner  winner_runs  winner_wickets  \\\n",
       "0   Sharfuddoula      J Srinath   New Zealand          NaN             9.0   \n",
       "1     PR Reiffel       JJ Crowe      Pakistan         81.0             NaN   \n",
       "2      M Erasmus     AJ Pycroft    Bangladesh          NaN             6.0   \n",
       "3       AG Wharf      J Srinath  South Africa        102.0             NaN   \n",
       "4   AT Holdstock  RB Richardson         India          NaN             6.0   \n",
       "\n",
       "  match_type  \n",
       "0      Group  \n",
       "1      Group  \n",
       "2      Group  \n",
       "3      Group  \n",
       "4      Group  "
      ]
     },
     "execution_count": 5,
     "metadata": {},
     "output_type": "execute_result"
    }
   ],
   "source": [
    "df.head()"
   ]
  },
  {
   "cell_type": "code",
   "execution_count": 6,
   "id": "85b749a6-04c4-4cfd-8a4b-562eec0c6fe7",
   "metadata": {},
   "outputs": [
    {
     "data": {
      "text/html": [
       "<div>\n",
       "<style scoped>\n",
       "    .dataframe tbody tr th:only-of-type {\n",
       "        vertical-align: middle;\n",
       "    }\n",
       "\n",
       "    .dataframe tbody tr th {\n",
       "        vertical-align: top;\n",
       "    }\n",
       "\n",
       "    .dataframe thead th {\n",
       "        text-align: right;\n",
       "    }\n",
       "</style>\n",
       "<table border=\"1\" class=\"dataframe\">\n",
       "  <thead>\n",
       "    <tr style=\"text-align: right;\">\n",
       "      <th></th>\n",
       "      <th>player</th>\n",
       "      <th>dismissal</th>\n",
       "      <th>runs</th>\n",
       "      <th>balls</th>\n",
       "      <th>minutes</th>\n",
       "      <th>4s</th>\n",
       "      <th>6s</th>\n",
       "      <th>strike_rate</th>\n",
       "      <th>team</th>\n",
       "      <th>opponent</th>\n",
       "      <th>innings</th>\n",
       "      <th>match_id</th>\n",
       "    </tr>\n",
       "  </thead>\n",
       "  <tbody>\n",
       "    <tr>\n",
       "      <th>0</th>\n",
       "      <td>Rohit Sharma</td>\n",
       "      <td>b Madushanka</td>\n",
       "      <td>4</td>\n",
       "      <td>2</td>\n",
       "      <td>2</td>\n",
       "      <td>1</td>\n",
       "      <td>0</td>\n",
       "      <td>200.00</td>\n",
       "      <td>India</td>\n",
       "      <td>Sri Lanka</td>\n",
       "      <td>1</td>\n",
       "      <td>0</td>\n",
       "    </tr>\n",
       "    <tr>\n",
       "      <th>1</th>\n",
       "      <td>Shubman Gill</td>\n",
       "      <td>c Mendis b Madushanka</td>\n",
       "      <td>92</td>\n",
       "      <td>92</td>\n",
       "      <td>136</td>\n",
       "      <td>11</td>\n",
       "      <td>2</td>\n",
       "      <td>100.00</td>\n",
       "      <td>India</td>\n",
       "      <td>Sri Lanka</td>\n",
       "      <td>1</td>\n",
       "      <td>0</td>\n",
       "    </tr>\n",
       "    <tr>\n",
       "      <th>2</th>\n",
       "      <td>Virat Kohli</td>\n",
       "      <td>c Nissanka b Madushanka</td>\n",
       "      <td>88</td>\n",
       "      <td>94</td>\n",
       "      <td>139</td>\n",
       "      <td>11</td>\n",
       "      <td>0</td>\n",
       "      <td>93.61</td>\n",
       "      <td>India</td>\n",
       "      <td>Sri Lanka</td>\n",
       "      <td>1</td>\n",
       "      <td>0</td>\n",
       "    </tr>\n",
       "    <tr>\n",
       "      <th>3</th>\n",
       "      <td>Shreyas Iyer</td>\n",
       "      <td>c Theekshana b Madushanka</td>\n",
       "      <td>82</td>\n",
       "      <td>56</td>\n",
       "      <td>84</td>\n",
       "      <td>3</td>\n",
       "      <td>6</td>\n",
       "      <td>146.42</td>\n",
       "      <td>India</td>\n",
       "      <td>Sri Lanka</td>\n",
       "      <td>1</td>\n",
       "      <td>0</td>\n",
       "    </tr>\n",
       "    <tr>\n",
       "      <th>4</th>\n",
       "      <td>KL Rahul</td>\n",
       "      <td>c Hemantha b Chameera</td>\n",
       "      <td>21</td>\n",
       "      <td>19</td>\n",
       "      <td>34</td>\n",
       "      <td>2</td>\n",
       "      <td>0</td>\n",
       "      <td>110.52</td>\n",
       "      <td>India</td>\n",
       "      <td>Sri Lanka</td>\n",
       "      <td>1</td>\n",
       "      <td>0</td>\n",
       "    </tr>\n",
       "  </tbody>\n",
       "</table>\n",
       "</div>"
      ],
      "text/plain": [
       "         player                  dismissal  runs  balls  minutes  4s  6s  \\\n",
       "0  Rohit Sharma               b Madushanka     4      2        2   1   0   \n",
       "1  Shubman Gill      c Mendis b Madushanka    92     92      136  11   2   \n",
       "2   Virat Kohli    c Nissanka b Madushanka    88     94      139  11   0   \n",
       "3  Shreyas Iyer  c Theekshana b Madushanka    82     56       84   3   6   \n",
       "4      KL Rahul      c Hemantha b Chameera    21     19       34   2   0   \n",
       "\n",
       "   strike_rate   team   opponent  innings  match_id  \n",
       "0       200.00  India  Sri Lanka        1         0  \n",
       "1       100.00  India  Sri Lanka        1         0  \n",
       "2        93.61  India  Sri Lanka        1         0  \n",
       "3       146.42  India  Sri Lanka        1         0  \n",
       "4       110.52  India  Sri Lanka        1         0  "
      ]
     },
     "execution_count": 6,
     "metadata": {},
     "output_type": "execute_result"
    }
   ],
   "source": [
    "batting.head()"
   ]
  },
  {
   "cell_type": "code",
   "execution_count": 96,
   "id": "204d8eae-3b6c-4899-9eee-0959481fdfa7",
   "metadata": {},
   "outputs": [
    {
     "data": {
      "text/html": [
       "<div>\n",
       "<style scoped>\n",
       "    .dataframe tbody tr th:only-of-type {\n",
       "        vertical-align: middle;\n",
       "    }\n",
       "\n",
       "    .dataframe tbody tr th {\n",
       "        vertical-align: top;\n",
       "    }\n",
       "\n",
       "    .dataframe thead th {\n",
       "        text-align: right;\n",
       "    }\n",
       "</style>\n",
       "<table border=\"1\" class=\"dataframe\">\n",
       "  <thead>\n",
       "    <tr style=\"text-align: right;\">\n",
       "      <th></th>\n",
       "      <th>runs</th>\n",
       "      <th>balls</th>\n",
       "      <th>minutes</th>\n",
       "      <th>4s</th>\n",
       "      <th>6s</th>\n",
       "      <th>strike_rate</th>\n",
       "      <th>innings</th>\n",
       "      <th>match_id</th>\n",
       "    </tr>\n",
       "  </thead>\n",
       "  <tbody>\n",
       "    <tr>\n",
       "      <th>count</th>\n",
       "      <td>875.000000</td>\n",
       "      <td>875.000000</td>\n",
       "      <td>875.000000</td>\n",
       "      <td>875.000000</td>\n",
       "      <td>875.000000</td>\n",
       "      <td>875.000000</td>\n",
       "      <td>875.000000</td>\n",
       "      <td>875.000000</td>\n",
       "    </tr>\n",
       "    <tr>\n",
       "      <th>mean</th>\n",
       "      <td>26.773714</td>\n",
       "      <td>29.090286</td>\n",
       "      <td>42.259429</td>\n",
       "      <td>2.558857</td>\n",
       "      <td>0.736000</td>\n",
       "      <td>82.771337</td>\n",
       "      <td>1.459429</td>\n",
       "      <td>23.186286</td>\n",
       "    </tr>\n",
       "    <tr>\n",
       "      <th>std</th>\n",
       "      <td>31.018840</td>\n",
       "      <td>28.579166</td>\n",
       "      <td>41.752733</td>\n",
       "      <td>3.148084</td>\n",
       "      <td>1.490633</td>\n",
       "      <td>53.106854</td>\n",
       "      <td>0.498636</td>\n",
       "      <td>13.828329</td>\n",
       "    </tr>\n",
       "    <tr>\n",
       "      <th>min</th>\n",
       "      <td>0.000000</td>\n",
       "      <td>0.000000</td>\n",
       "      <td>1.000000</td>\n",
       "      <td>0.000000</td>\n",
       "      <td>0.000000</td>\n",
       "      <td>0.000000</td>\n",
       "      <td>1.000000</td>\n",
       "      <td>0.000000</td>\n",
       "    </tr>\n",
       "    <tr>\n",
       "      <th>25%</th>\n",
       "      <td>5.000000</td>\n",
       "      <td>8.000000</td>\n",
       "      <td>12.000000</td>\n",
       "      <td>0.000000</td>\n",
       "      <td>0.000000</td>\n",
       "      <td>50.000000</td>\n",
       "      <td>1.000000</td>\n",
       "      <td>11.500000</td>\n",
       "    </tr>\n",
       "    <tr>\n",
       "      <th>50%</th>\n",
       "      <td>15.000000</td>\n",
       "      <td>19.000000</td>\n",
       "      <td>27.000000</td>\n",
       "      <td>1.000000</td>\n",
       "      <td>0.000000</td>\n",
       "      <td>80.430000</td>\n",
       "      <td>1.000000</td>\n",
       "      <td>23.000000</td>\n",
       "    </tr>\n",
       "    <tr>\n",
       "      <th>75%</th>\n",
       "      <td>39.000000</td>\n",
       "      <td>40.500000</td>\n",
       "      <td>59.000000</td>\n",
       "      <td>4.000000</td>\n",
       "      <td>1.000000</td>\n",
       "      <td>106.660000</td>\n",
       "      <td>2.000000</td>\n",
       "      <td>35.000000</td>\n",
       "    </tr>\n",
       "    <tr>\n",
       "      <th>max</th>\n",
       "      <td>201.000000</td>\n",
       "      <td>143.000000</td>\n",
       "      <td>217.000000</td>\n",
       "      <td>21.000000</td>\n",
       "      <td>11.000000</td>\n",
       "      <td>600.000000</td>\n",
       "      <td>2.000000</td>\n",
       "      <td>47.000000</td>\n",
       "    </tr>\n",
       "  </tbody>\n",
       "</table>\n",
       "</div>"
      ],
      "text/plain": [
       "             runs       balls     minutes          4s          6s  \\\n",
       "count  875.000000  875.000000  875.000000  875.000000  875.000000   \n",
       "mean    26.773714   29.090286   42.259429    2.558857    0.736000   \n",
       "std     31.018840   28.579166   41.752733    3.148084    1.490633   \n",
       "min      0.000000    0.000000    1.000000    0.000000    0.000000   \n",
       "25%      5.000000    8.000000   12.000000    0.000000    0.000000   \n",
       "50%     15.000000   19.000000   27.000000    1.000000    0.000000   \n",
       "75%     39.000000   40.500000   59.000000    4.000000    1.000000   \n",
       "max    201.000000  143.000000  217.000000   21.000000   11.000000   \n",
       "\n",
       "       strike_rate     innings    match_id  \n",
       "count   875.000000  875.000000  875.000000  \n",
       "mean     82.771337    1.459429   23.186286  \n",
       "std      53.106854    0.498636   13.828329  \n",
       "min       0.000000    1.000000    0.000000  \n",
       "25%      50.000000    1.000000   11.500000  \n",
       "50%      80.430000    1.000000   23.000000  \n",
       "75%     106.660000    2.000000   35.000000  \n",
       "max     600.000000    2.000000   47.000000  "
      ]
     },
     "execution_count": 96,
     "metadata": {},
     "output_type": "execute_result"
    }
   ],
   "source": [
    "batting.describe()"
   ]
  },
  {
   "cell_type": "code",
   "execution_count": 7,
   "id": "b996a089-1b5b-4aa7-ae2b-a15e65af9499",
   "metadata": {},
   "outputs": [
    {
     "data": {
      "text/html": [
       "<div>\n",
       "<style scoped>\n",
       "    .dataframe tbody tr th:only-of-type {\n",
       "        vertical-align: middle;\n",
       "    }\n",
       "\n",
       "    .dataframe tbody tr th {\n",
       "        vertical-align: top;\n",
       "    }\n",
       "\n",
       "    .dataframe thead th {\n",
       "        text-align: right;\n",
       "    }\n",
       "</style>\n",
       "<table border=\"1\" class=\"dataframe\">\n",
       "  <thead>\n",
       "    <tr style=\"text-align: right;\">\n",
       "      <th></th>\n",
       "      <th>player</th>\n",
       "      <th>overs</th>\n",
       "      <th>maidens</th>\n",
       "      <th>runs</th>\n",
       "      <th>wickets</th>\n",
       "      <th>run_rate</th>\n",
       "      <th>0s</th>\n",
       "      <th>4s</th>\n",
       "      <th>6s</th>\n",
       "      <th>wd</th>\n",
       "      <th>nb</th>\n",
       "      <th>team</th>\n",
       "      <th>opponent</th>\n",
       "      <th>innings</th>\n",
       "      <th>match_id</th>\n",
       "    </tr>\n",
       "  </thead>\n",
       "  <tbody>\n",
       "    <tr>\n",
       "      <th>0</th>\n",
       "      <td>Dilshan Madushanka</td>\n",
       "      <td>10.0</td>\n",
       "      <td>0</td>\n",
       "      <td>80</td>\n",
       "      <td>5</td>\n",
       "      <td>8.00</td>\n",
       "      <td>25</td>\n",
       "      <td>8</td>\n",
       "      <td>2</td>\n",
       "      <td>6</td>\n",
       "      <td>0</td>\n",
       "      <td>Sri Lanka</td>\n",
       "      <td>India</td>\n",
       "      <td>1</td>\n",
       "      <td>0</td>\n",
       "    </tr>\n",
       "    <tr>\n",
       "      <th>1</th>\n",
       "      <td>Dushmantha Chameera</td>\n",
       "      <td>10.0</td>\n",
       "      <td>2</td>\n",
       "      <td>71</td>\n",
       "      <td>1</td>\n",
       "      <td>7.10</td>\n",
       "      <td>28</td>\n",
       "      <td>8</td>\n",
       "      <td>2</td>\n",
       "      <td>0</td>\n",
       "      <td>0</td>\n",
       "      <td>Sri Lanka</td>\n",
       "      <td>India</td>\n",
       "      <td>1</td>\n",
       "      <td>0</td>\n",
       "    </tr>\n",
       "    <tr>\n",
       "      <th>2</th>\n",
       "      <td>Kasun Rajitha</td>\n",
       "      <td>9.0</td>\n",
       "      <td>0</td>\n",
       "      <td>65</td>\n",
       "      <td>0</td>\n",
       "      <td>7.22</td>\n",
       "      <td>25</td>\n",
       "      <td>7</td>\n",
       "      <td>2</td>\n",
       "      <td>1</td>\n",
       "      <td>0</td>\n",
       "      <td>Sri Lanka</td>\n",
       "      <td>India</td>\n",
       "      <td>1</td>\n",
       "      <td>0</td>\n",
       "    </tr>\n",
       "    <tr>\n",
       "      <th>3</th>\n",
       "      <td>Angelo Mathews</td>\n",
       "      <td>3.0</td>\n",
       "      <td>0</td>\n",
       "      <td>11</td>\n",
       "      <td>0</td>\n",
       "      <td>3.66</td>\n",
       "      <td>10</td>\n",
       "      <td>1</td>\n",
       "      <td>0</td>\n",
       "      <td>0</td>\n",
       "      <td>0</td>\n",
       "      <td>Sri Lanka</td>\n",
       "      <td>India</td>\n",
       "      <td>1</td>\n",
       "      <td>0</td>\n",
       "    </tr>\n",
       "    <tr>\n",
       "      <th>4</th>\n",
       "      <td>Maheesh Theekshana</td>\n",
       "      <td>10.0</td>\n",
       "      <td>0</td>\n",
       "      <td>67</td>\n",
       "      <td>0</td>\n",
       "      <td>6.70</td>\n",
       "      <td>18</td>\n",
       "      <td>5</td>\n",
       "      <td>1</td>\n",
       "      <td>1</td>\n",
       "      <td>0</td>\n",
       "      <td>Sri Lanka</td>\n",
       "      <td>India</td>\n",
       "      <td>1</td>\n",
       "      <td>0</td>\n",
       "    </tr>\n",
       "  </tbody>\n",
       "</table>\n",
       "</div>"
      ],
      "text/plain": [
       "                player  overs  maidens  runs  wickets  run_rate  0s  4s  6s  \\\n",
       "0   Dilshan Madushanka   10.0        0    80        5      8.00  25   8   2   \n",
       "1  Dushmantha Chameera   10.0        2    71        1      7.10  28   8   2   \n",
       "2        Kasun Rajitha    9.0        0    65        0      7.22  25   7   2   \n",
       "3       Angelo Mathews    3.0        0    11        0      3.66  10   1   0   \n",
       "4   Maheesh Theekshana   10.0        0    67        0      6.70  18   5   1   \n",
       "\n",
       "   wd  nb       team opponent  innings  match_id  \n",
       "0   6   0  Sri Lanka    India        1         0  \n",
       "1   0   0  Sri Lanka    India        1         0  \n",
       "2   1   0  Sri Lanka    India        1         0  \n",
       "3   0   0  Sri Lanka    India        1         0  \n",
       "4   1   0  Sri Lanka    India        1         0  "
      ]
     },
     "execution_count": 7,
     "metadata": {},
     "output_type": "execute_result"
    }
   ],
   "source": [
    "bowling.head()"
   ]
  },
  {
   "cell_type": "code",
   "execution_count": 95,
   "id": "b65a9d7d-7821-4ac0-950f-53bf557b4d17",
   "metadata": {},
   "outputs": [
    {
     "data": {
      "text/html": [
       "<div>\n",
       "<style scoped>\n",
       "    .dataframe tbody tr th:only-of-type {\n",
       "        vertical-align: middle;\n",
       "    }\n",
       "\n",
       "    .dataframe tbody tr th {\n",
       "        vertical-align: top;\n",
       "    }\n",
       "\n",
       "    .dataframe thead th {\n",
       "        text-align: right;\n",
       "    }\n",
       "</style>\n",
       "<table border=\"1\" class=\"dataframe\">\n",
       "  <thead>\n",
       "    <tr style=\"text-align: right;\">\n",
       "      <th></th>\n",
       "      <th>overs</th>\n",
       "      <th>maidens</th>\n",
       "      <th>runs</th>\n",
       "      <th>wickets</th>\n",
       "      <th>run_rate</th>\n",
       "      <th>0s</th>\n",
       "      <th>4s</th>\n",
       "      <th>6s</th>\n",
       "      <th>wd</th>\n",
       "      <th>nb</th>\n",
       "      <th>innings</th>\n",
       "      <th>match_id</th>\n",
       "    </tr>\n",
       "  </thead>\n",
       "  <tbody>\n",
       "    <tr>\n",
       "      <th>count</th>\n",
       "      <td>574.000000</td>\n",
       "      <td>574.000000</td>\n",
       "      <td>574.000000</td>\n",
       "      <td>574.000000</td>\n",
       "      <td>574.000000</td>\n",
       "      <td>574.000000</td>\n",
       "      <td>574.000000</td>\n",
       "      <td>574.000000</td>\n",
       "      <td>574.000000</td>\n",
       "      <td>574.000000</td>\n",
       "      <td>574.000000</td>\n",
       "      <td>574.000000</td>\n",
       "    </tr>\n",
       "    <tr>\n",
       "      <th>mean</th>\n",
       "      <td>7.351045</td>\n",
       "      <td>0.256098</td>\n",
       "      <td>42.322300</td>\n",
       "      <td>1.202091</td>\n",
       "      <td>5.922369</td>\n",
       "      <td>22.918118</td>\n",
       "      <td>3.900697</td>\n",
       "      <td>1.121951</td>\n",
       "      <td>1.158537</td>\n",
       "      <td>0.097561</td>\n",
       "      <td>1.480836</td>\n",
       "      <td>23.691638</td>\n",
       "    </tr>\n",
       "    <tr>\n",
       "      <th>std</th>\n",
       "      <td>2.685601</td>\n",
       "      <td>0.533933</td>\n",
       "      <td>19.651473</td>\n",
       "      <td>1.193757</td>\n",
       "      <td>2.135935</td>\n",
       "      <td>10.251561</td>\n",
       "      <td>2.599953</td>\n",
       "      <td>1.302075</td>\n",
       "      <td>1.535259</td>\n",
       "      <td>0.330362</td>\n",
       "      <td>0.500068</td>\n",
       "      <td>13.858070</td>\n",
       "    </tr>\n",
       "    <tr>\n",
       "      <th>min</th>\n",
       "      <td>0.300000</td>\n",
       "      <td>0.000000</td>\n",
       "      <td>1.000000</td>\n",
       "      <td>0.000000</td>\n",
       "      <td>1.350000</td>\n",
       "      <td>0.000000</td>\n",
       "      <td>0.000000</td>\n",
       "      <td>0.000000</td>\n",
       "      <td>0.000000</td>\n",
       "      <td>0.000000</td>\n",
       "      <td>1.000000</td>\n",
       "      <td>0.000000</td>\n",
       "    </tr>\n",
       "    <tr>\n",
       "      <th>25%</th>\n",
       "      <td>6.000000</td>\n",
       "      <td>0.000000</td>\n",
       "      <td>30.000000</td>\n",
       "      <td>0.000000</td>\n",
       "      <td>4.500000</td>\n",
       "      <td>16.000000</td>\n",
       "      <td>2.000000</td>\n",
       "      <td>0.000000</td>\n",
       "      <td>0.000000</td>\n",
       "      <td>0.000000</td>\n",
       "      <td>1.000000</td>\n",
       "      <td>12.000000</td>\n",
       "    </tr>\n",
       "    <tr>\n",
       "      <th>50%</th>\n",
       "      <td>8.000000</td>\n",
       "      <td>0.000000</td>\n",
       "      <td>41.000000</td>\n",
       "      <td>1.000000</td>\n",
       "      <td>5.660000</td>\n",
       "      <td>24.000000</td>\n",
       "      <td>4.000000</td>\n",
       "      <td>1.000000</td>\n",
       "      <td>1.000000</td>\n",
       "      <td>0.000000</td>\n",
       "      <td>1.000000</td>\n",
       "      <td>24.000000</td>\n",
       "    </tr>\n",
       "    <tr>\n",
       "      <th>75%</th>\n",
       "      <td>10.000000</td>\n",
       "      <td>0.000000</td>\n",
       "      <td>55.000000</td>\n",
       "      <td>2.000000</td>\n",
       "      <td>7.075000</td>\n",
       "      <td>30.000000</td>\n",
       "      <td>5.000000</td>\n",
       "      <td>2.000000</td>\n",
       "      <td>2.000000</td>\n",
       "      <td>0.000000</td>\n",
       "      <td>2.000000</td>\n",
       "      <td>36.000000</td>\n",
       "    </tr>\n",
       "    <tr>\n",
       "      <th>max</th>\n",
       "      <td>10.000000</td>\n",
       "      <td>3.000000</td>\n",
       "      <td>115.000000</td>\n",
       "      <td>7.000000</td>\n",
       "      <td>16.000000</td>\n",
       "      <td>48.000000</td>\n",
       "      <td>15.000000</td>\n",
       "      <td>6.000000</td>\n",
       "      <td>10.000000</td>\n",
       "      <td>2.000000</td>\n",
       "      <td>2.000000</td>\n",
       "      <td>47.000000</td>\n",
       "    </tr>\n",
       "  </tbody>\n",
       "</table>\n",
       "</div>"
      ],
      "text/plain": [
       "            overs     maidens        runs     wickets    run_rate          0s  \\\n",
       "count  574.000000  574.000000  574.000000  574.000000  574.000000  574.000000   \n",
       "mean     7.351045    0.256098   42.322300    1.202091    5.922369   22.918118   \n",
       "std      2.685601    0.533933   19.651473    1.193757    2.135935   10.251561   \n",
       "min      0.300000    0.000000    1.000000    0.000000    1.350000    0.000000   \n",
       "25%      6.000000    0.000000   30.000000    0.000000    4.500000   16.000000   \n",
       "50%      8.000000    0.000000   41.000000    1.000000    5.660000   24.000000   \n",
       "75%     10.000000    0.000000   55.000000    2.000000    7.075000   30.000000   \n",
       "max     10.000000    3.000000  115.000000    7.000000   16.000000   48.000000   \n",
       "\n",
       "               4s          6s          wd          nb     innings    match_id  \n",
       "count  574.000000  574.000000  574.000000  574.000000  574.000000  574.000000  \n",
       "mean     3.900697    1.121951    1.158537    0.097561    1.480836   23.691638  \n",
       "std      2.599953    1.302075    1.535259    0.330362    0.500068   13.858070  \n",
       "min      0.000000    0.000000    0.000000    0.000000    1.000000    0.000000  \n",
       "25%      2.000000    0.000000    0.000000    0.000000    1.000000   12.000000  \n",
       "50%      4.000000    1.000000    1.000000    0.000000    1.000000   24.000000  \n",
       "75%      5.000000    2.000000    2.000000    0.000000    2.000000   36.000000  \n",
       "max     15.000000    6.000000   10.000000    2.000000    2.000000   47.000000  "
      ]
     },
     "execution_count": 95,
     "metadata": {},
     "output_type": "execute_result"
    }
   ],
   "source": [
    "bowling.describe()"
   ]
  },
  {
   "cell_type": "code",
   "execution_count": 8,
   "id": "339c8352-fb64-46e9-9049-92de06c6532d",
   "metadata": {},
   "outputs": [
    {
     "data": {
      "text/plain": [
       "season              0\n",
       "team1               0\n",
       "team2               0\n",
       "date                0\n",
       "match_number        0\n",
       "venue               0\n",
       "city                0\n",
       "toss_winner         0\n",
       "toss_decision       0\n",
       "player_of_match     0\n",
       "umpire1             0\n",
       "umpire2             0\n",
       "reserve_umpire      1\n",
       "match_referee       0\n",
       "winner              0\n",
       "winner_runs        24\n",
       "winner_wickets     24\n",
       "match_type          0\n",
       "dtype: int64"
      ]
     },
     "execution_count": 8,
     "metadata": {},
     "output_type": "execute_result"
    }
   ],
   "source": [
    "df.isnull().sum()"
   ]
  },
  {
   "cell_type": "code",
   "execution_count": 9,
   "id": "f4406739-a807-4f69-8d98-7e0afde4e7d6",
   "metadata": {},
   "outputs": [
    {
     "data": {
      "text/plain": [
       "(48, 18)"
      ]
     },
     "execution_count": 9,
     "metadata": {},
     "output_type": "execute_result"
    }
   ],
   "source": [
    "df.shape"
   ]
  },
  {
   "cell_type": "code",
   "execution_count": 10,
   "id": "215dd46e-1ae7-492b-b660-ce5a8fbdf0e2",
   "metadata": {},
   "outputs": [],
   "source": [
    "df.fillna(0,inplace= True)"
   ]
  },
  {
   "cell_type": "code",
   "execution_count": 11,
   "id": "4d1fdb93-2e16-44b0-a3fd-ae8bc3835b0c",
   "metadata": {},
   "outputs": [
    {
     "data": {
      "text/plain": [
       "season             0\n",
       "team1              0\n",
       "team2              0\n",
       "date               0\n",
       "match_number       0\n",
       "venue              0\n",
       "city               0\n",
       "toss_winner        0\n",
       "toss_decision      0\n",
       "player_of_match    0\n",
       "umpire1            0\n",
       "umpire2            0\n",
       "reserve_umpire     0\n",
       "match_referee      0\n",
       "winner             0\n",
       "winner_runs        0\n",
       "winner_wickets     0\n",
       "match_type         0\n",
       "dtype: int64"
      ]
     },
     "execution_count": 11,
     "metadata": {},
     "output_type": "execute_result"
    }
   ],
   "source": [
    "df.isnull().sum()"
   ]
  },
  {
   "cell_type": "code",
   "execution_count": 12,
   "id": "2b065709-13d6-4c73-9163-f6ab6eb1f7d8",
   "metadata": {},
   "outputs": [
    {
     "name": "stdout",
     "output_type": "stream",
     "text": [
      "<class 'pandas.core.frame.DataFrame'>\n",
      "RangeIndex: 48 entries, 0 to 47\n",
      "Data columns (total 18 columns):\n",
      " #   Column           Non-Null Count  Dtype  \n",
      "---  ------           --------------  -----  \n",
      " 0   season           48 non-null     object \n",
      " 1   team1            48 non-null     object \n",
      " 2   team2            48 non-null     object \n",
      " 3   date             48 non-null     object \n",
      " 4   match_number     48 non-null     int64  \n",
      " 5   venue            48 non-null     object \n",
      " 6   city             48 non-null     object \n",
      " 7   toss_winner      48 non-null     object \n",
      " 8   toss_decision    48 non-null     object \n",
      " 9   player_of_match  48 non-null     object \n",
      " 10  umpire1          48 non-null     object \n",
      " 11  umpire2          48 non-null     object \n",
      " 12  reserve_umpire   48 non-null     object \n",
      " 13  match_referee    48 non-null     object \n",
      " 14  winner           48 non-null     object \n",
      " 15  winner_runs      48 non-null     float64\n",
      " 16  winner_wickets   48 non-null     float64\n",
      " 17  match_type       48 non-null     object \n",
      "dtypes: float64(2), int64(1), object(15)\n",
      "memory usage: 6.9+ KB\n"
     ]
    }
   ],
   "source": [
    "df.info()"
   ]
  },
  {
   "cell_type": "code",
   "execution_count": 13,
   "id": "6ca4cfda-026d-4199-a286-acad80286816",
   "metadata": {},
   "outputs": [
    {
     "data": {
      "text/html": [
       "<div>\n",
       "<style scoped>\n",
       "    .dataframe tbody tr th:only-of-type {\n",
       "        vertical-align: middle;\n",
       "    }\n",
       "\n",
       "    .dataframe tbody tr th {\n",
       "        vertical-align: top;\n",
       "    }\n",
       "\n",
       "    .dataframe thead th {\n",
       "        text-align: right;\n",
       "    }\n",
       "</style>\n",
       "<table border=\"1\" class=\"dataframe\">\n",
       "  <thead>\n",
       "    <tr style=\"text-align: right;\">\n",
       "      <th></th>\n",
       "      <th>match_number</th>\n",
       "      <th>winner_runs</th>\n",
       "      <th>winner_wickets</th>\n",
       "    </tr>\n",
       "  </thead>\n",
       "  <tbody>\n",
       "    <tr>\n",
       "      <th>count</th>\n",
       "      <td>48.00</td>\n",
       "      <td>48.000000</td>\n",
       "      <td>48.000000</td>\n",
       "    </tr>\n",
       "    <tr>\n",
       "      <th>mean</th>\n",
       "      <td>24.50</td>\n",
       "      <td>62.958333</td>\n",
       "      <td>2.958333</td>\n",
       "    </tr>\n",
       "    <tr>\n",
       "      <th>std</th>\n",
       "      <td>14.00</td>\n",
       "      <td>85.779271</td>\n",
       "      <td>3.306720</td>\n",
       "    </tr>\n",
       "    <tr>\n",
       "      <th>min</th>\n",
       "      <td>1.00</td>\n",
       "      <td>0.000000</td>\n",
       "      <td>0.000000</td>\n",
       "    </tr>\n",
       "    <tr>\n",
       "      <th>25%</th>\n",
       "      <td>12.75</td>\n",
       "      <td>0.000000</td>\n",
       "      <td>0.000000</td>\n",
       "    </tr>\n",
       "    <tr>\n",
       "      <th>50%</th>\n",
       "      <td>24.50</td>\n",
       "      <td>2.500000</td>\n",
       "      <td>0.500000</td>\n",
       "    </tr>\n",
       "    <tr>\n",
       "      <th>75%</th>\n",
       "      <td>36.25</td>\n",
       "      <td>100.500000</td>\n",
       "      <td>6.000000</td>\n",
       "    </tr>\n",
       "    <tr>\n",
       "      <th>max</th>\n",
       "      <td>48.00</td>\n",
       "      <td>309.000000</td>\n",
       "      <td>9.000000</td>\n",
       "    </tr>\n",
       "  </tbody>\n",
       "</table>\n",
       "</div>"
      ],
      "text/plain": [
       "       match_number  winner_runs  winner_wickets\n",
       "count         48.00    48.000000       48.000000\n",
       "mean          24.50    62.958333        2.958333\n",
       "std           14.00    85.779271        3.306720\n",
       "min            1.00     0.000000        0.000000\n",
       "25%           12.75     0.000000        0.000000\n",
       "50%           24.50     2.500000        0.500000\n",
       "75%           36.25   100.500000        6.000000\n",
       "max           48.00   309.000000        9.000000"
      ]
     },
     "execution_count": 13,
     "metadata": {},
     "output_type": "execute_result"
    }
   ],
   "source": [
    "df.describe()"
   ]
  },
  {
   "cell_type": "code",
   "execution_count": 14,
   "id": "bcc1e916-235e-409f-be05-7c6868cb953d",
   "metadata": {},
   "outputs": [
    {
     "data": {
      "text/plain": [
       "38"
      ]
     },
     "execution_count": 14,
     "metadata": {},
     "output_type": "execute_result"
    }
   ],
   "source": [
    "df[\"city\"].duplicated().sum()"
   ]
  },
  {
   "cell_type": "code",
   "execution_count": 15,
   "id": "0c48fb11-05c0-4b44-a581-c8b29a85e0bc",
   "metadata": {},
   "outputs": [
    {
     "data": {
      "text/plain": [
       "city\n",
       "Ahmedabad     5\n",
       "Dharamsala    5\n",
       "Delhi         5\n",
       "Chennai       5\n",
       "Lucknow       5\n",
       "Pune          5\n",
       "Bengaluru     5\n",
       "Mumbai        5\n",
       "Kolkata       5\n",
       "Hyderabad     3\n",
       "Name: count, dtype: int64"
      ]
     },
     "execution_count": 15,
     "metadata": {},
     "output_type": "execute_result"
    }
   ],
   "source": [
    "df[\"city\"].value_counts()"
   ]
  },
  {
   "cell_type": "code",
   "execution_count": 16,
   "id": "c94af357-4c9e-45b2-b129-3d6ea5966af4",
   "metadata": {},
   "outputs": [],
   "source": [
    "city_counts=df.groupby('city').apply(lambda x:x['city'].count()).reset_index(name='Match Counts')"
   ]
  },
  {
   "cell_type": "code",
   "execution_count": 17,
   "id": "fe2ac4ad-f259-4e88-b2e4-d6edcbb1e88d",
   "metadata": {},
   "outputs": [
    {
     "data": {
      "text/plain": [
       "<Figure size 1400x800 with 0 Axes>"
      ]
     },
     "metadata": {},
     "output_type": "display_data"
    },
    {
     "data": {
      "image/png": "[encoded data removed]",
      "text/plain": [
       "<Figure size 640x480 with 1 Axes>"
      ]
     },
     "metadata": {},
     "output_type": "display_data"
    }
   ],
   "source": [
    "plt.figure(figsize=(14,8))\n",
    "city_counts.plot.pie(y = \"Match Counts\",labels= city_counts['city'],autopct='%.0f%%')\n",
    "plt.title(\"No of matches held by a city\")\n",
    "plt.show()"
   ]
  },
  {
   "cell_type": "code",
   "execution_count": 18,
   "id": "c24643ee-0675-49d0-a730-02e49026d26d",
   "metadata": {},
   "outputs": [
    {
     "data": {
      "text/html": [
       "<div>\n",
       "<style scoped>\n",
       "    .dataframe tbody tr th:only-of-type {\n",
       "        vertical-align: middle;\n",
       "    }\n",
       "\n",
       "    .dataframe tbody tr th {\n",
       "        vertical-align: top;\n",
       "    }\n",
       "\n",
       "    .dataframe thead th {\n",
       "        text-align: right;\n",
       "    }\n",
       "</style>\n",
       "<table border=\"1\" class=\"dataframe\">\n",
       "  <thead>\n",
       "    <tr style=\"text-align: right;\">\n",
       "      <th></th>\n",
       "      <th>player</th>\n",
       "      <th>dismissal</th>\n",
       "      <th>runs</th>\n",
       "      <th>balls</th>\n",
       "      <th>minutes</th>\n",
       "      <th>4s</th>\n",
       "      <th>6s</th>\n",
       "      <th>strike_rate</th>\n",
       "      <th>team</th>\n",
       "      <th>opponent</th>\n",
       "      <th>innings</th>\n",
       "      <th>match_id</th>\n",
       "    </tr>\n",
       "  </thead>\n",
       "  <tbody>\n",
       "    <tr>\n",
       "      <th>0</th>\n",
       "      <td>Rohit Sharma</td>\n",
       "      <td>b Madushanka</td>\n",
       "      <td>4</td>\n",
       "      <td>2</td>\n",
       "      <td>2</td>\n",
       "      <td>1</td>\n",
       "      <td>0</td>\n",
       "      <td>200.00</td>\n",
       "      <td>India</td>\n",
       "      <td>Sri Lanka</td>\n",
       "      <td>1</td>\n",
       "      <td>0</td>\n",
       "    </tr>\n",
       "    <tr>\n",
       "      <th>1</th>\n",
       "      <td>Shubman Gill</td>\n",
       "      <td>c Mendis b Madushanka</td>\n",
       "      <td>92</td>\n",
       "      <td>92</td>\n",
       "      <td>136</td>\n",
       "      <td>11</td>\n",
       "      <td>2</td>\n",
       "      <td>100.00</td>\n",
       "      <td>India</td>\n",
       "      <td>Sri Lanka</td>\n",
       "      <td>1</td>\n",
       "      <td>0</td>\n",
       "    </tr>\n",
       "    <tr>\n",
       "      <th>2</th>\n",
       "      <td>Virat Kohli</td>\n",
       "      <td>c Nissanka b Madushanka</td>\n",
       "      <td>88</td>\n",
       "      <td>94</td>\n",
       "      <td>139</td>\n",
       "      <td>11</td>\n",
       "      <td>0</td>\n",
       "      <td>93.61</td>\n",
       "      <td>India</td>\n",
       "      <td>Sri Lanka</td>\n",
       "      <td>1</td>\n",
       "      <td>0</td>\n",
       "    </tr>\n",
       "    <tr>\n",
       "      <th>3</th>\n",
       "      <td>Shreyas Iyer</td>\n",
       "      <td>c Theekshana b Madushanka</td>\n",
       "      <td>82</td>\n",
       "      <td>56</td>\n",
       "      <td>84</td>\n",
       "      <td>3</td>\n",
       "      <td>6</td>\n",
       "      <td>146.42</td>\n",
       "      <td>India</td>\n",
       "      <td>Sri Lanka</td>\n",
       "      <td>1</td>\n",
       "      <td>0</td>\n",
       "    </tr>\n",
       "    <tr>\n",
       "      <th>4</th>\n",
       "      <td>KL Rahul</td>\n",
       "      <td>c Hemantha b Chameera</td>\n",
       "      <td>21</td>\n",
       "      <td>19</td>\n",
       "      <td>34</td>\n",
       "      <td>2</td>\n",
       "      <td>0</td>\n",
       "      <td>110.52</td>\n",
       "      <td>India</td>\n",
       "      <td>Sri Lanka</td>\n",
       "      <td>1</td>\n",
       "      <td>0</td>\n",
       "    </tr>\n",
       "  </tbody>\n",
       "</table>\n",
       "</div>"
      ],
      "text/plain": [
       "         player                  dismissal  runs  balls  minutes  4s  6s  \\\n",
       "0  Rohit Sharma               b Madushanka     4      2        2   1   0   \n",
       "1  Shubman Gill      c Mendis b Madushanka    92     92      136  11   2   \n",
       "2   Virat Kohli    c Nissanka b Madushanka    88     94      139  11   0   \n",
       "3  Shreyas Iyer  c Theekshana b Madushanka    82     56       84   3   6   \n",
       "4      KL Rahul      c Hemantha b Chameera    21     19       34   2   0   \n",
       "\n",
       "   strike_rate   team   opponent  innings  match_id  \n",
       "0       200.00  India  Sri Lanka        1         0  \n",
       "1       100.00  India  Sri Lanka        1         0  \n",
       "2        93.61  India  Sri Lanka        1         0  \n",
       "3       146.42  India  Sri Lanka        1         0  \n",
       "4       110.52  India  Sri Lanka        1         0  "
      ]
     },
     "execution_count": 18,
     "metadata": {},
     "output_type": "execute_result"
    }
   ],
   "source": [
    "batting.head()"
   ]
  },
  {
   "cell_type": "code",
   "execution_count": 19,
   "id": "40c440f2-a3dd-4226-86c7-28da81631189",
   "metadata": {},
   "outputs": [],
   "source": [
    "batting_tot=batting.groupby('player').apply(lambda x:np.sum(x['runs'])).reset_index(name='Total Runs')"
   ]
  },
  {
   "cell_type": "code",
   "execution_count": 20,
   "id": "d7f8269d-4551-4ebe-a032-eaae722acd84",
   "metadata": {},
   "outputs": [],
   "source": [
    "top_bats = batting_tot.sort_values(by = \"Total Runs\",ascending=False)"
   ]
  },
  {
   "cell_type": "code",
   "execution_count": 21,
   "id": "0db9a299-1af5-4596-93e6-75c46e65e6c5",
   "metadata": {},
   "outputs": [],
   "source": [
    "top_runs = top_bats[:15]"
   ]
  },
  {
   "cell_type": "code",
   "execution_count": 22,
   "id": "594d1000-96db-4e04-a2aa-0cbe90915365",
   "metadata": {},
   "outputs": [
    {
     "data": {
      "text/html": [
       "<div>\n",
       "<style scoped>\n",
       "    .dataframe tbody tr th:only-of-type {\n",
       "        vertical-align: middle;\n",
       "    }\n",
       "\n",
       "    .dataframe tbody tr th {\n",
       "        vertical-align: top;\n",
       "    }\n",
       "\n",
       "    .dataframe thead th {\n",
       "        text-align: right;\n",
       "    }\n",
       "</style>\n",
       "<table border=\"1\" class=\"dataframe\">\n",
       "  <thead>\n",
       "    <tr style=\"text-align: right;\">\n",
       "      <th></th>\n",
       "      <th>player</th>\n",
       "      <th>Total Runs</th>\n",
       "    </tr>\n",
       "  </thead>\n",
       "  <tbody>\n",
       "    <tr>\n",
       "      <th>143</th>\n",
       "      <td>Virat Kohli</td>\n",
       "      <td>765</td>\n",
       "    </tr>\n",
       "    <tr>\n",
       "      <th>113</th>\n",
       "      <td>Rohit Sharma</td>\n",
       "      <td>597</td>\n",
       "    </tr>\n",
       "    <tr>\n",
       "      <th>103</th>\n",
       "      <td>Quinton de Kock</td>\n",
       "      <td>594</td>\n",
       "    </tr>\n",
       "    <tr>\n",
       "      <th>104</th>\n",
       "      <td>Rachin Ravindra</td>\n",
       "      <td>578</td>\n",
       "    </tr>\n",
       "    <tr>\n",
       "      <th>18</th>\n",
       "      <td>Daryl Mitchell</td>\n",
       "      <td>552</td>\n",
       "    </tr>\n",
       "    <tr>\n",
       "      <th>21</th>\n",
       "      <td>David Warner</td>\n",
       "      <td>535</td>\n",
       "    </tr>\n",
       "    <tr>\n",
       "      <th>125</th>\n",
       "      <td>Shreyas Iyer</td>\n",
       "      <td>530</td>\n",
       "    </tr>\n",
       "    <tr>\n",
       "      <th>56</th>\n",
       "      <td>KL Rahul</td>\n",
       "      <td>452</td>\n",
       "    </tr>\n",
       "    <tr>\n",
       "      <th>108</th>\n",
       "      <td>Rassie van der Dussen</td>\n",
       "      <td>448</td>\n",
       "    </tr>\n",
       "    <tr>\n",
       "      <th>82</th>\n",
       "      <td>Mitchell Marsh</td>\n",
       "      <td>441</td>\n",
       "    </tr>\n",
       "    <tr>\n",
       "      <th>4</th>\n",
       "      <td>Aiden Markram</td>\n",
       "      <td>406</td>\n",
       "    </tr>\n",
       "    <tr>\n",
       "      <th>23</th>\n",
       "      <td>Dawid Malan</td>\n",
       "      <td>404</td>\n",
       "    </tr>\n",
       "    <tr>\n",
       "      <th>34</th>\n",
       "      <td>Glenn Maxwell</td>\n",
       "      <td>400</td>\n",
       "    </tr>\n",
       "    <tr>\n",
       "      <th>88</th>\n",
       "      <td>Mohammad Rizwan</td>\n",
       "      <td>395</td>\n",
       "    </tr>\n",
       "    <tr>\n",
       "      <th>44</th>\n",
       "      <td>Ibrahim Zadran</td>\n",
       "      <td>376</td>\n",
       "    </tr>\n",
       "  </tbody>\n",
       "</table>\n",
       "</div>"
      ],
      "text/plain": [
       "                    player  Total Runs\n",
       "143            Virat Kohli         765\n",
       "113           Rohit Sharma         597\n",
       "103        Quinton de Kock         594\n",
       "104        Rachin Ravindra         578\n",
       "18          Daryl Mitchell         552\n",
       "21            David Warner         535\n",
       "125           Shreyas Iyer         530\n",
       "56                KL Rahul         452\n",
       "108  Rassie van der Dussen         448\n",
       "82          Mitchell Marsh         441\n",
       "4            Aiden Markram         406\n",
       "23             Dawid Malan         404\n",
       "34           Glenn Maxwell         400\n",
       "88         Mohammad Rizwan         395\n",
       "44          Ibrahim Zadran         376"
      ]
     },
     "execution_count": 22,
     "metadata": {},
     "output_type": "execute_result"
    }
   ],
   "source": [
    "top_runs"
   ]
  },
  {
   "cell_type": "code",
   "execution_count": 23,
   "id": "b7ac8ebb-4b9b-4551-b8ad-eb5c520c0419",
   "metadata": {},
   "outputs": [
    {
     "data": {
      "image/png": "[encoded data removed]",
      "text/plain": [
       "<Figure size 640x480 with 1 Axes>"
      ]
     },
     "metadata": {},
     "output_type": "display_data"
    }
   ],
   "source": [
    "sns.barplot(data=top_runs,x = \"Total Runs\",y = \"player\")\n",
    "plt.style.use(\"classic\")\n",
    "plt.xlabel(\"Total Runs\")\n",
    "plt.ylabel(\"Player\")\n",
    "plt.title(\"CWC 2023 Top 15 Runs Scorers \")\n",
    "plt.show()"
   ]
  },
  {
   "cell_type": "code",
   "execution_count": 24,
   "id": "badbfcf4-6a2c-4ba3-af4d-bc36315e1deb",
   "metadata": {},
   "outputs": [],
   "source": [
    "max_win=df.groupby('winner').apply(lambda x:x['winner'].count()).reset_index(name='Win Count')"
   ]
  },
  {
   "cell_type": "code",
   "execution_count": 25,
   "id": "8fd1e0ce-2d63-4c1b-b030-0459ccf6a2f1",
   "metadata": {},
   "outputs": [],
   "source": [
    "total_wickets=bowling.groupby('player').apply(lambda x:x['wickets'].count()).reset_index(name='Total Wickets')"
   ]
  },
  {
   "cell_type": "code",
   "execution_count": 26,
   "id": "e7f0cc43-d6cf-4003-9c37-129554d52b81",
   "metadata": {},
   "outputs": [],
   "source": [
    "sorted_wickets = total_wickets.sort_values(by = \"Total Wickets\",ascending=False)"
   ]
  },
  {
   "cell_type": "code",
   "execution_count": 27,
   "id": "8c7d8aa9-8dbb-4564-b84f-1959101deb8b",
   "metadata": {},
   "outputs": [],
   "source": [
    "highest_wicket_taker = sorted_wickets[:15]"
   ]
  },
  {
   "cell_type": "code",
   "execution_count": 28,
   "id": "88bdcc2b-b236-4869-b824-3e2b0c27adc4",
   "metadata": {},
   "outputs": [
    {
     "data": {
      "image/png": "[encoded data removed]",
      "text/plain": [
       "<Figure size 800x480 with 1 Axes>"
      ]
     },
     "metadata": {},
     "output_type": "display_data"
    }
   ],
   "source": [
    "plt.figure(figsize=(10,6))\n",
    "sns.barplot(data=highest_wicket_taker,x = \"player\",y = \"Total Wickets\")\n",
    "plt.xticks(rotation = 90)\n",
    "plt.xlabel(\"Player\")\n",
    "plt.title(\"Most Wicket Takers\")\n",
    "plt.style.use('classic')\n",
    "plt.show()"
   ]
  },
  {
   "cell_type": "code",
   "execution_count": null,
   "id": "3a84cbb5-c8c9-4eb6-81f3-9c3a1fc0d055",
   "metadata": {},
   "outputs": [],
   "source": []
  },
  {
   "cell_type": "code",
   "execution_count": 73,
   "id": "f379e991-f83f-4c3f-b6cd-fceee56e5bb6",
   "metadata": {},
   "outputs": [
    {
     "data": {
      "text/plain": [
       "toss_decision\n",
       "field    26\n",
       "bat      22\n",
       "Name: count, dtype: int64"
      ]
     },
     "execution_count": 73,
     "metadata": {},
     "output_type": "execute_result"
    }
   ],
   "source": [
    "df[\"toss_decision\"].value_counts()"
   ]
  },
  {
   "cell_type": "code",
   "execution_count": 71,
   "id": "f2472517-e4c5-42cc-a6bc-b22ad1cafb32",
   "metadata": {},
   "outputs": [
    {
     "data": {
      "image/png": "[encoded data removed]",
      "text/plain": [
       "<Figure size 640x480 with 1 Axes>"
      ]
     },
     "metadata": {},
     "output_type": "display_data"
    }
   ],
   "source": [
    "df[\"toss_decision\"].value_counts().plot.pie(autopct='%.0f%%',labels = [\"Feilding\",\"Batting\"])\n",
    "plt.style.use(\"classic\")\n",
    "plt.title(\"Decision Take by Teams\")\n",
    "plt.show()"
   ]
  },
  {
   "cell_type": "code",
   "execution_count": null,
   "id": "5cf305ec-ef49-4d72-9901-e60e9577bc3e",
   "metadata": {},
   "outputs": [],
   "source": []
  },
  {
   "cell_type": "code",
   "execution_count": 141,
   "id": "3febe2f3-e16b-4a9e-8dd0-7634cfb3bd1c",
   "metadata": {},
   "outputs": [],
   "source": [
    "winners = df[df[\"match_type\"]==\"Final\"].iloc[:,14:15]"
   ]
  },
  {
   "cell_type": "code",
   "execution_count": 142,
   "id": "ee0e7a63-028c-4fd4-8e70-d283bf9cfdfb",
   "metadata": {},
   "outputs": [
    {
     "data": {
      "text/html": [
       "<div>\n",
       "<style scoped>\n",
       "    .dataframe tbody tr th:only-of-type {\n",
       "        vertical-align: middle;\n",
       "    }\n",
       "\n",
       "    .dataframe tbody tr th {\n",
       "        vertical-align: top;\n",
       "    }\n",
       "\n",
       "    .dataframe thead th {\n",
       "        text-align: right;\n",
       "    }\n",
       "</style>\n",
       "<table border=\"1\" class=\"dataframe\">\n",
       "  <thead>\n",
       "    <tr style=\"text-align: right;\">\n",
       "      <th></th>\n",
       "      <th>winner</th>\n",
       "    </tr>\n",
       "  </thead>\n",
       "  <tbody>\n",
       "    <tr>\n",
       "      <th>47</th>\n",
       "      <td>Australia</td>\n",
       "    </tr>\n",
       "  </tbody>\n",
       "</table>\n",
       "</div>"
      ],
      "text/plain": [
       "       winner\n",
       "47  Australia"
      ]
     },
     "execution_count": 142,
     "metadata": {},
     "output_type": "execute_result"
    }
   ],
   "source": [
    "winners"
   ]
  },
  {
   "cell_type": "code",
   "execution_count": null,
   "id": "84acb3e6-fe23-41aa-9141-6029ce6b8f63",
   "metadata": {},
   "outputs": [],
   "source": []
  },
  {
   "cell_type": "code",
   "execution_count": 144,
   "id": "25530af9-6f8d-4656-ac21-9b7bd63edfd6",
   "metadata": {},
   "outputs": [],
   "source": [
    "player_of_the_match = df[df[\"match_type\"]==\"Final\"].iloc[:,9:10]"
   ]
  },
  {
   "cell_type": "code",
   "execution_count": 145,
   "id": "0e4cc33e-4a88-4f64-b6c7-c11dc6c236ed",
   "metadata": {},
   "outputs": [
    {
     "data": {
      "text/html": [
       "<div>\n",
       "<style scoped>\n",
       "    .dataframe tbody tr th:only-of-type {\n",
       "        vertical-align: middle;\n",
       "    }\n",
       "\n",
       "    .dataframe tbody tr th {\n",
       "        vertical-align: top;\n",
       "    }\n",
       "\n",
       "    .dataframe thead th {\n",
       "        text-align: right;\n",
       "    }\n",
       "</style>\n",
       "<table border=\"1\" class=\"dataframe\">\n",
       "  <thead>\n",
       "    <tr style=\"text-align: right;\">\n",
       "      <th></th>\n",
       "      <th>player_of_match</th>\n",
       "    </tr>\n",
       "  </thead>\n",
       "  <tbody>\n",
       "    <tr>\n",
       "      <th>47</th>\n",
       "      <td>TM Head</td>\n",
       "    </tr>\n",
       "  </tbody>\n",
       "</table>\n",
       "</div>"
      ],
      "text/plain": [
       "   player_of_match\n",
       "47         TM Head"
      ]
     },
     "execution_count": 145,
     "metadata": {},
     "output_type": "execute_result"
    }
   ],
   "source": [
    "player_of_the_match"
   ]
  },
  {
   "cell_type": "code",
   "execution_count": null,
   "id": "f2b3e73f-cfb4-4be4-82b7-3759f8f4d1b2",
   "metadata": {},
   "outputs": [],
   "source": []
  },
  {
   "cell_type": "code",
   "execution_count": 192,
   "id": "90b4d58f-a60a-4250-8414-acc585b223f2",
   "metadata": {},
   "outputs": [],
   "source": [
    "import plotly as pt"
   ]
  },
  {
   "cell_type": "code",
   "execution_count": 193,
   "id": "7b690ba6-31d0-4097-9adb-794c286c3461",
   "metadata": {},
   "outputs": [
    {
     "data": {
      "application/vnd.plotly.v1+json": {
       "config": {
        "plotlyServerURL": "https://plot.ly"
       },
       "data": [
        {
         "hovertemplate": "color=Rohit Sharma<br>index=%{x}<br>value=%{y}<extra></extra>",
         "legendgroup": "Rohit Sharma",
         "marker": {
          "color": "#636efa",
          "symbol": "circle"
         },
         "mode": "markers",
         "name": "Rohit Sharma",
         "orientation": "v",
         "showlegend": true,
         "type": "scatter",
         "x": [
          0,
          20,
          31,
          92,
          358,
          408,
          535,
          572,
          637,
          748,
          838
         ],
         "xaxis": "x",
         "y": [
          200,
          151.61,
          86.13,
          162.06,
          166.66,
          112.96,
          136.5,
          115,
          0,
          120,
          155.95
         ],
         "yaxis": "y"
        },
        {
         "hovertemplate": "color=Shubman Gill<br>index=%{x}<br>value=%{y}<extra></extra>",
         "legendgroup": "Shubman Gill",
         "marker": {
          "color": "#EF553B",
          "symbol": "circle"
         },
         "mode": "markers",
         "name": "Shubman Gill",
         "orientation": "v",
         "showlegend": true,
         "type": "scatter",
         "x": [
          1,
          21,
          32,
          93,
          359,
          409,
          536,
          573,
          749
         ],
         "xaxis": "x",
         "y": [
          100,
          57.14,
          69.23,
          121.21,
          95.83,
          159.37,
          145.45,
          83.87,
          96.36
         ],
         "yaxis": "y"
        },
        {
         "hovertemplate": "color=Virat Kohli<br>index=%{x}<br>value=%{y}<extra></extra>",
         "legendgroup": "Virat Kohli",
         "marker": {
          "color": "#00cc96",
          "symbol": "circle"
         },
         "mode": "markers",
         "name": "Virat Kohli",
         "orientation": "v",
         "showlegend": true,
         "type": "scatter",
         "x": [
          2,
          22,
          33,
          94,
          360,
          410,
          537,
          574,
          639,
          750,
          840
         ],
         "xaxis": "x",
         "y": [
          93.61,
          85.71,
          0,
          103.53,
          83.47,
          91.07,
          88.88,
          91.34,
          73.27,
          106.18,
          98.21
         ],
         "yaxis": "y"
        },
        {
         "hovertemplate": "color=Shreyas Iyer<br>index=%{x}<br>value=%{y}<extra></extra>",
         "legendgroup": "Shreyas Iyer",
         "marker": {
          "color": "#ab63fa",
          "symbol": "circle"
         },
         "mode": "markers",
         "name": "Shreyas Iyer",
         "orientation": "v",
         "showlegend": true,
         "type": "scatter",
         "x": [
          3,
          23,
          34,
          95,
          361,
          411,
          538,
          575,
          640,
          751,
          841
         ],
         "xaxis": "x",
         "y": [
          146.42,
          133.33,
          25,
          150,
          88.5,
          136.17,
          85.48,
          113.79,
          0,
          76,
          108.69
         ],
         "yaxis": "y"
        },
        {
         "hovertemplate": "color=KL Rahul<br>index=%{x}<br>value=%{y}<extra></extra>",
         "legendgroup": "KL Rahul",
         "marker": {
          "color": "#FFA15A",
          "symbol": "circle"
         },
         "mode": "markers",
         "name": "KL Rahul",
         "orientation": "v",
         "showlegend": true,
         "type": "scatter",
         "x": [
          4,
          24,
          35,
          96,
          362,
          412,
          539,
          576,
          641,
          752
         ],
         "xaxis": "x",
         "y": [
          110.52,
          61.68,
          67.24,
          195,
          47.05,
          159.37,
          65.51,
          77.14,
          84.34,
          100
         ],
         "yaxis": "y"
        },
        {
         "hovertemplate": "color=Suryakumar Yadav<br>index=%{x}<br>value=%{y}<extra></extra>",
         "legendgroup": "Suryakumar Yadav",
         "marker": {
          "color": "#19d3f3",
          "symbol": "circle"
         },
         "mode": "markers",
         "name": "Suryakumar Yadav",
         "orientation": "v",
         "showlegend": true,
         "type": "scatter",
         "x": [
          5,
          26,
          36,
          97,
          363,
          413,
          577
         ],
         "xaxis": "x",
         "y": [
          133.33,
          64.28,
          104.25,
          50,
          157.14,
          200,
          50
         ],
         "yaxis": "y"
        },
        {
         "hovertemplate": "color=Ravindra Jadeja<br>index=%{x}<br>value=%{y}<extra></extra>",
         "legendgroup": "Ravindra Jadeja",
         "marker": {
          "color": "#FF6692",
          "symbol": "circle"
         },
         "mode": "markers",
         "name": "Ravindra Jadeja",
         "orientation": "v",
         "showlegend": true,
         "type": "scatter",
         "x": [
          6,
          25,
          37,
          364,
          578
         ],
         "xaxis": "x",
         "y": [
          145.83,
          40.9,
          61.53,
          193.33,
          88.63
         ],
         "yaxis": "y"
        },
        {
         "hovertemplate": "color=Mohammed Shami<br>index=%{x}<br>value=%{y}<extra></extra>",
         "legendgroup": "Mohammed Shami",
         "marker": {
          "color": "#B6E880",
          "symbol": "circle"
         },
         "mode": "markers",
         "name": "Mohammed Shami",
         "orientation": "v",
         "showlegend": true,
         "type": "scatter",
         "x": [
          7,
          27,
          38,
          579
         ],
         "xaxis": "x",
         "y": [
          50,
          60,
          20,
          100
         ],
         "yaxis": "y"
        },
        {
         "hovertemplate": "color=Jasprit Bumrah<br>index=%{x}<br>value=%{y}<extra></extra>",
         "legendgroup": "Jasprit Bumrah",
         "marker": {
          "color": "#FF97FF",
          "symbol": "circle"
         },
         "mode": "markers",
         "name": "Jasprit Bumrah",
         "orientation": "v",
         "showlegend": true,
         "type": "scatter",
         "x": [
          8,
          28,
          39
         ],
         "xaxis": "x",
         "y": [
          100,
          33.33,
          64
         ],
         "yaxis": "y"
        },
        {
         "hovertemplate": "color=Fakhar Zaman<br>index=%{x}<br>value=%{y}<extra></extra>",
         "legendgroup": "Fakhar Zaman",
         "marker": {
          "color": "#FECB52",
          "symbol": "circle"
         },
         "mode": "markers",
         "name": "Fakhar Zaman",
         "orientation": "v",
         "showlegend": true,
         "type": "scatter",
         "x": [
          9,
          814,
          836,
          865
         ],
         "xaxis": "x",
         "y": [
          80,
          109.45,
          155.55,
          11.11
         ],
         "yaxis": "y"
        },
        {
         "hovertemplate": "color=Imam-ul-Haq<br>index=%{x}<br>value=%{y}<extra></extra>",
         "legendgroup": "Imam-ul-Haq",
         "marker": {
          "color": "#636efa",
          "symbol": "circle"
         },
         "mode": "markers",
         "name": "Imam-ul-Haq",
         "orientation": "v",
         "showlegend": true,
         "type": "scatter",
         "x": [
          10,
          71,
          287,
          433,
          792,
          819
         ],
         "xaxis": "x",
         "y": [
          78.94,
          94.73,
          66.66,
          77.27,
          98.59,
          100
         ],
         "yaxis": "y"
        },
        {
         "hovertemplate": "color=Babar Azam<br>index=%{x}<br>value=%{y}<extra></extra>",
         "legendgroup": "Babar Azam",
         "marker": {
          "color": "#EF553B",
          "symbol": "circle"
         },
         "mode": "markers",
         "name": "Babar Azam",
         "orientation": "v",
         "showlegend": true,
         "type": "scatter",
         "x": [
          11,
          72,
          288,
          434,
          793,
          815,
          820,
          837,
          866
         ],
         "xaxis": "x",
         "y": [
          27.77,
          86.2,
          76.92,
          80.43,
          128.57,
          56.25,
          66.66,
          104.76,
          84.44
         ],
         "yaxis": "y"
        },
        {
         "hovertemplate": "color=Mohammad Rizwan<br>index=%{x}<br>value=%{y}<extra></extra>",
         "legendgroup": "Mohammad Rizwan",
         "marker": {
          "color": "#00cc96",
          "symbol": "circle"
         },
         "mode": "markers",
         "name": "Mohammad Rizwan",
         "orientation": "v",
         "showlegend": true,
         "type": "scatter",
         "x": [
          12,
          73,
          289,
          435,
          794,
          816,
          821,
          867
         ],
         "xaxis": "x",
         "y": [
          90.66,
          71.01,
          114.81,
          80,
          115,
          123.8,
          108.26,
          70.58
         ],
         "yaxis": "y"
        },
        {
         "hovertemplate": "color=Saud Shakeel<br>index=%{x}<br>value=%{y}<extra></extra>",
         "legendgroup": "Saud Shakeel",
         "marker": {
          "color": "#ab63fa",
          "symbol": "circle"
         },
         "mode": "markers",
         "name": "Saud Shakeel",
         "orientation": "v",
         "showlegend": true,
         "type": "scatter",
         "x": [
          13,
          74,
          291,
          436,
          795,
          822,
          868
         ],
         "xaxis": "x",
         "y": [
          130.76,
          60,
          100,
          73.52,
          96.77,
          103.33,
          78.37
         ],
         "yaxis": "y"
        },
        {
         "hovertemplate": "color=Iftikhar Ahmed<br>index=%{x}<br>value=%{y}<extra></extra>",
         "legendgroup": "Iftikhar Ahmed",
         "marker": {
          "color": "#FFA15A",
          "symbol": "circle"
         },
         "mode": "markers",
         "name": "Iftikhar Ahmed",
         "orientation": "v",
         "showlegend": true,
         "type": "scatter",
         "x": [
          14,
          75,
          290,
          438,
          796,
          817,
          823,
          870
         ],
         "xaxis": "x",
         "y": [
          81.81,
          100,
          67.74,
          148.14,
          130,
          113.33,
          220,
          60
         ],
         "yaxis": "y"
        },
        {
         "hovertemplate": "color=Mohammad Nawaz<br>index=%{x}<br>value=%{y}<extra></extra>",
         "legendgroup": "Mohammad Nawaz",
         "marker": {
          "color": "#19d3f3",
          "symbol": "circle"
         },
         "mode": "markers",
         "name": "Mohammad Nawaz",
         "orientation": "v",
         "showlegend": true,
         "type": "scatter",
         "x": [
          15,
          77,
          293,
          797
         ],
         "xaxis": "x",
         "y": [
          90.69,
          28.57,
          100,
          87.5
         ],
         "yaxis": "y"
        },
        {
         "hovertemplate": "color=Shadab Khan<br>index=%{x}<br>value=%{y}<extra></extra>",
         "legendgroup": "Shadab Khan",
         "marker": {
          "color": "#FF6692",
          "symbol": "circle"
         },
         "mode": "markers",
         "name": "Shadab Khan",
         "orientation": "v",
         "showlegend": true,
         "type": "scatter",
         "x": [
          16,
          76,
          292,
          437,
          871
         ],
         "xaxis": "x",
         "y": [
          94.11,
          40,
          119.44,
          105.26,
          57.14
         ],
         "yaxis": "y"
        },
        {
         "hovertemplate": "color=Hasan Ali<br>index=%{x}<br>value=%{y}<extra></extra>",
         "legendgroup": "Hasan Ali",
         "marker": {
          "color": "#B6E880",
          "symbol": "circle"
         },
         "mode": "markers",
         "name": "Hasan Ali",
         "orientation": "v",
         "showlegend": true,
         "type": "scatter",
         "x": [
          17,
          78,
          800
         ],
         "xaxis": "x",
         "y": [
          0,
          63.15,
          100
         ],
         "yaxis": "y"
        },
        {
         "hovertemplate": "color=Shaheen Shah Afridi<br>index=%{x}<br>value=%{y}<extra></extra>",
         "legendgroup": "Shaheen Shah Afridi",
         "marker": {
          "color": "#FF97FF",
          "symbol": "circle"
         },
         "mode": "markers",
         "name": "Shaheen Shah Afridi",
         "orientation": "v",
         "showlegend": true,
         "type": "scatter",
         "x": [
          18,
          79,
          294,
          439,
          799,
          872
         ],
         "xaxis": "x",
         "y": [
          108.33,
          20,
          50,
          100,
          125,
          108.69
         ],
         "yaxis": "y"
        },
        {
         "hovertemplate": "color=Haris Rauf<br>index=%{x}<br>value=%{y}<extra></extra>",
         "legendgroup": "Haris Rauf",
         "marker": {
          "color": "#FECB52",
          "symbol": "circle"
         },
         "mode": "markers",
         "name": "Haris Rauf",
         "orientation": "v",
         "showlegend": true,
         "type": "scatter",
         "x": [
          19,
          80,
          296,
          801,
          874
         ],
         "xaxis": "x",
         "y": [
          114.28,
          33.33,
          0,
          0,
          152.17
         ],
         "yaxis": "y"
        },
        {
         "hovertemplate": "color=Kuldeep Yadav<br>index=%{x}<br>value=%{y}<extra></extra>",
         "legendgroup": "Kuldeep Yadav",
         "marker": {
          "color": "#636efa",
          "symbol": "circle"
         },
         "mode": "markers",
         "name": "Kuldeep Yadav",
         "orientation": "v",
         "showlegend": true,
         "type": "scatter",
         "x": [
          29,
          40
         ],
         "xaxis": "x",
         "y": [
          55.55,
          69.23
         ],
         "yaxis": "y"
        },
        {
         "hovertemplate": "color=Mohammed Siraj<br>index=%{x}<br>value=%{y}<extra></extra>",
         "legendgroup": "Mohammed Siraj",
         "marker": {
          "color": "#EF553B",
          "symbol": "circle"
         },
         "mode": "markers",
         "name": "Mohammed Siraj",
         "orientation": "v",
         "showlegend": true,
         "type": "scatter",
         "x": [
          30
         ],
         "xaxis": "x",
         "y": [
          112.5
         ],
         "yaxis": "y"
        },
        {
         "hovertemplate": "color=Vikramjit Singh<br>index=%{x}<br>value=%{y}<extra></extra>",
         "legendgroup": "Vikramjit Singh",
         "marker": {
          "color": "#00cc96",
          "symbol": "circle"
         },
         "mode": "markers",
         "name": "Vikramjit Singh",
         "orientation": "v",
         "showlegend": true,
         "type": "scatter",
         "x": [
          41,
          142,
          451,
          484,
          684,
          737
         ],
         "xaxis": "x",
         "y": [
          30.76,
          12.5,
          33.33,
          77.61,
          60,
          100
         ],
         "yaxis": "y"
        },
        {
         "hovertemplate": "color=Max O'Dowd<br>index=%{x}<br>value=%{y}<extra></extra>",
         "legendgroup": "Max O'Dowd",
         "marker": {
          "color": "#ab63fa",
          "symbol": "circle"
         },
         "mode": "markers",
         "name": "Max O'Dowd",
         "orientation": "v",
         "showlegend": true,
         "type": "scatter",
         "x": [
          42,
          99,
          143,
          452,
          485,
          685,
          738,
          803,
          825
         ],
         "xaxis": "x",
         "y": [
          59.25,
          105,
          72,
          0,
          41.66,
          51.61,
          66.66,
          45.45,
          71.42
         ],
         "yaxis": "y"
        },
        {
         "hovertemplate": "color=Colin Ackermann<br>index=%{x}<br>value=%{y}<extra></extra>",
         "legendgroup": "Colin Ackermann",
         "marker": {
          "color": "#FFA15A",
          "symbol": "circle"
         },
         "mode": "markers",
         "name": "Colin Ackermann",
         "orientation": "v",
         "showlegend": true,
         "type": "scatter",
         "x": [
          43,
          100,
          144,
          454,
          486,
          686,
          739,
          804,
          826
         ],
         "xaxis": "x",
         "y": [
          93.54,
          82.85,
          48,
          45.45,
          80.95,
          94.52,
          90.9,
          0,
          109.37
         ],
         "yaxis": "y"
        },
        {
         "hovertemplate": "color=Bas de Leede<br>index=%{x}<br>value=%{y}<extra></extra>",
         "legendgroup": "Bas de Leede",
         "marker": {
          "color": "#19d3f3",
          "symbol": "circle"
         },
         "mode": "markers",
         "name": "Bas de Leede",
         "orientation": "v",
         "showlegend": true,
         "type": "scatter",
         "x": [
          44,
          103,
          145,
          456,
          487,
          687,
          741,
          807,
          829
         ],
         "xaxis": "x",
         "y": [
          28.57,
          50,
          28.57,
          53.12,
          98.52,
          72,
          57.14,
          83.33,
          57.14
         ],
         "yaxis": "y"
        },
        {
         "hovertemplate": "color=Teja Nidamanuru<br>index=%{x}<br>value=%{y}<extra></extra>",
         "legendgroup": "Teja Nidamanuru",
         "marker": {
          "color": "#FF6692",
          "symbol": "circle"
         },
         "mode": "markers",
         "name": "Teja Nidamanuru",
         "orientation": "v",
         "showlegend": true,
         "type": "scatter",
         "x": [
          45,
          147,
          488,
          688,
          743,
          808,
          830
         ],
         "xaxis": "x",
         "y": [
          56.25,
          80,
          55.55,
          80.76,
          77.77,
          120.58,
          138.46
         ],
         "yaxis": "y"
        },
        {
         "hovertemplate": "color=Scott Edwards<br>index=%{x}<br>value=%{y}<extra></extra>",
         "legendgroup": "Scott Edwards",
         "marker": {
          "color": "#B6E880",
          "symbol": "circle"
         },
         "mode": "markers",
         "name": "Scott Edwards",
         "orientation": "v",
         "showlegend": true,
         "type": "scatter",
         "x": [
          46,
          102,
          148,
          455,
          489,
          689,
          742,
          806,
          828
         ],
         "xaxis": "x",
         "y": [
          100,
          0,
          113.04,
          76.4,
          0,
          111.11,
          54.54,
          90.47,
          56.66
         ],
         "yaxis": "y"
        },
        {
         "hovertemplate": "color=Sybrand Engelbrecht<br>index=%{x}<br>value=%{y}<extra></extra>",
         "legendgroup": "Sybrand Engelbrecht",
         "marker": {
          "color": "#FF97FF",
          "symbol": "circle"
         },
         "mode": "markers",
         "name": "Sybrand Engelbrecht",
         "orientation": "v",
         "showlegend": true,
         "type": "scatter",
         "x": [
          47,
          101,
          146,
          457,
          690,
          740,
          805,
          827
         ],
         "xaxis": "x",
         "y": [
          85.36,
          67.44,
          51.35,
          57.37,
          85.29,
          52.38,
          67.34,
          56.25
         ],
         "yaxis": "y"
        },
        {
         "hovertemplate": "color=Logan van Beek<br>index=%{x}<br>value=%{y}<extra></extra>",
         "legendgroup": "Logan van Beek",
         "marker": {
          "color": "#FECB52",
          "symbol": "circle"
         },
         "mode": "markers",
         "name": "Logan van Beek",
         "orientation": "v",
         "showlegend": true,
         "type": "scatter",
         "x": [
          48,
          105,
          149,
          458,
          492,
          744,
          809,
          831
         ],
         "xaxis": "x",
         "y": [
          78.66,
          15.38,
          37.03,
          143.75,
          100,
          0,
          100,
          106.66
         ],
         "yaxis": "y"
        },
        {
         "hovertemplate": "color=Roelof van der Merwe<br>index=%{x}<br>value=%{y}<extra></extra>",
         "legendgroup": "Roelof van der Merwe",
         "marker": {
          "color": "#636efa",
          "symbol": "circle"
         },
         "mode": "markers",
         "name": "Roelof van der Merwe",
         "orientation": "v",
         "showlegend": true,
         "type": "scatter",
         "x": [
          49,
          106,
          150,
          491,
          691,
          745,
          810,
          832
         ],
         "xaxis": "x",
         "y": [
          100,
          33.33,
          152.63,
          57.14,
          16.66,
          0,
          0,
          200
         ],
         "yaxis": "y"
        },
        {
         "hovertemplate": "color=Aryan Dutt<br>index=%{x}<br>value=%{y}<extra></extra>",
         "legendgroup": "Aryan Dutt",
         "marker": {
          "color": "#EF553B",
          "symbol": "circle"
         },
         "mode": "markers",
         "name": "Aryan Dutt",
         "orientation": "v",
         "showlegend": true,
         "type": "scatter",
         "x": [
          50,
          107,
          151,
          460,
          493,
          693,
          746,
          811,
          833
         ],
         "xaxis": "x",
         "y": [
          150,
          45.45,
          255.55,
          150,
          50,
          55,
          12.5,
          33.33,
          45.45
         ],
         "yaxis": "y"
        },
        {
         "hovertemplate": "color=Paul van Meekeren<br>index=%{x}<br>value=%{y}<extra></extra>",
         "legendgroup": "Paul van Meekeren",
         "marker": {
          "color": "#00cc96",
          "symbol": "circle"
         },
         "mode": "markers",
         "name": "Paul van Meekeren",
         "orientation": "v",
         "showlegend": true,
         "type": "scatter",
         "x": [
          51,
          108,
          461,
          494,
          694,
          747,
          812,
          834
         ],
         "xaxis": "x",
         "y": [
          80,
          16.66,
          0,
          58.33,
          133.33,
          0,
          133.33,
          75
         ],
         "yaxis": "y"
        },
        {
         "hovertemplate": "color=Quinton de Kock<br>index=%{x}<br>value=%{y}<extra></extra>",
         "legendgroup": "Quinton de Kock",
         "marker": {
          "color": "#ab63fa",
          "symbol": "circle"
         },
         "mode": "markers",
         "name": "Quinton de Kock",
         "orientation": "v",
         "showlegend": true,
         "type": "scatter",
         "x": [
          52,
          152,
          161,
          297,
          303,
          330,
          592,
          705,
          780,
          846
         ],
         "xaxis": "x",
         "y": [
          124.28,
          200,
          21.42,
          98.27,
          119.04,
          102.83,
          90.9,
          171.42,
          50,
          87.23
         ],
         "yaxis": "y"
        },
        {
         "hovertemplate": "color=Reeza Hendricks<br>index=%{x}<br>value=%{y}<extra></extra>",
         "legendgroup": "Reeza Hendricks",
         "marker": {
          "color": "#FFA15A",
          "symbol": "circle"
         },
         "mode": "markers",
         "name": "Reeza Hendricks",
         "orientation": "v",
         "showlegend": true,
         "type": "scatter",
         "x": [
          53,
          153
         ],
         "xaxis": "x",
         "y": [
          63.15,
          113.33
         ],
         "yaxis": "y"
        },
        {
         "hovertemplate": "color=Rassie van der Dussen<br>index=%{x}<br>value=%{y}<extra></extra>",
         "legendgroup": "Rassie van der Dussen",
         "marker": {
          "color": "#19d3f3",
          "symbol": "circle"
         },
         "mode": "markers",
         "name": "Rassie van der Dussen",
         "orientation": "v",
         "showlegend": true,
         "type": "scatter",
         "x": [
          54,
          154,
          163,
          299,
          305,
          332,
          593,
          706,
          782,
          848
         ],
         "xaxis": "x",
         "y": [
          14.28,
          98.36,
          19.35,
          112.71,
          98.18,
          86.66,
          57.14,
          53.84,
          40.62,
          80
         ],
         "yaxis": "y"
        },
        {
         "hovertemplate": "color=Aiden Markram<br>index=%{x}<br>value=%{y}<extra></extra>",
         "legendgroup": "Aiden Markram",
         "marker": {
          "color": "#FF6692",
          "symbol": "circle"
         },
         "mode": "markers",
         "name": "Aiden Markram",
         "orientation": "v",
         "showlegend": true,
         "type": "scatter",
         "x": [
          55,
          155,
          164,
          302,
          306,
          333,
          594,
          707,
          783,
          849
         ],
         "xaxis": "x",
         "y": [
          86.95,
          95.45,
          50,
          600,
          196.29,
          127.27,
          33.33,
          97.84,
          150,
          78.12
         ],
         "yaxis": "y"
        },
        {
         "hovertemplate": "color=Heinrich Klaasen<br>index=%{x}<br>value=%{y}<extra></extra>",
         "legendgroup": "Heinrich Klaasen",
         "marker": {
          "color": "#B6E880",
          "symbol": "circle"
         },
         "mode": "markers",
         "name": "Heinrich Klaasen",
         "orientation": "v",
         "showlegend": true,
         "type": "scatter",
         "x": [
          56,
          156,
          165,
          301,
          307,
          334,
          595,
          708,
          784,
          850
         ],
         "xaxis": "x",
         "y": [
          183.67,
          162.68,
          97.91,
          214.28,
          160,
          107.4,
          100,
          120,
          9.09,
          76.92
         ],
         "yaxis": "y"
        },
        {
         "hovertemplate": "color=David Miller<br>index=%{x}<br>value=%{y}<extra></extra>",
         "legendgroup": "David Miller",
         "marker": {
          "color": "#FF97FF",
          "symbol": "circle"
         },
         "mode": "markers",
         "name": "David Miller",
         "orientation": "v",
         "showlegend": true,
         "type": "scatter",
         "x": [
          57,
          157,
          166,
          300,
          308,
          335,
          596,
          709,
          785,
          851
         ],
         "xaxis": "x",
         "y": [
          226.66,
          83.33,
          87.06,
          176.66,
          185.71,
          130.76,
          82.69,
          87.87,
          100,
          72.72
         ],
         "yaxis": "y"
        },
        {
         "hovertemplate": "color=Marco Jansen<br>index=%{x}<br>value=%{y}<extra></extra>",
         "legendgroup": "Marco Jansen",
         "marker": {
          "color": "#FECB52",
          "symbol": "circle"
         },
         "mode": "markers",
         "name": "Marco Jansen",
         "orientation": "v",
         "showlegend": true,
         "type": "scatter",
         "x": [
          58,
          158,
          167,
          309,
          336,
          597,
          710,
          786
         ],
         "xaxis": "x",
         "y": [
          100,
          178.57,
          0,
          171.42,
          118.18,
          36,
          142.85,
          46.66
         ],
         "yaxis": "y"
        },
        {
         "hovertemplate": "color=Litton Das<br>index=%{x}<br>value=%{y}<extra></extra>",
         "legendgroup": "Litton Das",
         "marker": {
          "color": "#636efa",
          "symbol": "circle"
         },
         "mode": "markers",
         "name": "Litton Das",
         "orientation": "v",
         "showlegend": true,
         "type": "scatter",
         "x": [
          59,
          228,
          321,
          388,
          520,
          564,
          632,
          658,
          853
         ],
         "xaxis": "x",
         "y": [
          0,
          80,
          80.48,
          70.31,
          50,
          104.54,
          72.22,
          115.15,
          25
         ],
         "yaxis": "y"
        },
        {
         "hovertemplate": "color=Tanzid Hasan<br>index=%{x}<br>value=%{y}<extra></extra>",
         "legendgroup": "Tanzid Hasan",
         "marker": {
          "color": "#EF553B",
          "symbol": "circle"
         },
         "mode": "markers",
         "name": "Tanzid Hasan",
         "orientation": "v",
         "showlegend": true,
         "type": "scatter",
         "x": [
          60,
          227,
          320,
          387,
          519,
          563,
          631,
          659,
          854
         ],
         "xaxis": "x",
         "y": [
          94.11,
          105.88,
          118.6,
          0,
          70.58,
          180,
          38.46,
          50,
          93.75
         ],
         "yaxis": "y"
        },
        {
         "hovertemplate": "color=Mehidy Hasan Miraz<br>index=%{x}<br>value=%{y}<extra></extra>",
         "legendgroup": "Mehidy Hasan Miraz",
         "marker": {
          "color": "#00cc96",
          "symbol": "circle"
         },
         "mode": "markers",
         "name": "Mehidy Hasan Miraz",
         "orientation": "v",
         "showlegend": true,
         "type": "scatter",
         "x": [
          61,
          233,
          323,
          394,
          525,
          570,
          633,
          662,
          855
         ],
         "xaxis": "x",
         "y": [
          65.21,
          145,
          23.07,
          83.33,
          57.89,
          60,
          78.08,
          114.28,
          87.5
         ],
         "yaxis": "y"
        },
        {
         "hovertemplate": "color=Najmul Hossain Shanto<br>index=%{x}<br>value=%{y}<extra></extra>",
         "legendgroup": "Najmul Hossain Shanto",
         "marker": {
          "color": "#ab63fa",
          "symbol": "circle"
         },
         "mode": "markers",
         "name": "Najmul Hossain Shanto",
         "orientation": "v",
         "showlegend": true,
         "type": "scatter",
         "x": [
          62,
          229,
          322,
          389,
          521,
          565,
          634,
          660,
          856
         ],
         "xaxis": "x",
         "y": [
          87.5,
          78.94,
          47.05,
          133.33,
          0,
          89.1,
          71.08,
          0,
          50
         ],
         "yaxis": "y"
        },
        {
         "hovertemplate": "color=Shakib Al Hasan<br>index=%{x}<br>value=%{y}<extra></extra>",
         "legendgroup": "Shakib Al Hasan",
         "marker": {
          "color": "#FFA15A",
          "symbol": "circle"
         },
         "mode": "markers",
         "name": "Shakib Al Hasan",
         "orientation": "v",
         "showlegend": true,
         "type": "scatter",
         "x": [
          63,
          392,
          522,
          566,
          635,
          661,
          857
         ],
         "xaxis": "x",
         "y": [
          78.43,
          67.18,
          25,
          126.15,
          73.68,
          11.11,
          35.71
         ],
         "yaxis": "y"
        },
        {
         "hovertemplate": "color=Mushfiqur Rahim<br>index=%{x}<br>value=%{y}<extra></extra>",
         "legendgroup": "Mushfiqur Rahim",
         "marker": {
          "color": "#19d3f3",
          "symbol": "circle"
         },
         "mode": "markers",
         "name": "Mushfiqur Rahim",
         "orientation": "v",
         "showlegend": true,
         "type": "scatter",
         "x": [
          64,
          232,
          325,
          390,
          523,
          568,
          636,
          663,
          858
         ],
         "xaxis": "x",
         "y": [
          88,
          87.5,
          82.6,
          62.5,
          47.05,
          76.92,
          66.66,
          79.68,
          20
         ],
         "yaxis": "y"
        },
        {
         "hovertemplate": "color=Towhid Hridoy<br>index=%{x}<br>value=%{y}<extra></extra>",
         "legendgroup": "Towhid Hridoy",
         "marker": {
          "color": "#FF6692",
          "symbol": "circle"
         },
         "mode": "markers",
         "name": "Towhid Hridoy",
         "orientation": "v",
         "showlegend": true,
         "type": "scatter",
         "x": [
          65,
          230,
          324,
          393,
          569,
          664
         ],
         "xaxis": "x",
         "y": [
          52,
          93.67,
          45.71,
          233.33,
          214.28,
          63.93
         ],
         "yaxis": "y"
        },
        {
         "hovertemplate": "color=Mahmudullah<br>index=%{x}<br>value=%{y}<extra></extra>",
         "legendgroup": "Mahmudullah",
         "marker": {
          "color": "#B6E880",
          "symbol": "circle"
         },
         "mode": "markers",
         "name": "Mahmudullah",
         "orientation": "v",
         "showlegend": true,
         "type": "scatter",
         "x": [
          66,
          231,
          326,
          391,
          524,
          567,
          859
         ],
         "xaxis": "x",
         "y": [
          83.67,
          114.28,
          127.77,
          80,
          100,
          95.65,
          48.78
         ],
         "yaxis": "y"
        },
        {
         "hovertemplate": "color=Taskin Ahmed<br>index=%{x}<br>value=%{y}<extra></extra>",
         "legendgroup": "Taskin Ahmed",
         "marker": {
          "color": "#FF97FF",
          "symbol": "circle"
         },
         "mode": "markers",
         "name": "Taskin Ahmed",
         "orientation": "v",
         "showlegend": true,
         "type": "scatter",
         "x": [
          67,
          236,
          395,
          666,
          861
         ],
         "xaxis": "x",
         "y": [
          89.47,
          0,
          46.15,
          60,
          31.42
         ],
         "yaxis": "y"
        },
        {
         "hovertemplate": "color=Mustafizur Rahman<br>index=%{x}<br>value=%{y}<extra></extra>",
         "legendgroup": "Mustafizur Rahman",
         "marker": {
          "color": "#FECB52",
          "symbol": "circle"
         },
         "mode": "markers",
         "name": "Mustafizur Rahman",
         "orientation": "v",
         "showlegend": true,
         "type": "scatter",
         "x": [
          68,
          328,
          396,
          528,
          668,
          862
         ],
         "xaxis": "x",
         "y": [
          40,
          14.28,
          42.85,
          52.38,
          33.33,
          57.14
         ],
         "yaxis": "y"
        },
        {
         "hovertemplate": "color=Shoriful Islam<br>index=%{x}<br>value=%{y}<extra></extra>",
         "legendgroup": "Shoriful Islam",
         "marker": {
          "color": "#636efa",
          "symbol": "circle"
         },
         "mode": "markers",
         "name": "Shoriful Islam",
         "orientation": "v",
         "showlegend": true,
         "type": "scatter",
         "x": [
          69,
          329,
          397,
          529,
          667,
          863
         ],
         "xaxis": "x",
         "y": [
          66.66,
          233.33,
          25,
          150,
          85.71,
          0
         ],
         "yaxis": "y"
        },
        {
         "hovertemplate": "color=Abdullah Shafique<br>index=%{x}<br>value=%{y}<extra></extra>",
         "legendgroup": "Abdullah Shafique",
         "marker": {
          "color": "#EF553B",
          "symbol": "circle"
         },
         "mode": "markers",
         "name": "Abdullah Shafique",
         "orientation": "v",
         "showlegend": true,
         "type": "scatter",
         "x": [
          70,
          286,
          432,
          791,
          813,
          818,
          835,
          864
         ],
         "xaxis": "x",
         "y": [
          83.33,
          52.94,
          77.33,
          104.91,
          98.55,
          109.7,
          44.44,
          0
         ],
         "yaxis": "y"
        },
        {
         "hovertemplate": "color=Pathum Nissanka<br>index=%{x}<br>value=%{y}<extra></extra>",
         "legendgroup": "Pathum Nissanka",
         "marker": {
          "color": "#00cc96",
          "symbol": "circle"
         },
         "mode": "markers",
         "name": "Pathum Nissanka",
         "orientation": "v",
         "showlegend": true,
         "type": "scatter",
         "x": [
          81,
          109,
          183,
          347,
          398,
          473,
          512,
          680,
          726
         ],
         "xaxis": "x",
         "y": [
          25,
          113.88,
          91.04,
          76.66,
          83.6,
          0,
          103.84,
          92.77,
          0
         ],
         "yaxis": "y"
        },
        {
         "hovertemplate": "color=Kusal Perera<br>index=%{x}<br>value=%{y}<extra></extra>",
         "legendgroup": "Kusal Perera",
         "marker": {
          "color": "#ab63fa",
          "symbol": "circle"
         },
         "mode": "markers",
         "name": "Kusal Perera",
         "orientation": "v",
         "showlegend": true,
         "type": "scatter",
         "x": [
          82,
          110,
          184,
          399,
          513,
          681,
          727
         ],
         "xaxis": "x",
         "y": [
          182.14,
          80,
          95.12,
          0,
          62.5,
          80,
          46.66
         ],
         "yaxis": "y"
        },
        {
         "hovertemplate": "color=Kusal Mendis<br>index=%{x}<br>value=%{y}<extra></extra>",
         "legendgroup": "Kusal Mendis",
         "marker": {
          "color": "#FFA15A",
          "symbol": "circle"
         },
         "mode": "markers",
         "name": "Kusal Mendis",
         "orientation": "v",
         "showlegend": true,
         "type": "scatter",
         "x": [
          83,
          111,
          185,
          349,
          400,
          475,
          514,
          682,
          728
         ],
         "xaxis": "x",
         "y": [
          85.71,
          63.33,
          69.23,
          78,
          158.44,
          10,
          64.7,
          91.66,
          180.95
         ],
         "yaxis": "y"
        },
        {
         "hovertemplate": "color=Sadeera Samarawickrama<br>index=%{x}<br>value=%{y}<extra></extra>",
         "legendgroup": "Sadeera Samarawickrama",
         "marker": {
          "color": "#19d3f3",
          "symbol": "circle"
         },
         "mode": "markers",
         "name": "Sadeera Samarawickrama",
         "orientation": "v",
         "showlegend": true,
         "type": "scatter",
         "x": [
          84,
          112,
          186,
          350,
          401,
          476,
          515,
          683,
          729
         ],
         "xaxis": "x",
         "y": [
          50,
          97.61,
          100,
          90,
          121.34,
          0,
          85.04,
          120.37,
          121.05
         ],
         "yaxis": "y"
        },
        {
         "hovertemplate": "color=Charith Asalanka<br>index=%{x}<br>value=%{y}<extra></extra>",
         "legendgroup": "Charith Asalanka",
         "marker": {
          "color": "#FF6692",
          "symbol": "circle"
         },
         "mode": "markers",
         "name": "Charith Asalanka",
         "orientation": "v",
         "showlegend": true,
         "type": "scatter",
         "x": [
          85,
          113,
          187,
          351,
          402,
          477,
          516,
          730
         ],
         "xaxis": "x",
         "y": [
          100,
          102.85,
          64.1,
          78.57,
          33.33,
          4.16,
          66.66,
          121.53
         ],
         "yaxis": "y"
        },
        {
         "hovertemplate": "color=Angelo Mathews<br>index=%{x}<br>value=%{y}<extra></extra>",
         "legendgroup": "Angelo Mathews",
         "marker": {
          "color": "#B6E880",
          "symbol": "circle"
         },
         "mode": "markers",
         "name": "Angelo Mathews",
         "orientation": "v",
         "showlegend": true,
         "type": "scatter",
         "x": [
          86,
          114,
          353,
          478
         ],
         "xaxis": "x",
         "y": [
          59.25,
          0,
          88.46,
          48
         ],
         "yaxis": "y"
        },
        {
         "hovertemplate": "color=Dhananjaya de Silva<br>index=%{x}<br>value=%{y}<extra></extra>",
         "legendgroup": "Dhananjaya de Silva",
         "marker": {
          "color": "#FF97FF",
          "symbol": "circle"
         },
         "mode": "markers",
         "name": "Dhananjaya de Silva",
         "orientation": "v",
         "showlegend": true,
         "type": "scatter",
         "x": [
          87,
          115,
          188,
          352,
          403,
          517,
          731
         ],
         "xaxis": "x",
         "y": [
          79.16,
          94.44,
          53.84,
          53.84,
          73.52,
          81.08,
          78.57
         ],
         "yaxis": "y"
        },
        {
         "hovertemplate": "color=Chamika Karunaratne<br>index=%{x}<br>value=%{y}<extra></extra>",
         "legendgroup": "Chamika Karunaratne",
         "marker": {
          "color": "#FECB52",
          "symbol": "circle"
         },
         "mode": "markers",
         "name": "Chamika Karunaratne",
         "orientation": "v",
         "showlegend": true,
         "type": "scatter",
         "x": [
          88,
          190
         ],
         "xaxis": "x",
         "y": [
          35.29,
          18.18
         ],
         "yaxis": "y"
        },
        {
         "hovertemplate": "color=Maheesh Theekshana<br>index=%{x}<br>value=%{y}<extra></extra>",
         "legendgroup": "Maheesh Theekshana",
         "marker": {
          "color": "#636efa",
          "symbol": "circle"
         },
         "mode": "markers",
         "name": "Maheesh Theekshana",
         "orientation": "v",
         "showlegend": true,
         "type": "scatter",
         "x": [
          89,
          116,
          191,
          355,
          406,
          481
         ],
         "xaxis": "x",
         "y": [
          41.75,
          67.74,
          0,
          93.54,
          0,
          52.17
         ],
         "yaxis": "y"
        },
        {
         "hovertemplate": "color=Dushmantha Chameera<br>index=%{x}<br>value=%{y}<extra></extra>",
         "legendgroup": "Dushmantha Chameera",
         "marker": {
          "color": "#EF553B",
          "symbol": "circle"
         },
         "mode": "markers",
         "name": "Dushmantha Chameera",
         "orientation": "v",
         "showlegend": true,
         "type": "scatter",
         "x": [
          90,
          117,
          354,
          480
         ],
         "xaxis": "x",
         "y": [
          5,
          44.44,
          25,
          0
         ],
         "yaxis": "y"
        },
        {
         "hovertemplate": "color=Dilshan Madushanka<br>index=%{x}<br>value=%{y}<extra></extra>",
         "legendgroup": "Dilshan Madushanka",
         "marker": {
          "color": "#00cc96",
          "symbol": "circle"
         },
         "mode": "markers",
         "name": "Dilshan Madushanka",
         "orientation": "v",
         "showlegend": true,
         "type": "scatter",
         "x": [
          91,
          119,
          193,
          357,
          483,
          736
         ],
         "xaxis": "x",
         "y": [
          39.58,
          0,
          0,
          0,
          83.33,
          200
         ],
         "yaxis": "y"
        },
        {
         "hovertemplate": "color=Wesley Barresi<br>index=%{x}<br>value=%{y}<extra></extra>",
         "legendgroup": "Wesley Barresi",
         "marker": {
          "color": "#ab63fa",
          "symbol": "circle"
         },
         "mode": "markers",
         "name": "Wesley Barresi",
         "orientation": "v",
         "showlegend": true,
         "type": "scatter",
         "x": [
          98,
          453,
          802,
          824
         ],
         "xaxis": "x",
         "y": [
          25,
          100,
          59.67,
          80
         ],
         "yaxis": "y"
        },
        {
         "hovertemplate": "color=Saqib Zulfiqar<br>index=%{x}<br>value=%{y}<extra></extra>",
         "legendgroup": "Saqib Zulfiqar",
         "marker": {
          "color": "#FFA15A",
          "symbol": "circle"
         },
         "mode": "markers",
         "name": "Saqib Zulfiqar",
         "orientation": "v",
         "showlegend": true,
         "type": "scatter",
         "x": [
          104,
          490
         ],
         "xaxis": "x",
         "y": [
          20,
          55.55
         ],
         "yaxis": "y"
        },
        {
         "hovertemplate": "color=Kasun Rajitha<br>index=%{x}<br>value=%{y}<extra></extra>",
         "legendgroup": "Kasun Rajitha",
         "marker": {
          "color": "#19d3f3",
          "symbol": "circle"
         },
         "mode": "markers",
         "name": "Kasun Rajitha",
         "orientation": "v",
         "showlegend": true,
         "type": "scatter",
         "x": [
          118,
          356,
          482,
          734
         ],
         "xaxis": "x",
         "y": [
          0,
          71.42,
          82.35,
          106.45
         ],
         "yaxis": "y"
        },
        {
         "hovertemplate": "color=Devon Conway<br>index=%{x}<br>value=%{y}<extra></extra>",
         "legendgroup": "Devon Conway",
         "marker": {
          "color": "#FF6692",
          "symbol": "circle"
         },
         "mode": "markers",
         "name": "Devon Conway",
         "orientation": "v",
         "showlegend": true,
         "type": "scatter",
         "x": [
          120,
          270,
          339,
          414,
          530,
          540,
          547,
          580,
          621,
          715
         ],
         "xaxis": "x",
         "y": [
          0,
          80,
          111.11,
          89.74,
          76.27,
          107.14,
          86.66,
          164.7,
          125.61,
          33.33
         ],
         "yaxis": "y"
        },
        {
         "hovertemplate": "color=Will Young<br>index=%{x}<br>value=%{y}<extra></extra>",
         "legendgroup": "Will Young",
         "marker": {
          "color": "#B6E880",
          "symbol": "circle"
         },
         "mode": "markers",
         "name": "Will Young",
         "orientation": "v",
         "showlegend": true,
         "type": "scatter",
         "x": [
          121,
          271,
          340,
          581,
          622,
          716
         ],
         "xaxis": "x",
         "y": [
          62.96,
          87.5,
          84.37,
          86.48,
          0,
          89.18
         ],
         "yaxis": "y"
        },
        {
         "hovertemplate": "color=Rachin Ravindra<br>index=%{x}<br>value=%{y}<extra></extra>",
         "legendgroup": "Rachin Ravindra",
         "marker": {
          "color": "#FF97FF",
          "symbol": "circle"
         },
         "mode": "markers",
         "name": "Rachin Ravindra",
         "orientation": "v",
         "showlegend": true,
         "type": "scatter",
         "x": [
          122,
          272,
          341,
          415,
          531,
          541,
          548,
          582,
          623,
          717
         ],
         "xaxis": "x",
         "y": [
          86.2,
          100,
          78.04,
          114.89,
          69.23,
          123.52,
          59.09,
          130.33,
          128.12,
          56.25
         ],
         "yaxis": "y"
        },
        {
         "hovertemplate": "color=Daryl Mitchell<br>index=%{x}<br>value=%{y}<extra></extra>",
         "legendgroup": "Daryl Mitchell",
         "marker": {
          "color": "#FECB52",
          "symbol": "circle"
         },
         "mode": "markers",
         "name": "Daryl Mitchell",
         "orientation": "v",
         "showlegend": true,
         "type": "scatter",
         "x": [
          123,
          273,
          342,
          417,
          533,
          543,
          550,
          583,
          718
         ],
         "xaxis": "x",
         "y": [
          102.36,
          102.12,
          14.28,
          161.11,
          132.83,
          138.7,
          112.6,
          105.88,
          80
         ],
         "yaxis": "y"
        },
        {
         "hovertemplate": "color=Tom Latham<br>index=%{x}<br>value=%{y}<extra></extra>",
         "legendgroup": "Tom Latham",
         "marker": {
          "color": "#636efa",
          "symbol": "circle"
         },
         "mode": "markers",
         "name": "Tom Latham",
         "orientation": "v",
         "showlegend": true,
         "type": "scatter",
         "x": [
          124,
          274,
          343,
          421,
          546,
          551,
          584,
          719
         ],
         "xaxis": "x",
         "y": [
          71.42,
          115.21,
          91.89,
          100,
          100,
          0,
          95.45,
          26.66
         ],
         "yaxis": "y"
        },
        {
         "hovertemplate": "color=Glenn Phillips<br>index=%{x}<br>value=%{y}<extra></extra>",
         "legendgroup": "Glenn Phillips",
         "marker": {
          "color": "#EF553B",
          "symbol": "circle"
         },
         "mode": "markers",
         "name": "Glenn Phillips",
         "orientation": "v",
         "showlegend": true,
         "type": "scatter",
         "x": [
          125,
          275,
          344,
          419,
          534,
          545,
          552,
          585,
          720
         ],
         "xaxis": "x",
         "y": [
          88.46,
          100,
          88.75,
          164,
          145.45,
          170,
          124.24,
          75,
          120
         ],
         "yaxis": "y"
        },
        {
         "hovertemplate": "color=Mark Chapman<br>index=%{x}<br>value=%{y}<extra></extra>",
         "legendgroup": "Mark Chapman",
         "marker": {
          "color": "#00cc96",
          "symbol": "circle"
         },
         "mode": "markers",
         "name": "Mark Chapman",
         "orientation": "v",
         "showlegend": true,
         "type": "scatter",
         "x": [
          126,
          276,
          345,
          418,
          544,
          553
         ],
         "xaxis": "x",
         "y": [
          75,
          38.46,
          208.33,
          144.44,
          116.66,
          40
         ],
         "yaxis": "y"
        },
        {
         "hovertemplate": "color=Mitchell Santner<br>index=%{x}<br>value=%{y}<extra></extra>",
         "legendgroup": "Mitchell Santner",
         "marker": {
          "color": "#ab63fa",
          "symbol": "circle"
         },
         "mode": "markers",
         "name": "Mitchell Santner",
         "orientation": "v",
         "showlegend": true,
         "type": "scatter",
         "x": [
          127,
          277,
          346,
          420,
          554,
          587,
          721
         ],
         "xaxis": "x",
         "y": [
          50,
          211.76,
          140,
          152.94,
          90,
          141.66,
          38.88
         ],
         "yaxis": "y"
        },
        {
         "hovertemplate": "color=Matt Henry<br>index=%{x}<br>value=%{y}<extra></extra>",
         "legendgroup": "Matt Henry",
         "marker": {
          "color": "#FFA15A",
          "symbol": "circle"
         },
         "mode": "markers",
         "name": "Matt Henry",
         "orientation": "v",
         "showlegend": true,
         "type": "scatter",
         "x": [
          128,
          278,
          588,
          725
         ],
         "xaxis": "x",
         "y": [
          0,
          250,
          112.5,
          0
         ],
         "yaxis": "y"
        },
        {
         "hovertemplate": "color=Lockie Ferguson<br>index=%{x}<br>value=%{y}<extra></extra>",
         "legendgroup": "Lockie Ferguson",
         "marker": {
          "color": "#19d3f3",
          "symbol": "circle"
         },
         "mode": "markers",
         "name": "Lockie Ferguson",
         "orientation": "v",
         "showlegend": true,
         "type": "scatter",
         "x": [
          129,
          557,
          590
         ],
         "xaxis": "x",
         "y": [
          20,
          200,
          0
         ],
         "yaxis": "y"
        },
        {
         "hovertemplate": "color=Trent Boult<br>index=%{x}<br>value=%{y}<extra></extra>",
         "legendgroup": "Trent Boult",
         "marker": {
          "color": "#FF6692",
          "symbol": "circle"
         },
         "mode": "markers",
         "name": "Trent Boult",
         "orientation": "v",
         "showlegend": true,
         "type": "scatter",
         "x": [
          130,
          556,
          589,
          724
         ],
         "xaxis": "x",
         "y": [
          0,
          100,
          125,
          64.28
         ],
         "yaxis": "y"
        },
        {
         "hovertemplate": "color=David Warner<br>index=%{x}<br>value=%{y}<extra></extra>",
         "legendgroup": "David Warner",
         "marker": {
          "color": "#B6E880",
          "symbol": "circle"
         },
         "mode": "markers",
         "name": "David Warner",
         "orientation": "v",
         "showlegend": true,
         "type": "scatter",
         "x": [
          131,
          205,
          217,
          311,
          365,
          495,
          613,
          625,
          655,
          695,
          754
         ],
         "xaxis": "x",
         "y": [
          124.61,
          78.84,
          93.75,
          111.82,
          131.45,
          233.33,
          161.11,
          183.33,
          86.88,
          62.06,
          48.14
         ],
         "yaxis": "y"
        },
        {
         "hovertemplate": "color=Travis Head<br>index=%{x}<br>value=%{y}<extra></extra>",
         "legendgroup": "Travis Head",
         "marker": {
          "color": "#FF97FF",
          "symbol": "circle"
         },
         "mode": "markers",
         "name": "Travis Head",
         "orientation": "v",
         "showlegend": true,
         "type": "scatter",
         "x": [
          132,
          216,
          496,
          612,
          654,
          696
         ],
         "xaxis": "x",
         "y": [
          162.68,
          110,
          114.16,
          129.16,
          90.9,
          0
         ],
         "yaxis": "y"
        },
        {
         "hovertemplate": "color=Mitchell Marsh<br>index=%{x}<br>value=%{y}<extra></extra>",
         "legendgroup": "Mitchell Marsh",
         "marker": {
          "color": "#FECB52",
          "symbol": "circle"
         },
         "mode": "markers",
         "name": "Mitchell Marsh",
         "orientation": "v",
         "showlegend": true,
         "type": "scatter",
         "x": [
          133,
          206,
          310,
          366,
          497,
          614,
          624,
          656,
          697,
          753
         ],
         "xaxis": "x",
         "y": [
          70.58,
          0,
          60,
          112.03,
          100,
          0,
          101.96,
          134.09,
          218.18,
          46.66
         ],
         "yaxis": "y"
        },
        {
         "hovertemplate": "color=Steven Smith<br>index=%{x}<br>value=%{y}<extra></extra>",
         "legendgroup": "Steven Smith",
         "marker": {
          "color": "#636efa",
          "symbol": "circle"
         },
         "mode": "markers",
         "name": "Steven Smith",
         "orientation": "v",
         "showlegend": true,
         "type": "scatter",
         "x": [
          134,
          207,
          218,
          312,
          368,
          498,
          615,
          626,
          657,
          755
         ],
         "xaxis": "x",
         "y": [
          105.88,
          64.78,
          84.61,
          104.41,
          77.77,
          44.44,
          48.38,
          0,
          98.43,
          118.75
         ],
         "yaxis": "y"
        },
        {
         "hovertemplate": "color=Marnus Labuschagne<br>index=%{x}<br>value=%{y}<extra></extra>",
         "legendgroup": "Marnus Labuschagne",
         "marker": {
          "color": "#EF553B",
          "symbol": "circle"
         },
         "mode": "markers",
         "name": "Marnus Labuschagne",
         "orientation": "v",
         "showlegend": true,
         "type": "scatter",
         "x": [
          135,
          208,
          219,
          313,
          371,
          499,
          616,
          627,
          698,
          756
         ],
         "xaxis": "x",
         "y": [
          69.23,
          65.85,
          85.54,
          131.91,
          66.66,
          52.72,
          58.06,
          66.66,
          50,
          62.16
         ],
         "yaxis": "y"
        },
        {
         "hovertemplate": "color=Glenn Maxwell<br>index=%{x}<br>value=%{y}<extra></extra>",
         "legendgroup": "Glenn Maxwell",
         "marker": {
          "color": "#00cc96",
          "symbol": "circle"
         },
         "mode": "markers",
         "name": "Glenn Maxwell",
         "orientation": "v",
         "showlegend": true,
         "type": "scatter",
         "x": [
          136,
          209,
          315,
          367,
          500,
          617,
          629,
          700,
          758
         ],
         "xaxis": "x",
         "y": [
          170.83,
          60,
          240.9,
          0,
          200,
          20,
          147.61,
          157.03,
          17.64
         ],
         "yaxis": "y"
        },
        {
         "hovertemplate": "color=Josh Inglis<br>index=%{x}<br>value=%{y}<extra></extra>",
         "legendgroup": "Josh Inglis",
         "marker": {
          "color": "#ab63fa",
          "symbol": "circle"
         },
         "mode": "markers",
         "name": "Josh Inglis",
         "orientation": "v",
         "showlegend": true,
         "type": "scatter",
         "x": [
          137,
          220,
          314,
          370,
          618,
          628,
          699,
          757
         ],
         "xaxis": "x",
         "y": [
          135.71,
          50,
          116.66,
          144.44,
          57.14,
          98.3,
          0,
          125
         ],
         "yaxis": "y"
        },
        {
         "hovertemplate": "color=Pat Cummins<br>index=%{x}<br>value=%{y}<extra></extra>",
         "legendgroup": "Pat Cummins",
         "marker": {
          "color": "#FFA15A",
          "symbol": "circle"
         },
         "mode": "markers",
         "name": "Pat Cummins",
         "orientation": "v",
         "showlegend": true,
         "type": "scatter",
         "x": [
          138,
          212,
          223,
          317,
          372,
          620,
          703,
          761
         ],
         "xaxis": "x",
         "y": [
          264.28,
          62.5,
          76.92,
          133.33,
          75,
          48.27,
          17.64,
          104.76
         ],
         "yaxis": "y"
        },
        {
         "hovertemplate": "color=Mitchell Starc<br>index=%{x}<br>value=%{y}<extra></extra>",
         "legendgroup": "Mitchell Starc",
         "marker": {
          "color": "#19d3f3",
          "symbol": "circle"
         },
         "mode": "markers",
         "name": "Mitchell Starc",
         "orientation": "v",
         "showlegend": true,
         "type": "scatter",
         "x": [
          139,
          213,
          224,
          318,
          373,
          619,
          702,
          760
         ],
         "xaxis": "x",
         "y": [
          33.33,
          80,
          76.92,
          0,
          66.66,
          42.1,
          42.85,
          52.94
         ],
         "yaxis": "y"
        },
        {
         "hovertemplate": "color=Adam Zampa<br>index=%{x}<br>value=%{y}<extra></extra>",
         "legendgroup": "Adam Zampa",
         "marker": {
          "color": "#FF6692",
          "symbol": "circle"
         },
         "mode": "markers",
         "name": "Adam Zampa",
         "orientation": "v",
         "showlegend": true,
         "type": "scatter",
         "x": [
          140,
          214,
          225,
          319,
          375,
          762
         ],
         "xaxis": "x",
         "y": [
          0,
          30,
          152.63,
          100,
          100,
          68.75
         ],
         "yaxis": "y"
        },
        {
         "hovertemplate": "color=Josh Hazlewood<br>index=%{x}<br>value=%{y}<extra></extra>",
         "legendgroup": "Josh Hazlewood",
         "marker": {
          "color": "#B6E880",
          "symbol": "circle"
         },
         "mode": "markers",
         "name": "Josh Hazlewood",
         "orientation": "v",
         "showlegend": true,
         "type": "scatter",
         "x": [
          141,
          215,
          226,
          374,
          763
         ],
         "xaxis": "x",
         "y": [
          0,
          100,
          100,
          0,
          100
         ],
         "yaxis": "y"
        },
        {
         "hovertemplate": "color=Gerald Coetzee<br>index=%{x}<br>value=%{y}<extra></extra>",
         "legendgroup": "Gerald Coetzee",
         "marker": {
          "color": "#FF97FF",
          "symbol": "circle"
         },
         "mode": "markers",
         "name": "Gerald Coetzee",
         "orientation": "v",
         "showlegend": true,
         "type": "scatter",
         "x": [
          159,
          168,
          598,
          711
         ],
         "xaxis": "x",
         "y": [
          100,
          48.71,
          95.65,
          76.92
         ],
         "yaxis": "y"
        },
        {
         "hovertemplate": "color=Keshav Maharaj<br>index=%{x}<br>value=%{y}<extra></extra>",
         "legendgroup": "Keshav Maharaj",
         "marker": {
          "color": "#FECB52",
          "symbol": "circle"
         },
         "mode": "markers",
         "name": "Keshav Maharaj",
         "orientation": "v",
         "showlegend": true,
         "type": "scatter",
         "x": [
          160,
          169,
          338,
          599,
          712,
          787
         ],
         "xaxis": "x",
         "y": [
          100,
          50,
          0,
          108.1,
          33.33,
          63.63
         ],
         "yaxis": "y"
        },
        {
         "hovertemplate": "color=Temba Bavuma<br>index=%{x}<br>value=%{y}<extra></extra>",
         "legendgroup": "Temba Bavuma",
         "marker": {
          "color": "#636efa",
          "symbol": "circle"
         },
         "mode": "markers",
         "name": "Temba Bavuma",
         "orientation": "v",
         "showlegend": true,
         "type": "scatter",
         "x": [
          162,
          298,
          304,
          331,
          591,
          704,
          781,
          847
         ],
         "xaxis": "x",
         "y": [
          0,
          85.71,
          160,
          63.63,
          51.61,
          103.7,
          57.89,
          82.14
         ],
         "yaxis": "y"
        },
        {
         "hovertemplate": "color=Kagiso Rabada<br>index=%{x}<br>value=%{y}<extra></extra>",
         "legendgroup": "Kagiso Rabada",
         "marker": {
          "color": "#EF553B",
          "symbol": "circle"
         },
         "mode": "markers",
         "name": "Kagiso Rabada",
         "orientation": "v",
         "showlegend": true,
         "type": "scatter",
         "x": [
          170,
          337,
          600,
          788
         ],
         "xaxis": "x",
         "y": [
          83.33,
          0,
          150,
          23.07
         ],
         "yaxis": "y"
        },
        {
         "hovertemplate": "color=Tabraiz Shamsi<br>index=%{x}<br>value=%{y}<extra></extra>",
         "legendgroup": "Tabraiz Shamsi",
         "marker": {
          "color": "#00cc96",
          "symbol": "circle"
         },
         "mode": "markers",
         "name": "Tabraiz Shamsi",
         "orientation": "v",
         "showlegend": true,
         "type": "scatter",
         "x": [
          171,
          714,
          790
         ],
         "xaxis": "x",
         "y": [
          20,
          66.66,
          100
         ],
         "yaxis": "y"
        },
        {
         "hovertemplate": "color=Jonny Bairstow<br>index=%{x}<br>value=%{y}<extra></extra>",
         "legendgroup": "Jonny Bairstow",
         "marker": {
          "color": "#ab63fa",
          "symbol": "circle"
         },
         "mode": "markers",
         "name": "Jonny Bairstow",
         "orientation": "v",
         "showlegend": true,
         "type": "scatter",
         "x": [
          172,
          237,
          259,
          376,
          463,
          501,
          602,
          643,
          669
         ],
         "xaxis": "x",
         "y": [
          94.28,
          88.13,
          96.77,
          88.23,
          96.72,
          60.86,
          83.33,
          0,
          50
         ],
         "yaxis": "y"
        },
        {
         "hovertemplate": "color=Dawid Malan<br>index=%{x}<br>value=%{y}<extra></extra>",
         "legendgroup": "Dawid Malan",
         "marker": {
          "color": "#FFA15A",
          "symbol": "circle"
         },
         "mode": "markers",
         "name": "Dawid Malan",
         "orientation": "v",
         "showlegend": true,
         "type": "scatter",
         "x": [
          173,
          238,
          260,
          377,
          462,
          502,
          603,
          644,
          670
         ],
         "xaxis": "x",
         "y": [
          58.33,
          130.84,
          112,
          117.56,
          79.48,
          94.11,
          54.54,
          78.12,
          82.05
         ],
         "yaxis": "y"
        },
        {
         "hovertemplate": "color=Joe Root<br>index=%{x}<br>value=%{y}<extra></extra>",
         "legendgroup": "Joe Root",
         "marker": {
          "color": "#19d3f3",
          "symbol": "circle"
         },
         "mode": "markers",
         "name": "Joe Root",
         "orientation": "v",
         "showlegend": true,
         "type": "scatter",
         "x": [
          174,
          239,
          261,
          378,
          464,
          503,
          604,
          645,
          671
         ],
         "xaxis": "x",
         "y": [
          89.53,
          120.58,
          30,
          80,
          83.33,
          0,
          33.33,
          76.47,
          64.7
         ],
         "yaxis": "y"
        },
        {
         "hovertemplate": "color=Harry Brook<br>index=%{x}<br>value=%{y}<extra></extra>",
         "legendgroup": "Harry Brook",
         "marker": {
          "color": "#FF6692",
          "symbol": "circle"
         },
         "mode": "markers",
         "name": "Harry Brook",
         "orientation": "v",
         "showlegend": true,
         "type": "scatter",
         "x": [
          175,
          241,
          380,
          467,
          606,
          672
         ],
         "xaxis": "x",
         "y": [
          156.25,
          133.33,
          68.75,
          176.47,
          68,
          108.19
         ],
         "yaxis": "y"
        },
        {
         "hovertemplate": "color=Moeen Ali<br>index=%{x}<br>value=%{y}<extra></extra>",
         "legendgroup": "Moeen Ali",
         "marker": {
          "color": "#B6E880",
          "symbol": "circle"
         },
         "mode": "markers",
         "name": "Moeen Ali",
         "orientation": "v",
         "showlegend": true,
         "type": "scatter",
         "x": [
          176,
          265,
          382,
          468,
          506,
          648
         ],
         "xaxis": "x",
         "y": [
          64.7,
          100,
          26.66,
          133.33,
          48.38,
          97.67
         ],
         "yaxis": "y"
        },
        {
         "hovertemplate": "color=Jos Buttler<br>index=%{x}<br>value=%{y}<extra></extra>",
         "legendgroup": "Jos Buttler",
         "marker": {
          "color": "#FF97FF",
          "symbol": "circle"
         },
         "mode": "markers",
         "name": "Jos Buttler",
         "orientation": "v",
         "showlegend": true,
         "type": "scatter",
         "x": [
          177,
          240,
          263,
          381,
          466,
          505,
          607,
          647,
          673
         ],
         "xaxis": "x",
         "y": [
          102.38,
          200,
          133.33,
          45.45,
          150,
          43.47,
          214.28,
          14.28,
          50
         ],
         "yaxis": "y"
        },
        {
         "hovertemplate": "color=Liam Livingstone<br>index=%{x}<br>value=%{y}<extra></extra>",
         "legendgroup": "Liam Livingstone",
         "marker": {
          "color": "#FECB52",
          "symbol": "circle"
         },
         "mode": "markers",
         "name": "Liam Livingstone",
         "orientation": "v",
         "showlegend": true,
         "type": "scatter",
         "x": [
          178,
          242,
          264,
          507,
          649,
          674
         ],
         "xaxis": "x",
         "y": [
          90.9,
          0,
          16.66,
          58.69,
          40,
          71.42
         ],
         "yaxis": "y"
        },
        {
         "hovertemplate": "color=Sam Curran<br>index=%{x}<br>value=%{y}<extra></extra>",
         "legendgroup": "Sam Curran",
         "marker": {
          "color": "#636efa",
          "symbol": "circle"
         },
         "mode": "markers",
         "name": "Sam Curran",
         "orientation": "v",
         "showlegend": true,
         "type": "scatter",
         "x": [
          179,
          243,
          675
         ],
         "xaxis": "x",
         "y": [
          73.68,
          73.33,
          43.47
         ],
         "yaxis": "y"
        },
        {
         "hovertemplate": "color=Chris Woakes<br>index=%{x}<br>value=%{y}<extra></extra>",
         "legendgroup": "Chris Woakes",
         "marker": {
          "color": "#EF553B",
          "symbol": "circle"
         },
         "mode": "markers",
         "name": "Chris Woakes",
         "orientation": "v",
         "showlegend": true,
         "type": "scatter",
         "x": [
          180,
          244,
          266,
          383,
          469,
          508,
          650,
          676
         ],
         "xaxis": "x",
         "y": [
          91.66,
          127.27,
          0,
          113.33,
          100,
          50,
          96.96,
          34.61
         ],
         "yaxis": "y"
        },
        {
         "hovertemplate": "color=Adil Rashid<br>index=%{x}<br>value=%{y}<extra></extra>",
         "legendgroup": "Adil Rashid",
         "marker": {
          "color": "#00cc96",
          "symbol": "circle"
         },
         "mode": "markers",
         "name": "Adil Rashid",
         "orientation": "v",
         "showlegend": true,
         "type": "scatter",
         "x": [
          181,
          245,
          268,
          386,
          472,
          510,
          609,
          652,
          677
         ],
         "xaxis": "x",
         "y": [
          115.38,
          157.14,
          28.57,
          100,
          0,
          65,
          71.42,
          133.33,
          153.84
         ],
         "yaxis": "y"
        },
        {
         "hovertemplate": "color=Mark Wood<br>index=%{x}<br>value=%{y}<extra></extra>",
         "legendgroup": "Mark Wood",
         "marker": {
          "color": "#ab63fa",
          "symbol": "circle"
         },
         "mode": "markers",
         "name": "Mark Wood",
         "orientation": "v",
         "showlegend": true,
         "type": "scatter",
         "x": [
          182,
          246,
          269,
          511,
          611,
          653,
          678
         ],
         "xaxis": "x",
         "y": [
          92.85,
          120,
          83.33,
          0,
          252.94,
          0,
          81.81
         ],
         "yaxis": "y"
        },
        {
         "hovertemplate": "color=Dunith Wellalage<br>index=%{x}<br>value=%{y}<extra></extra>",
         "legendgroup": "Dunith Wellalage",
         "marker": {
          "color": "#FFA15A",
          "symbol": "circle"
         },
         "mode": "markers",
         "name": "Dunith Wellalage",
         "orientation": "v",
         "showlegend": true,
         "type": "scatter",
         "x": [
          189,
          405,
          733
         ],
         "xaxis": "x",
         "y": [
          22.22,
          125,
          0
         ],
         "yaxis": "y"
        },
        {
         "hovertemplate": "color=Lahiru Kumara<br>index=%{x}<br>value=%{y}<extra></extra>",
         "legendgroup": "Lahiru Kumara",
         "marker": {
          "color": "#19d3f3",
          "symbol": "circle"
         },
         "mode": "markers",
         "name": "Lahiru Kumara",
         "orientation": "v",
         "showlegend": true,
         "type": "scatter",
         "x": [
          192
         ],
         "xaxis": "x",
         "y": [
          50
         ],
         "yaxis": "y"
        },
        {
         "hovertemplate": "color=Rahmanullah Gurbaz<br>index=%{x}<br>value=%{y}<extra></extra>",
         "legendgroup": "Rahmanullah Gurbaz",
         "marker": {
          "color": "#FF6692",
          "symbol": "circle"
         },
         "mode": "markers",
         "name": "Rahmanullah Gurbaz",
         "orientation": "v",
         "showlegend": true,
         "type": "scatter",
         "x": [
          194,
          248,
          279,
          422,
          440,
          558,
          764,
          775,
          842
         ],
         "xaxis": "x",
         "y": [
          75.8,
          140.35,
          84,
          75,
          113.63,
          90.9,
          52.38,
          0,
          122.64
         ],
         "yaxis": "y"
        },
        {
         "hovertemplate": "color=Ibrahim Zadran<br>index=%{x}<br>value=%{y}<extra></extra>",
         "legendgroup": "Ibrahim Zadran",
         "marker": {
          "color": "#B6E880",
          "symbol": "circle"
         },
         "mode": "markers",
         "name": "Ibrahim Zadran",
         "orientation": "v",
         "showlegend": true,
         "type": "scatter",
         "x": [
          195,
          249,
          280,
          423,
          441,
          559,
          765,
          776,
          843
         ],
         "xaxis": "x",
         "y": [
          88,
          58.33,
          90.2,
          78.57,
          50,
          58.82,
          93.33,
          68.42,
          76.99
         ],
         "yaxis": "y"
        },
        {
         "hovertemplate": "color=Rahmat Shah<br>index=%{x}<br>value=%{y}<extra></extra>",
         "legendgroup": "Rahmat Shah",
         "marker": {
          "color": "#FF97FF",
          "symbol": "circle"
         },
         "mode": "markers",
         "name": "Rahmat Shah",
         "orientation": "v",
         "showlegend": true,
         "type": "scatter",
         "x": [
          196,
          250,
          281,
          424,
          442,
          560,
          766,
          777,
          844
         ],
         "xaxis": "x",
         "y": [
          72,
          37.5,
          68.18,
          72.72,
          56.52,
          96.29,
          58.06,
          83.78,
          91.66
         ],
         "yaxis": "y"
        },
        {
         "hovertemplate": "color=Hashmatullah Shahidi<br>index=%{x}<br>value=%{y}<extra></extra>",
         "legendgroup": "Hashmatullah Shahidi",
         "marker": {
          "color": "#FECB52",
          "symbol": "circle"
         },
         "mode": "markers",
         "name": "Hashmatullah Shahidi",
         "orientation": "v",
         "showlegend": true,
         "type": "scatter",
         "x": [
          197,
          251,
          282,
          425,
          443,
          561,
          767,
          778,
          845
         ],
         "xaxis": "x",
         "y": [
          47.36,
          38.88,
          60.46,
          90.9,
          28.57,
          87.5,
          27.58,
          78.37,
          106.66
         ],
         "yaxis": "y"
        },
        {
         "hovertemplate": "color=Najibullah Zadran<br>index=%{x}<br>value=%{y}<extra></extra>",
         "legendgroup": "Najibullah Zadran",
         "marker": {
          "color": "#636efa",
          "symbol": "circle"
         },
         "mode": "markers",
         "name": "Najibullah Zadran",
         "orientation": "v",
         "showlegend": true,
         "type": "scatter",
         "x": [
          198,
          428
         ],
         "xaxis": "x",
         "y": [
          38.46,
          25
         ],
         "yaxis": "y"
        },
        {
         "hovertemplate": "color=Mohammad Nabi<br>index=%{x}<br>value=%{y}<extra></extra>",
         "legendgroup": "Mohammad Nabi",
         "marker": {
          "color": "#EF553B",
          "symbol": "circle"
         },
         "mode": "markers",
         "name": "Mohammad Nabi",
         "orientation": "v",
         "showlegend": true,
         "type": "scatter",
         "x": [
          199,
          254,
          284,
          427,
          446,
          770
         ],
         "xaxis": "x",
         "y": [
          50,
          60,
          120,
          70.37,
          66.66,
          77.77
         ],
         "yaxis": "y"
        },
        {
         "hovertemplate": "color=Azmatullah Omarzai<br>index=%{x}<br>value=%{y}<extra></extra>",
         "legendgroup": "Azmatullah Omarzai",
         "marker": {
          "color": "#00cc96",
          "symbol": "circle"
         },
         "mode": "markers",
         "name": "Azmatullah Omarzai",
         "orientation": "v",
         "showlegend": true,
         "type": "scatter",
         "x": [
          200,
          252,
          283,
          426,
          444,
          562,
          768,
          779
         ],
         "xaxis": "x",
         "y": [
          110,
          79.16,
          122.22,
          89.85,
          90.65,
          110.71,
          84.37,
          115.87
         ],
         "yaxis": "y"
        },
        {
         "hovertemplate": "color=Rashid Khan<br>index=%{x}<br>value=%{y}<extra></extra>",
         "legendgroup": "Rashid Khan",
         "marker": {
          "color": "#ab63fa",
          "symbol": "circle"
         },
         "mode": "markers",
         "name": "Rashid Khan",
         "orientation": "v",
         "showlegend": true,
         "type": "scatter",
         "x": [
          201,
          255,
          285,
          429,
          447,
          771
         ],
         "xaxis": "x",
         "y": [
          56.25,
          104.54,
          194.44,
          133.33,
          46.66,
          61.53
         ],
         "yaxis": "y"
        },
        {
         "hovertemplate": "color=Mujeeb Ur Rahman<br>index=%{x}<br>value=%{y}<extra></extra>",
         "legendgroup": "Mujeeb Ur Rahman",
         "marker": {
          "color": "#FFA15A",
          "symbol": "circle"
         },
         "mode": "markers",
         "name": "Mujeeb Ur Rahman",
         "orientation": "v",
         "showlegend": true,
         "type": "scatter",
         "x": [
          202,
          256,
          430,
          449,
          772
         ],
         "xaxis": "x",
         "y": [
          25,
          175,
          83.33,
          160,
          133.33
         ],
         "yaxis": "y"
        },
        {
         "hovertemplate": "color=Naveen-ul-Haq<br>index=%{x}<br>value=%{y}<extra></extra>",
         "legendgroup": "Naveen-ul-Haq",
         "marker": {
          "color": "#19d3f3",
          "symbol": "circle"
         },
         "mode": "markers",
         "name": "Naveen-ul-Haq",
         "orientation": "v",
         "showlegend": true,
         "type": "scatter",
         "x": [
          203,
          257,
          431,
          450,
          773
         ],
         "xaxis": "x",
         "y": [
          0,
          83.33,
          112.5,
          50,
          0
         ],
         "yaxis": "y"
        },
        {
         "hovertemplate": "color=Fazalhaq Farooqi<br>index=%{x}<br>value=%{y}<extra></extra>",
         "legendgroup": "Fazalhaq Farooqi",
         "marker": {
          "color": "#FF6692",
          "symbol": "circle"
         },
         "mode": "markers",
         "name": "Fazalhaq Farooqi",
         "orientation": "v",
         "showlegend": true,
         "type": "scatter",
         "x": [
          204,
          258,
          774
         ],
         "xaxis": "x",
         "y": [
          0,
          50,
          0
         ],
         "yaxis": "y"
        },
        {
         "hovertemplate": "color=Alex Carey<br>index=%{x}<br>value=%{y}<extra></extra>",
         "legendgroup": "Alex Carey",
         "marker": {
          "color": "#B6E880",
          "symbol": "circle"
         },
         "mode": "markers",
         "name": "Alex Carey",
         "orientation": "v",
         "showlegend": true,
         "type": "scatter",
         "x": [
          210
         ],
         "xaxis": "x",
         "y": [
          0
         ],
         "yaxis": "y"
        },
        {
         "hovertemplate": "color=Cameron Green<br>index=%{x}<br>value=%{y}<extra></extra>",
         "legendgroup": "Cameron Green",
         "marker": {
          "color": "#FF97FF",
          "symbol": "circle"
         },
         "mode": "markers",
         "name": "Cameron Green",
         "orientation": "v",
         "showlegend": true,
         "type": "scatter",
         "x": [
          211,
          221,
          316
         ],
         "xaxis": "x",
         "y": [
          40,
          90.38,
          72.72
         ],
         "yaxis": "y"
        },
        {
         "hovertemplate": "color=Marcus Stoinis<br>index=%{x}<br>value=%{y}<extra></extra>",
         "legendgroup": "Marcus Stoinis",
         "marker": {
          "color": "#FECB52",
          "symbol": "circle"
         },
         "mode": "markers",
         "name": "Marcus Stoinis",
         "orientation": "v",
         "showlegend": true,
         "type": "scatter",
         "x": [
          222,
          369,
          630,
          701,
          759
         ],
         "xaxis": "x",
         "y": [
          109.37,
          87.5,
          200,
          85.71,
          125
         ],
         "yaxis": "y"
        },
        {
         "hovertemplate": "color=Nasum Ahmed<br>index=%{x}<br>value=%{y}<extra></extra>",
         "legendgroup": "Nasum Ahmed",
         "marker": {
          "color": "#636efa",
          "symbol": "circle"
         },
         "mode": "markers",
         "name": "Nasum Ahmed",
         "orientation": "v",
         "showlegend": true,
         "type": "scatter",
         "x": [
          234,
          327,
          526
         ],
         "xaxis": "x",
         "y": [
          63.63,
          77.77,
          100
         ],
         "yaxis": "y"
        },
        {
         "hovertemplate": "color=Mahedi Hasan<br>index=%{x}<br>value=%{y}<extra></extra>",
         "legendgroup": "Mahedi Hasan",
         "marker": {
          "color": "#EF553B",
          "symbol": "circle"
         },
         "mode": "markers",
         "name": "Mahedi Hasan",
         "orientation": "v",
         "showlegend": true,
         "type": "scatter",
         "x": [
          235,
          665,
          860
         ],
         "xaxis": "x",
         "y": [
          66.66,
          43.75,
          44.73
         ],
         "yaxis": "y"
        },
        {
         "hovertemplate": "color=Reece Topley<br>index=%{x}<br>value=%{y}<extra></extra>",
         "legendgroup": "Reece Topley",
         "marker": {
          "color": "#00cc96",
          "symbol": "circle"
         },
         "mode": "markers",
         "name": "Reece Topley",
         "orientation": "v",
         "showlegend": true,
         "type": "scatter",
         "x": [
          247,
          679
         ],
         "xaxis": "x",
         "y": [
          50,
          214.28
         ],
         "yaxis": "y"
        },
        {
         "hovertemplate": "color=Ikram Alikhil<br>index=%{x}<br>value=%{y}<extra></extra>",
         "legendgroup": "Ikram Alikhil",
         "marker": {
          "color": "#ab63fa",
          "symbol": "circle"
         },
         "mode": "markers",
         "name": "Ikram Alikhil",
         "orientation": "v",
         "showlegend": true,
         "type": "scatter",
         "x": [
          253,
          445,
          769
         ],
         "xaxis": "x",
         "y": [
          87.87,
          85.71,
          90.47
         ],
         "yaxis": "y"
        },
        {
         "hovertemplate": "color=Ben Stokes<br>index=%{x}<br>value=%{y}<extra></extra>",
         "legendgroup": "Ben Stokes",
         "marker": {
          "color": "#FFA15A",
          "symbol": "circle"
         },
         "mode": "markers",
         "name": "Ben Stokes",
         "orientation": "v",
         "showlegend": true,
         "type": "scatter",
         "x": [
          262,
          379,
          465,
          504,
          605,
          646
         ],
         "xaxis": "x",
         "y": [
          58.9,
          128.57,
          110.52,
          0,
          62.5,
          71.11
         ],
         "yaxis": "y"
        },
        {
         "hovertemplate": "color=David Willey<br>index=%{x}<br>value=%{y}<extra></extra>",
         "legendgroup": "David Willey",
         "marker": {
          "color": "#19d3f3",
          "symbol": "circle"
         },
         "mode": "markers",
         "name": "David Willey",
         "orientation": "v",
         "showlegend": true,
         "type": "scatter",
         "x": [
          267,
          384,
          470,
          509,
          608,
          651
         ],
         "xaxis": "x",
         "y": [
          82.35,
          300,
          300,
          94.11,
          100,
          107.14
         ],
         "yaxis": "y"
        },
        {
         "hovertemplate": "color=Mohammad Wasim<br>index=%{x}<br>value=%{y}<extra></extra>",
         "legendgroup": "Mohammad Wasim",
         "marker": {
          "color": "#FF6692",
          "symbol": "circle"
         },
         "mode": "markers",
         "name": "Mohammad Wasim",
         "orientation": "v",
         "showlegend": true,
         "type": "scatter",
         "x": [
          295,
          873
         ],
         "xaxis": "x",
         "y": [
          77.77,
          114.28
         ],
         "yaxis": "y"
        },
        {
         "hovertemplate": "color=Dimuth Karunaratne<br>index=%{x}<br>value=%{y}<extra></extra>",
         "legendgroup": "Dimuth Karunaratne",
         "marker": {
          "color": "#B6E880",
          "symbol": "circle"
         },
         "mode": "markers",
         "name": "Dimuth Karunaratne",
         "orientation": "v",
         "showlegend": true,
         "type": "scatter",
         "x": [
          348,
          474
         ],
         "xaxis": "x",
         "y": [
          71.42,
          0
         ],
         "yaxis": "y"
        },
        {
         "hovertemplate": "color=Gus Atkinson<br>index=%{x}<br>value=%{y}<extra></extra>",
         "legendgroup": "Gus Atkinson",
         "marker": {
          "color": "#FF97FF",
          "symbol": "circle"
         },
         "mode": "markers",
         "name": "Gus Atkinson",
         "orientation": "v",
         "showlegend": true,
         "type": "scatter",
         "x": [
          385,
          471,
          610
         ],
         "xaxis": "x",
         "y": [
          200,
          0,
          166.66
         ],
         "yaxis": "y"
        },
        {
         "hovertemplate": "color=Dasun Shanaka<br>index=%{x}<br>value=%{y}<extra></extra>",
         "legendgroup": "Dasun Shanaka",
         "marker": {
          "color": "#FECB52",
          "symbol": "circle"
         },
         "mode": "markers",
         "name": "Dasun Shanaka",
         "orientation": "v",
         "showlegend": true,
         "type": "scatter",
         "x": [
          404,
          732
         ],
         "xaxis": "x",
         "y": [
          66.66,
          109.67
         ],
         "yaxis": "y"
        },
        {
         "hovertemplate": "color=Matheesha Pathirana<br>index=%{x}<br>value=%{y}<extra></extra>",
         "legendgroup": "Matheesha Pathirana",
         "marker": {
          "color": "#636efa",
          "symbol": "circle"
         },
         "mode": "markers",
         "name": "Matheesha Pathirana",
         "orientation": "v",
         "showlegend": true,
         "type": "scatter",
         "x": [
          407,
          735
         ],
         "xaxis": "x",
         "y": [
          33.33,
          31.25
         ],
         "yaxis": "y"
        },
        {
         "hovertemplate": "color=Kane Williamson<br>index=%{x}<br>value=%{y}<extra></extra>",
         "legendgroup": "Kane Williamson",
         "marker": {
          "color": "#EF553B",
          "symbol": "circle"
         },
         "mode": "markers",
         "name": "Kane Williamson",
         "orientation": "v",
         "showlegend": true,
         "type": "scatter",
         "x": [
          416,
          532,
          542,
          549
         ],
         "xaxis": "x",
         "y": [
          120.25,
          72.89,
          93.33,
          94.52
         ],
         "yaxis": "y"
        },
        {
         "hovertemplate": "color=Noor Ahmad<br>index=%{x}<br>value=%{y}<extra></extra>",
         "legendgroup": "Noor Ahmad",
         "marker": {
          "color": "#00cc96",
          "symbol": "circle"
         },
         "mode": "markers",
         "name": "Noor Ahmad",
         "orientation": "v",
         "showlegend": true,
         "type": "scatter",
         "x": [
          448
         ],
         "xaxis": "x",
         "y": [
          81.25
         ],
         "yaxis": "y"
        },
        {
         "hovertemplate": "color=Shariz Ahmad<br>index=%{x}<br>value=%{y}<extra></extra>",
         "legendgroup": "Shariz Ahmad",
         "marker": {
          "color": "#ab63fa",
          "symbol": "circle"
         },
         "mode": "markers",
         "name": "Shariz Ahmad",
         "orientation": "v",
         "showlegend": true,
         "type": "scatter",
         "x": [
          459
         ],
         "xaxis": "x",
         "y": [
          75
         ],
         "yaxis": "y"
        },
        {
         "hovertemplate": "color=Dushan Hemantha<br>index=%{x}<br>value=%{y}<extra></extra>",
         "legendgroup": "Dushan Hemantha",
         "marker": {
          "color": "#FFA15A",
          "symbol": "circle"
         },
         "mode": "markers",
         "name": "Dushan Hemantha",
         "orientation": "v",
         "showlegend": true,
         "type": "scatter",
         "x": [
          479,
          518
         ],
         "xaxis": "x",
         "y": [
          0,
          133.33
         ],
         "yaxis": "y"
        },
        {
         "hovertemplate": "color=Hasan Mahmud<br>index=%{x}<br>value=%{y}<extra></extra>",
         "legendgroup": "Hasan Mahmud",
         "marker": {
          "color": "#19d3f3",
          "symbol": "circle"
         },
         "mode": "markers",
         "name": "Hasan Mahmud",
         "orientation": "v",
         "showlegend": true,
         "type": "scatter",
         "x": [
          527
         ],
         "xaxis": "x",
         "y": [
          60
         ],
         "yaxis": "y"
        },
        {
         "hovertemplate": "color=Tim Southee<br>index=%{x}<br>value=%{y}<extra></extra>",
         "legendgroup": "Tim Southee",
         "marker": {
          "color": "#FF6692",
          "symbol": "circle"
         },
         "mode": "markers",
         "name": "Tim Southee",
         "orientation": "v",
         "showlegend": true,
         "type": "scatter",
         "x": [
          555,
          722
         ],
         "xaxis": "x",
         "y": [
          90,
          63.63
         ],
         "yaxis": "y"
        },
        {
         "hovertemplate": "color=Tanzim Hasan Sakib<br>index=%{x}<br>value=%{y}<extra></extra>",
         "legendgroup": "Tanzim Hasan Sakib",
         "marker": {
          "color": "#B6E880",
          "symbol": "circle"
         },
         "mode": "markers",
         "name": "Tanzim Hasan Sakib",
         "orientation": "v",
         "showlegend": true,
         "type": "scatter",
         "x": [
          571
         ],
         "xaxis": "x",
         "y": [
          83.33
         ],
         "yaxis": "y"
        },
        {
         "hovertemplate": "color=James Neesham<br>index=%{x}<br>value=%{y}<extra></extra>",
         "legendgroup": "James Neesham",
         "marker": {
          "color": "#FF97FF",
          "symbol": "circle"
         },
         "mode": "markers",
         "name": "James Neesham",
         "orientation": "v",
         "showlegend": true,
         "type": "scatter",
         "x": [
          586,
          723
         ],
         "xaxis": "x",
         "y": [
          148.71,
          0
         ],
         "yaxis": "y"
        },
        {
         "hovertemplate": "color=Lungi Ngidi<br>index=%{x}<br>value=%{y}<extra></extra>",
         "legendgroup": "Lungi Ngidi",
         "marker": {
          "color": "#FECB52",
          "symbol": "circle"
         },
         "mode": "markers",
         "name": "Lungi Ngidi",
         "orientation": "v",
         "showlegend": true,
         "type": "scatter",
         "x": [
          601,
          713,
          789
         ],
         "xaxis": "x",
         "y": [
          29.16,
          28.57,
          0
         ],
         "yaxis": "y"
        },
        {
         "hovertemplate": "color=Ishan Kishan<br>index=%{x}<br>value=%{y}<extra></extra>",
         "legendgroup": "Ishan Kishan",
         "marker": {
          "color": "#636efa",
          "symbol": "circle"
         },
         "mode": "markers",
         "name": "Ishan Kishan",
         "orientation": "v",
         "showlegend": true,
         "type": "scatter",
         "x": [
          638,
          839
         ],
         "xaxis": "x",
         "y": [
          0,
          100
         ],
         "yaxis": "y"
        },
        {
         "hovertemplate": "color=Hardik Pandya<br>index=%{x}<br>value=%{y}<extra></extra>",
         "legendgroup": "Hardik Pandya",
         "marker": {
          "color": "#EF553B",
          "symbol": "circle"
         },
         "mode": "markers",
         "name": "Hardik Pandya",
         "orientation": "v",
         "showlegend": true,
         "type": "scatter",
         "x": [
          642
         ],
         "xaxis": "x",
         "y": [
          137.5
         ],
         "yaxis": "y"
        },
        {
         "hovertemplate": "color=Ryan Klein<br>index=%{x}<br>value=%{y}<extra></extra>",
         "legendgroup": "Ryan Klein",
         "marker": {
          "color": "#00cc96",
          "symbol": "circle"
         },
         "mode": "markers",
         "name": "Ryan Klein",
         "orientation": "v",
         "showlegend": true,
         "type": "scatter",
         "x": [
          692
         ],
         "xaxis": "x",
         "y": [
          53.33
         ],
         "yaxis": "y"
        },
        {
         "hovertemplate": "color=Usama Mir<br>index=%{x}<br>value=%{y}<extra></extra>",
         "legendgroup": "Usama Mir",
         "marker": {
          "color": "#ab63fa",
          "symbol": "circle"
         },
         "mode": "markers",
         "name": "Usama Mir",
         "orientation": "v",
         "showlegend": true,
         "type": "scatter",
         "x": [
          798
         ],
         "xaxis": "x",
         "y": [
          0
         ],
         "yaxis": "y"
        },
        {
         "hovertemplate": "color=Andile Phehlukwayo<br>index=%{x}<br>value=%{y}<extra></extra>",
         "legendgroup": "Andile Phehlukwayo",
         "marker": {
          "color": "#FFA15A",
          "symbol": "circle"
         },
         "mode": "markers",
         "name": "Andile Phehlukwayo",
         "orientation": "v",
         "showlegend": true,
         "type": "scatter",
         "x": [
          852
         ],
         "xaxis": "x",
         "y": [
          105.4
         ],
         "yaxis": "y"
        },
        {
         "hovertemplate": "color=Agha Salman<br>index=%{x}<br>value=%{y}<extra></extra>",
         "legendgroup": "Agha Salman",
         "marker": {
          "color": "#19d3f3",
          "symbol": "circle"
         },
         "mode": "markers",
         "name": "Agha Salman",
         "orientation": "v",
         "showlegend": true,
         "type": "scatter",
         "x": [
          869
         ],
         "xaxis": "x",
         "y": [
          113.33
         ],
         "yaxis": "y"
        }
       ],
       "layout": {
        "autosize": true,
        "legend": {
         "title": {
          "text": "color"
         },
         "tracegroupgap": 0
        },
        "template": {
         "data": {
          "bar": [
           {
            "error_x": {
             "color": "#2a3f5f"
            },
            "error_y": {
             "color": "#2a3f5f"
            },
            "marker": {
             "line": {
              "color": "#E5ECF6",
              "width": 0.5
             },
             "pattern": {
              "fillmode": "overlay",
              "size": 10,
              "solidity": 0.2
             }
            },
            "type": "bar"
           }
          ],
          "barpolar": [
           {
            "marker": {
             "line": {
              "color": "#E5ECF6",
              "width": 0.5
             },
             "pattern": {
              "fillmode": "overlay",
              "size": 10,
              "solidity": 0.2
             }
            },
            "type": "barpolar"
           }
          ],
          "carpet": [
           {
            "aaxis": {
             "endlinecolor": "#2a3f5f",
             "gridcolor": "white",
             "linecolor": "white",
             "minorgridcolor": "white",
             "startlinecolor": "#2a3f5f"
            },
            "baxis": {
             "endlinecolor": "#2a3f5f",
             "gridcolor": "white",
             "linecolor": "white",
             "minorgridcolor": "white",
             "startlinecolor": "#2a3f5f"
            },
            "type": "carpet"
           }
          ],
          "choropleth": [
           {
            "colorbar": {
             "outlinewidth": 0,
             "ticks": ""
            },
            "type": "choropleth"
           }
          ],
          "contour": [
           {
            "colorbar": {
             "outlinewidth": 0,
             "ticks": ""
            },
            "colorscale": [
             [
              0,
              "#0d0887"
             ],
             [
              0.1111111111111111,
              "#46039f"
             ],
             [
              0.2222222222222222,
              "#7201a8"
             ],
             [
              0.3333333333333333,
              "#9c179e"
             ],
             [
              0.4444444444444444,
              "#bd3786"
             ],
             [
              0.5555555555555556,
              "#d8576b"
             ],
             [
              0.6666666666666666,
              "#ed7953"
             ],
             [
              0.7777777777777778,
              "#fb9f3a"
             ],
             [
              0.8888888888888888,
              "#fdca26"
             ],
             [
              1,
              "#f0f921"
             ]
            ],
            "type": "contour"
           }
          ],
          "contourcarpet": [
           {
            "colorbar": {
             "outlinewidth": 0,
             "ticks": ""
            },
            "type": "contourcarpet"
           }
          ],
          "heatmap": [
           {
            "colorbar": {
             "outlinewidth": 0,
             "ticks": ""
            },
            "colorscale": [
             [
              0,
              "#0d0887"
             ],
             [
              0.1111111111111111,
              "#46039f"
             ],
             [
              0.2222222222222222,
              "#7201a8"
             ],
             [
              0.3333333333333333,
              "#9c179e"
             ],
             [
              0.4444444444444444,
              "#bd3786"
             ],
             [
              0.5555555555555556,
              "#d8576b"
             ],
             [
              0.6666666666666666,
              "#ed7953"
             ],
             [
              0.7777777777777778,
              "#fb9f3a"
             ],
             [
              0.8888888888888888,
              "#fdca26"
             ],
             [
              1,
              "#f0f921"
             ]
            ],
            "type": "heatmap"
           }
          ],
          "heatmapgl": [
           {
            "colorbar": {
             "outlinewidth": 0,
             "ticks": ""
            },
            "colorscale": [
             [
              0,
              "#0d0887"
             ],
             [
              0.1111111111111111,
              "#46039f"
             ],
             [
              0.2222222222222222,
              "#7201a8"
             ],
             [
              0.3333333333333333,
              "#9c179e"
             ],
             [
              0.4444444444444444,
              "#bd3786"
             ],
             [
              0.5555555555555556,
              "#d8576b"
             ],
             [
              0.6666666666666666,
              "#ed7953"
             ],
             [
              0.7777777777777778,
              "#fb9f3a"
             ],
             [
              0.8888888888888888,
              "#fdca26"
             ],
             [
              1,
              "#f0f921"
             ]
            ],
            "type": "heatmapgl"
           }
          ],
          "histogram": [
           {
            "marker": {
             "pattern": {
              "fillmode": "overlay",
              "size": 10,
              "solidity": 0.2
             }
            },
            "type": "histogram"
           }
          ],
          "histogram2d": [
           {
            "colorbar": {
             "outlinewidth": 0,
             "ticks": ""
            },
            "colorscale": [
             [
              0,
              "#0d0887"
             ],
             [
              0.1111111111111111,
              "#46039f"
             ],
             [
              0.2222222222222222,
              "#7201a8"
             ],
             [
              0.3333333333333333,
              "#9c179e"
             ],
             [
              0.4444444444444444,
              "#bd3786"
             ],
             [
              0.5555555555555556,
              "#d8576b"
             ],
             [
              0.6666666666666666,
              "#ed7953"
             ],
             [
              0.7777777777777778,
              "#fb9f3a"
             ],
             [
              0.8888888888888888,
              "#fdca26"
             ],
             [
              1,
              "#f0f921"
             ]
            ],
            "type": "histogram2d"
           }
          ],
          "histogram2dcontour": [
           {
            "colorbar": {
             "outlinewidth": 0,
             "ticks": ""
            },
            "colorscale": [
             [
              0,
              "#0d0887"
             ],
             [
              0.1111111111111111,
              "#46039f"
             ],
             [
              0.2222222222222222,
              "#7201a8"
             ],
             [
              0.3333333333333333,
              "#9c179e"
             ],
             [
              0.4444444444444444,
              "#bd3786"
             ],
             [
              0.5555555555555556,
              "#d8576b"
             ],
             [
              0.6666666666666666,
              "#ed7953"
             ],
             [
              0.7777777777777778,
              "#fb9f3a"
             ],
             [
              0.8888888888888888,
              "#fdca26"
             ],
             [
              1,
              "#f0f921"
             ]
            ],
            "type": "histogram2dcontour"
           }
          ],
          "mesh3d": [
           {
            "colorbar": {
             "outlinewidth": 0,
             "ticks": ""
            },
            "type": "mesh3d"
           }
          ],
          "parcoords": [
           {
            "line": {
             "colorbar": {
              "outlinewidth": 0,
              "ticks": ""
             }
            },
            "type": "parcoords"
           }
          ],
          "pie": [
           {
            "automargin": true,
            "type": "pie"
           }
          ],
          "scatter": [
           {
            "fillpattern": {
             "fillmode": "overlay",
             "size": 10,
             "solidity": 0.2
            },
            "type": "scatter"
           }
          ],
          "scatter3d": [
           {
            "line": {
             "colorbar": {
              "outlinewidth": 0,
              "ticks": ""
             }
            },
            "marker": {
             "colorbar": {
              "outlinewidth": 0,
              "ticks": ""
             }
            },
            "type": "scatter3d"
           }
          ],
          "scattercarpet": [
           {
            "marker": {
             "colorbar": {
              "outlinewidth": 0,
              "ticks": ""
             }
            },
            "type": "scattercarpet"
           }
          ],
          "scattergeo": [
           {
            "marker": {
             "colorbar": {
              "outlinewidth": 0,
              "ticks": ""
             }
            },
            "type": "scattergeo"
           }
          ],
          "scattergl": [
           {
            "marker": {
             "colorbar": {
              "outlinewidth": 0,
              "ticks": ""
             }
            },
            "type": "scattergl"
           }
          ],
          "scattermapbox": [
           {
            "marker": {
             "colorbar": {
              "outlinewidth": 0,
              "ticks": ""
             }
            },
            "type": "scattermapbox"
           }
          ],
          "scatterpolar": [
           {
            "marker": {
             "colorbar": {
              "outlinewidth": 0,
              "ticks": ""
             }
            },
            "type": "scatterpolar"
           }
          ],
          "scatterpolargl": [
           {
            "marker": {
             "colorbar": {
              "outlinewidth": 0,
              "ticks": ""
             }
            },
            "type": "scatterpolargl"
           }
          ],
          "scatterternary": [
           {
            "marker": {
             "colorbar": {
              "outlinewidth": 0,
              "ticks": ""
             }
            },
            "type": "scatterternary"
           }
          ],
          "surface": [
           {
            "colorbar": {
             "outlinewidth": 0,
             "ticks": ""
            },
            "colorscale": [
             [
              0,
              "#0d0887"
             ],
             [
              0.1111111111111111,
              "#46039f"
             ],
             [
              0.2222222222222222,
              "#7201a8"
             ],
             [
              0.3333333333333333,
              "#9c179e"
             ],
             [
              0.4444444444444444,
              "#bd3786"
             ],
             [
              0.5555555555555556,
              "#d8576b"
             ],
             [
              0.6666666666666666,
              "#ed7953"
             ],
             [
              0.7777777777777778,
              "#fb9f3a"
             ],
             [
              0.8888888888888888,
              "#fdca26"
             ],
             [
              1,
              "#f0f921"
             ]
            ],
            "type": "surface"
           }
          ],
          "table": [
           {
            "cells": {
             "fill": {
              "color": "#EBF0F8"
             },
             "line": {
              "color": "white"
             }
            },
            "header": {
             "fill": {
              "color": "#C8D4E3"
             },
             "line": {
              "color": "white"
             }
            },
            "type": "table"
           }
          ]
         },
         "layout": {
          "annotationdefaults": {
           "arrowcolor": "#2a3f5f",
           "arrowhead": 0,
           "arrowwidth": 1
          },
          "autotypenumbers": "strict",
          "coloraxis": {
           "colorbar": {
            "outlinewidth": 0,
            "ticks": ""
           }
          },
          "colorscale": {
           "diverging": [
            [
             0,
             "#8e0152"
            ],
            [
             0.1,
             "#c51b7d"
            ],
            [
             0.2,
             "#de77ae"
            ],
            [
             0.3,
             "#f1b6da"
            ],
            [
             0.4,
             "#fde0ef"
            ],
            [
             0.5,
             "#f7f7f7"
            ],
            [
             0.6,
             "#e6f5d0"
            ],
            [
             0.7,
             "#b8e186"
            ],
            [
             0.8,
             "#7fbc41"
            ],
            [
             0.9,
             "#4d9221"
            ],
            [
             1,
             "#276419"
            ]
           ],
           "sequential": [
            [
             0,
             "#0d0887"
            ],
            [
             0.1111111111111111,
             "#46039f"
            ],
            [
             0.2222222222222222,
             "#7201a8"
            ],
            [
             0.3333333333333333,
             "#9c179e"
            ],
            [
             0.4444444444444444,
             "#bd3786"
            ],
            [
             0.5555555555555556,
             "#d8576b"
            ],
            [
             0.6666666666666666,
             "#ed7953"
            ],
            [
             0.7777777777777778,
             "#fb9f3a"
            ],
            [
             0.8888888888888888,
             "#fdca26"
            ],
            [
             1,
             "#f0f921"
            ]
           ],
           "sequentialminus": [
            [
             0,
             "#0d0887"
            ],
            [
             0.1111111111111111,
             "#46039f"
            ],
            [
             0.2222222222222222,
             "#7201a8"
            ],
            [
             0.3333333333333333,
             "#9c179e"
            ],
            [
             0.4444444444444444,
             "#bd3786"
            ],
            [
             0.5555555555555556,
             "#d8576b"
            ],
            [
             0.6666666666666666,
             "#ed7953"
            ],
            [
             0.7777777777777778,
             "#fb9f3a"
            ],
            [
             0.8888888888888888,
             "#fdca26"
            ],
            [
             1,
             "#f0f921"
            ]
           ]
          },
          "colorway": [
           "#636efa",
           "#EF553B",
           "#00cc96",
           "#ab63fa",
           "#FFA15A",
           "#19d3f3",
           "#FF6692",
           "#B6E880",
           "#FF97FF",
           "#FECB52"
          ],
          "font": {
           "color": "#2a3f5f"
          },
          "geo": {
           "bgcolor": "white",
           "lakecolor": "white",
           "landcolor": "#E5ECF6",
           "showlakes": true,
           "showland": true,
           "subunitcolor": "white"
          },
          "hoverlabel": {
           "align": "left"
          },
          "hovermode": "closest",
          "mapbox": {
           "style": "light"
          },
          "paper_bgcolor": "white",
          "plot_bgcolor": "#E5ECF6",
          "polar": {
           "angularaxis": {
            "gridcolor": "white",
            "linecolor": "white",
            "ticks": ""
           },
           "bgcolor": "#E5ECF6",
           "radialaxis": {
            "gridcolor": "white",
            "linecolor": "white",
            "ticks": ""
           }
          },
          "scene": {
           "xaxis": {
            "backgroundcolor": "#E5ECF6",
            "gridcolor": "white",
            "gridwidth": 2,
            "linecolor": "white",
            "showbackground": true,
            "ticks": "",
            "zerolinecolor": "white"
           },
           "yaxis": {
            "backgroundcolor": "#E5ECF6",
            "gridcolor": "white",
            "gridwidth": 2,
            "linecolor": "white",
            "showbackground": true,
            "ticks": "",
            "zerolinecolor": "white"
           },
           "zaxis": {
            "backgroundcolor": "#E5ECF6",
            "gridcolor": "white",
            "gridwidth": 2,
            "linecolor": "white",
            "showbackground": true,
            "ticks": "",
            "zerolinecolor": "white"
           }
          },
          "shapedefaults": {
           "line": {
            "color": "#2a3f5f"
           }
          },
          "ternary": {
           "aaxis": {
            "gridcolor": "white",
            "linecolor": "white",
            "ticks": ""
           },
           "baxis": {
            "gridcolor": "white",
            "linecolor": "white",
            "ticks": ""
           },
           "bgcolor": "#E5ECF6",
           "caxis": {
            "gridcolor": "white",
            "linecolor": "white",
            "ticks": ""
           }
          },
          "title": {
           "x": 0.05
          },
          "xaxis": {
           "automargin": true,
           "gridcolor": "white",
           "linecolor": "white",
           "ticks": "",
           "title": {
            "standoff": 15
           },
           "zerolinecolor": "white",
           "zerolinewidth": 2
          },
          "yaxis": {
           "automargin": true,
           "gridcolor": "white",
           "linecolor": "white",
           "ticks": "",
           "title": {
            "standoff": 15
           },
           "zerolinecolor": "white",
           "zerolinewidth": 2
          }
         }
        },
        "title": {
         "text": "Strike Rate"
        },
        "xaxis": {
         "anchor": "y",
         "autorange": true,
         "domain": [
          0,
          1
         ],
         "range": [
          -53.7320540156361,
          927.7320540156361
         ],
         "title": {
          "text": "index"
         },
         "type": "linear"
        },
        "yaxis": {
         "anchor": "x",
         "autorange": true,
         "domain": [
          0,
          1
         ],
         "range": [
          -49.51456310679612,
          649.5145631067961
         ],
         "title": {
          "text": "value"
         },
         "type": "linear"
        }
       }
      },
      "image/png": "[encoded data removed]",
      "text/html": [
       "<div>                            <div id=\"81e04868-a2a3-4b52-844f-f8821d6e1b39\" class=\"plotly-graph-div\" style=\"height:525px; width:100%;\"></div>            <script type=\"text/javascript\">                require([\"plotly\"], function(Plotly) {                    window.PLOTLYENV=window.PLOTLYENV || {};                                    if (document.getElementById(\"81e04868-a2a3-4b52-844f-f8821d6e1b39\")) {                    Plotly.newPlot(                        \"81e04868-a2a3-4b52-844f-f8821d6e1b39\",                        [{\"hovertemplate\":\"color=Rohit Sharma<br>index=%{x}<br>value=%{y}<extra></extra>\",\"legendgroup\":\"Rohit Sharma\",\"marker\":{\"color\":\"#636efa\",\"symbol\":\"circle\"},\"mode\":\"markers\",\"name\":\"Rohit Sharma\",\"orientation\":\"v\",\"showlegend\":true,\"x\":[0,20,31,92,358,408,535,572,637,748,838],\"xaxis\":\"x\",\"y\":[200.0,151.61,86.13,162.06,166.66,112.96,136.5,115.0,0.0,120.0,155.95],\"yaxis\":\"y\",\"type\":\"scatter\"},{\"hovertemplate\":\"color=Shubman Gill<br>index=%{x}<br>value=%{y}<extra></extra>\",\"legendgroup\":\"Shubman Gill\",\"marker\":{\"color\":\"#EF553B\",\"symbol\":\"circle\"},\"mode\":\"markers\",\"name\":\"Shubman Gill\",\"orientation\":\"v\",\"showlegend\":true,\"x\":[1,21,32,93,359,409,536,573,749],\"xaxis\":\"x\",\"y\":[100.0,57.14,69.23,121.21,95.83,159.37,145.45,83.87,96.36],\"yaxis\":\"y\",\"type\":\"scatter\"},{\"hovertemplate\":\"color=Virat Kohli<br>index=%{x}<br>value=%{y}<extra></extra>\",\"legendgroup\":\"Virat Kohli\",\"marker\":{\"color\":\"#00cc96\",\"symbol\":\"circle\"},\"mode\":\"markers\",\"name\":\"Virat Kohli\",\"orientation\":\"v\",\"showlegend\":true,\"x\":[2,22,33,94,360,410,537,574,639,750,840],\"xaxis\":\"x\",\"y\":[93.61,85.71,0.0,103.53,83.47,91.07,88.88,91.34,73.27,106.18,98.21],\"yaxis\":\"y\",\"type\":\"scatter\"},{\"hovertemplate\":\"color=Shreyas Iyer<br>index=%{x}<br>value=%{y}<extra></extra>\",\"legendgroup\":\"Shreyas Iyer\",\"marker\":{\"color\":\"#ab63fa\",\"symbol\":\"circle\"},\"mode\":\"markers\",\"name\":\"Shreyas Iyer\",\"orientation\":\"v\",\"showlegend\":true,\"x\":[3,23,34,95,361,411,538,575,640,751,841],\"xaxis\":\"x\",\"y\":[146.42,133.33,25.0,150.0,88.5,136.17,85.48,113.79,0.0,76.0,108.69],\"yaxis\":\"y\",\"type\":\"scatter\"},{\"hovertemplate\":\"color=KL Rahul<br>index=%{x}<br>value=%{y}<extra></extra>\",\"legendgroup\":\"KL Rahul\",\"marker\":{\"color\":\"#FFA15A\",\"symbol\":\"circle\"},\"mode\":\"markers\",\"name\":\"KL Rahul\",\"orientation\":\"v\",\"showlegend\":true,\"x\":[4,24,35,96,362,412,539,576,641,752],\"xaxis\":\"x\",\"y\":[110.52,61.68,67.24,195.0,47.05,159.37,65.51,77.14,84.34,100.0],\"yaxis\":\"y\",\"type\":\"scatter\"},{\"hovertemplate\":\"color=Suryakumar Yadav<br>index=%{x}<br>value=%{y}<extra></extra>\",\"legendgroup\":\"Suryakumar Yadav\",\"marker\":{\"color\":\"#19d3f3\",\"symbol\":\"circle\"},\"mode\":\"markers\",\"name\":\"Suryakumar Yadav\",\"orientation\":\"v\",\"showlegend\":true,\"x\":[5,26,36,97,363,413,577],\"xaxis\":\"x\",\"y\":[133.33,64.28,104.25,50.0,157.14,200.0,50.0],\"yaxis\":\"y\",\"type\":\"scatter\"},{\"hovertemplate\":\"color=Ravindra Jadeja<br>index=%{x}<br>value=%{y}<extra></extra>\",\"legendgroup\":\"Ravindra Jadeja\",\"marker\":{\"color\":\"#FF6692\",\"symbol\":\"circle\"},\"mode\":\"markers\",\"name\":\"Ravindra Jadeja\",\"orientation\":\"v\",\"showlegend\":true,\"x\":[6,25,37,364,578],\"xaxis\":\"x\",\"y\":[145.83,40.9,61.53,193.33,88.63],\"yaxis\":\"y\",\"type\":\"scatter\"},{\"hovertemplate\":\"color=Mohammed Shami<br>index=%{x}<br>value=%{y}<extra></extra>\",\"legendgroup\":\"Mohammed Shami\",\"marker\":{\"color\":\"#B6E880\",\"symbol\":\"circle\"},\"mode\":\"markers\",\"name\":\"Mohammed Shami\",\"orientation\":\"v\",\"showlegend\":true,\"x\":[7,27,38,579],\"xaxis\":\"x\",\"y\":[50.0,60.0,20.0,100.0],\"yaxis\":\"y\",\"type\":\"scatter\"},{\"hovertemplate\":\"color=Jasprit Bumrah<br>index=%{x}<br>value=%{y}<extra></extra>\",\"legendgroup\":\"Jasprit Bumrah\",\"marker\":{\"color\":\"#FF97FF\",\"symbol\":\"circle\"},\"mode\":\"markers\",\"name\":\"Jasprit Bumrah\",\"orientation\":\"v\",\"showlegend\":true,\"x\":[8,28,39],\"xaxis\":\"x\",\"y\":[100.0,33.33,64.0],\"yaxis\":\"y\",\"type\":\"scatter\"},{\"hovertemplate\":\"color=Fakhar Zaman<br>index=%{x}<br>value=%{y}<extra></extra>\",\"legendgroup\":\"Fakhar Zaman\",\"marker\":{\"color\":\"#FECB52\",\"symbol\":\"circle\"},\"mode\":\"markers\",\"name\":\"Fakhar Zaman\",\"orientation\":\"v\",\"showlegend\":true,\"x\":[9,814,836,865],\"xaxis\":\"x\",\"y\":[80.0,109.45,155.55,11.11],\"yaxis\":\"y\",\"type\":\"scatter\"},{\"hovertemplate\":\"color=Imam-ul-Haq<br>index=%{x}<br>value=%{y}<extra></extra>\",\"legendgroup\":\"Imam-ul-Haq\",\"marker\":{\"color\":\"#636efa\",\"symbol\":\"circle\"},\"mode\":\"markers\",\"name\":\"Imam-ul-Haq\",\"orientation\":\"v\",\"showlegend\":true,\"x\":[10,71,287,433,792,819],\"xaxis\":\"x\",\"y\":[78.94,94.73,66.66,77.27,98.59,100.0],\"yaxis\":\"y\",\"type\":\"scatter\"},{\"hovertemplate\":\"color=Babar Azam<br>index=%{x}<br>value=%{y}<extra></extra>\",\"legendgroup\":\"Babar Azam\",\"marker\":{\"color\":\"#EF553B\",\"symbol\":\"circle\"},\"mode\":\"markers\",\"name\":\"Babar Azam\",\"orientation\":\"v\",\"showlegend\":true,\"x\":[11,72,288,434,793,815,820,837,866],\"xaxis\":\"x\",\"y\":[27.77,86.2,76.92,80.43,128.57,56.25,66.66,104.76,84.44],\"yaxis\":\"y\",\"type\":\"scatter\"},{\"hovertemplate\":\"color=Mohammad Rizwan<br>index=%{x}<br>value=%{y}<extra></extra>\",\"legendgroup\":\"Mohammad Rizwan\",\"marker\":{\"color\":\"#00cc96\",\"symbol\":\"circle\"},\"mode\":\"markers\",\"name\":\"Mohammad Rizwan\",\"orientation\":\"v\",\"showlegend\":true,\"x\":[12,73,289,435,794,816,821,867],\"xaxis\":\"x\",\"y\":[90.66,71.01,114.81,80.0,115.0,123.8,108.26,70.58],\"yaxis\":\"y\",\"type\":\"scatter\"},{\"hovertemplate\":\"color=Saud Shakeel<br>index=%{x}<br>value=%{y}<extra></extra>\",\"legendgroup\":\"Saud Shakeel\",\"marker\":{\"color\":\"#ab63fa\",\"symbol\":\"circle\"},\"mode\":\"markers\",\"name\":\"Saud Shakeel\",\"orientation\":\"v\",\"showlegend\":true,\"x\":[13,74,291,436,795,822,868],\"xaxis\":\"x\",\"y\":[130.76,60.0,100.0,73.52,96.77,103.33,78.37],\"yaxis\":\"y\",\"type\":\"scatter\"},{\"hovertemplate\":\"color=Iftikhar Ahmed<br>index=%{x}<br>value=%{y}<extra></extra>\",\"legendgroup\":\"Iftikhar Ahmed\",\"marker\":{\"color\":\"#FFA15A\",\"symbol\":\"circle\"},\"mode\":\"markers\",\"name\":\"Iftikhar Ahmed\",\"orientation\":\"v\",\"showlegend\":true,\"x\":[14,75,290,438,796,817,823,870],\"xaxis\":\"x\",\"y\":[81.81,100.0,67.74,148.14,130.0,113.33,220.0,60.0],\"yaxis\":\"y\",\"type\":\"scatter\"},{\"hovertemplate\":\"color=Mohammad Nawaz<br>index=%{x}<br>value=%{y}<extra></extra>\",\"legendgroup\":\"Mohammad Nawaz\",\"marker\":{\"color\":\"#19d3f3\",\"symbol\":\"circle\"},\"mode\":\"markers\",\"name\":\"Mohammad Nawaz\",\"orientation\":\"v\",\"showlegend\":true,\"x\":[15,77,293,797],\"xaxis\":\"x\",\"y\":[90.69,28.57,100.0,87.5],\"yaxis\":\"y\",\"type\":\"scatter\"},{\"hovertemplate\":\"color=Shadab Khan<br>index=%{x}<br>value=%{y}<extra></extra>\",\"legendgroup\":\"Shadab Khan\",\"marker\":{\"color\":\"#FF6692\",\"symbol\":\"circle\"},\"mode\":\"markers\",\"name\":\"Shadab Khan\",\"orientation\":\"v\",\"showlegend\":true,\"x\":[16,76,292,437,871],\"xaxis\":\"x\",\"y\":[94.11,40.0,119.44,105.26,57.14],\"yaxis\":\"y\",\"type\":\"scatter\"},{\"hovertemplate\":\"color=Hasan Ali<br>index=%{x}<br>value=%{y}<extra></extra>\",\"legendgroup\":\"Hasan Ali\",\"marker\":{\"color\":\"#B6E880\",\"symbol\":\"circle\"},\"mode\":\"markers\",\"name\":\"Hasan Ali\",\"orientation\":\"v\",\"showlegend\":true,\"x\":[17,78,800],\"xaxis\":\"x\",\"y\":[0.0,63.15,100.0],\"yaxis\":\"y\",\"type\":\"scatter\"},{\"hovertemplate\":\"color=Shaheen Shah Afridi<br>index=%{x}<br>value=%{y}<extra></extra>\",\"legendgroup\":\"Shaheen Shah Afridi\",\"marker\":{\"color\":\"#FF97FF\",\"symbol\":\"circle\"},\"mode\":\"markers\",\"name\":\"Shaheen Shah Afridi\",\"orientation\":\"v\",\"showlegend\":true,\"x\":[18,79,294,439,799,872],\"xaxis\":\"x\",\"y\":[108.33,20.0,50.0,100.0,125.0,108.69],\"yaxis\":\"y\",\"type\":\"scatter\"},{\"hovertemplate\":\"color=Haris Rauf<br>index=%{x}<br>value=%{y}<extra></extra>\",\"legendgroup\":\"Haris Rauf\",\"marker\":{\"color\":\"#FECB52\",\"symbol\":\"circle\"},\"mode\":\"markers\",\"name\":\"Haris Rauf\",\"orientation\":\"v\",\"showlegend\":true,\"x\":[19,80,296,801,874],\"xaxis\":\"x\",\"y\":[114.28,33.33,0.0,0.0,152.17],\"yaxis\":\"y\",\"type\":\"scatter\"},{\"hovertemplate\":\"color=Kuldeep Yadav<br>index=%{x}<br>value=%{y}<extra></extra>\",\"legendgroup\":\"Kuldeep Yadav\",\"marker\":{\"color\":\"#636efa\",\"symbol\":\"circle\"},\"mode\":\"markers\",\"name\":\"Kuldeep Yadav\",\"orientation\":\"v\",\"showlegend\":true,\"x\":[29,40],\"xaxis\":\"x\",\"y\":[55.55,69.23],\"yaxis\":\"y\",\"type\":\"scatter\"},{\"hovertemplate\":\"color=Mohammed Siraj<br>index=%{x}<br>value=%{y}<extra></extra>\",\"legendgroup\":\"Mohammed Siraj\",\"marker\":{\"color\":\"#EF553B\",\"symbol\":\"circle\"},\"mode\":\"markers\",\"name\":\"Mohammed Siraj\",\"orientation\":\"v\",\"showlegend\":true,\"x\":[30],\"xaxis\":\"x\",\"y\":[112.5],\"yaxis\":\"y\",\"type\":\"scatter\"},{\"hovertemplate\":\"color=Vikramjit Singh<br>index=%{x}<br>value=%{y}<extra></extra>\",\"legendgroup\":\"Vikramjit Singh\",\"marker\":{\"color\":\"#00cc96\",\"symbol\":\"circle\"},\"mode\":\"markers\",\"name\":\"Vikramjit Singh\",\"orientation\":\"v\",\"showlegend\":true,\"x\":[41,142,451,484,684,737],\"xaxis\":\"x\",\"y\":[30.76,12.5,33.33,77.61,60.0,100.0],\"yaxis\":\"y\",\"type\":\"scatter\"},{\"hovertemplate\":\"color=Max O'Dowd<br>index=%{x}<br>value=%{y}<extra></extra>\",\"legendgroup\":\"Max O'Dowd\",\"marker\":{\"color\":\"#ab63fa\",\"symbol\":\"circle\"},\"mode\":\"markers\",\"name\":\"Max O'Dowd\",\"orientation\":\"v\",\"showlegend\":true,\"x\":[42,99,143,452,485,685,738,803,825],\"xaxis\":\"x\",\"y\":[59.25,105.0,72.0,0.0,41.66,51.61,66.66,45.45,71.42],\"yaxis\":\"y\",\"type\":\"scatter\"},{\"hovertemplate\":\"color=Colin Ackermann<br>index=%{x}<br>value=%{y}<extra></extra>\",\"legendgroup\":\"Colin Ackermann\",\"marker\":{\"color\":\"#FFA15A\",\"symbol\":\"circle\"},\"mode\":\"markers\",\"name\":\"Colin Ackermann\",\"orientation\":\"v\",\"showlegend\":true,\"x\":[43,100,144,454,486,686,739,804,826],\"xaxis\":\"x\",\"y\":[93.54,82.85,48.0,45.45,80.95,94.52,90.9,0.0,109.37],\"yaxis\":\"y\",\"type\":\"scatter\"},{\"hovertemplate\":\"color=Bas de Leede<br>index=%{x}<br>value=%{y}<extra></extra>\",\"legendgroup\":\"Bas de Leede\",\"marker\":{\"color\":\"#19d3f3\",\"symbol\":\"circle\"},\"mode\":\"markers\",\"name\":\"Bas de Leede\",\"orientation\":\"v\",\"showlegend\":true,\"x\":[44,103,145,456,487,687,741,807,829],\"xaxis\":\"x\",\"y\":[28.57,50.0,28.57,53.12,98.52,72.0,57.14,83.33,57.14],\"yaxis\":\"y\",\"type\":\"scatter\"},{\"hovertemplate\":\"color=Teja Nidamanuru<br>index=%{x}<br>value=%{y}<extra></extra>\",\"legendgroup\":\"Teja Nidamanuru\",\"marker\":{\"color\":\"#FF6692\",\"symbol\":\"circle\"},\"mode\":\"markers\",\"name\":\"Teja Nidamanuru\",\"orientation\":\"v\",\"showlegend\":true,\"x\":[45,147,488,688,743,808,830],\"xaxis\":\"x\",\"y\":[56.25,80.0,55.55,80.76,77.77,120.58,138.46],\"yaxis\":\"y\",\"type\":\"scatter\"},{\"hovertemplate\":\"color=Scott Edwards<br>index=%{x}<br>value=%{y}<extra></extra>\",\"legendgroup\":\"Scott Edwards\",\"marker\":{\"color\":\"#B6E880\",\"symbol\":\"circle\"},\"mode\":\"markers\",\"name\":\"Scott Edwards\",\"orientation\":\"v\",\"showlegend\":true,\"x\":[46,102,148,455,489,689,742,806,828],\"xaxis\":\"x\",\"y\":[100.0,0.0,113.04,76.4,0.0,111.11,54.54,90.47,56.66],\"yaxis\":\"y\",\"type\":\"scatter\"},{\"hovertemplate\":\"color=Sybrand Engelbrecht<br>index=%{x}<br>value=%{y}<extra></extra>\",\"legendgroup\":\"Sybrand Engelbrecht\",\"marker\":{\"color\":\"#FF97FF\",\"symbol\":\"circle\"},\"mode\":\"markers\",\"name\":\"Sybrand Engelbrecht\",\"orientation\":\"v\",\"showlegend\":true,\"x\":[47,101,146,457,690,740,805,827],\"xaxis\":\"x\",\"y\":[85.36,67.44,51.35,57.37,85.29,52.38,67.34,56.25],\"yaxis\":\"y\",\"type\":\"scatter\"},{\"hovertemplate\":\"color=Logan van Beek<br>index=%{x}<br>value=%{y}<extra></extra>\",\"legendgroup\":\"Logan van Beek\",\"marker\":{\"color\":\"#FECB52\",\"symbol\":\"circle\"},\"mode\":\"markers\",\"name\":\"Logan van Beek\",\"orientation\":\"v\",\"showlegend\":true,\"x\":[48,105,149,458,492,744,809,831],\"xaxis\":\"x\",\"y\":[78.66,15.38,37.03,143.75,100.0,0.0,100.0,106.66],\"yaxis\":\"y\",\"type\":\"scatter\"},{\"hovertemplate\":\"color=Roelof van der Merwe<br>index=%{x}<br>value=%{y}<extra></extra>\",\"legendgroup\":\"Roelof van der Merwe\",\"marker\":{\"color\":\"#636efa\",\"symbol\":\"circle\"},\"mode\":\"markers\",\"name\":\"Roelof van der Merwe\",\"orientation\":\"v\",\"showlegend\":true,\"x\":[49,106,150,491,691,745,810,832],\"xaxis\":\"x\",\"y\":[100.0,33.33,152.63,57.14,16.66,0.0,0.0,200.0],\"yaxis\":\"y\",\"type\":\"scatter\"},{\"hovertemplate\":\"color=Aryan Dutt<br>index=%{x}<br>value=%{y}<extra></extra>\",\"legendgroup\":\"Aryan Dutt\",\"marker\":{\"color\":\"#EF553B\",\"symbol\":\"circle\"},\"mode\":\"markers\",\"name\":\"Aryan Dutt\",\"orientation\":\"v\",\"showlegend\":true,\"x\":[50,107,151,460,493,693,746,811,833],\"xaxis\":\"x\",\"y\":[150.0,45.45,255.55,150.0,50.0,55.0,12.5,33.33,45.45],\"yaxis\":\"y\",\"type\":\"scatter\"},{\"hovertemplate\":\"color=Paul van Meekeren<br>index=%{x}<br>value=%{y}<extra></extra>\",\"legendgroup\":\"Paul van Meekeren\",\"marker\":{\"color\":\"#00cc96\",\"symbol\":\"circle\"},\"mode\":\"markers\",\"name\":\"Paul van Meekeren\",\"orientation\":\"v\",\"showlegend\":true,\"x\":[51,108,461,494,694,747,812,834],\"xaxis\":\"x\",\"y\":[80.0,16.66,0.0,58.33,133.33,0.0,133.33,75.0],\"yaxis\":\"y\",\"type\":\"scatter\"},{\"hovertemplate\":\"color=Quinton de Kock<br>index=%{x}<br>value=%{y}<extra></extra>\",\"legendgroup\":\"Quinton de Kock\",\"marker\":{\"color\":\"#ab63fa\",\"symbol\":\"circle\"},\"mode\":\"markers\",\"name\":\"Quinton de Kock\",\"orientation\":\"v\",\"showlegend\":true,\"x\":[52,152,161,297,303,330,592,705,780,846],\"xaxis\":\"x\",\"y\":[124.28,200.0,21.42,98.27,119.04,102.83,90.9,171.42,50.0,87.23],\"yaxis\":\"y\",\"type\":\"scatter\"},{\"hovertemplate\":\"color=Reeza Hendricks<br>index=%{x}<br>value=%{y}<extra></extra>\",\"legendgroup\":\"Reeza Hendricks\",\"marker\":{\"color\":\"#FFA15A\",\"symbol\":\"circle\"},\"mode\":\"markers\",\"name\":\"Reeza Hendricks\",\"orientation\":\"v\",\"showlegend\":true,\"x\":[53,153],\"xaxis\":\"x\",\"y\":[63.15,113.33],\"yaxis\":\"y\",\"type\":\"scatter\"},{\"hovertemplate\":\"color=Rassie van der Dussen<br>index=%{x}<br>value=%{y}<extra></extra>\",\"legendgroup\":\"Rassie van der Dussen\",\"marker\":{\"color\":\"#19d3f3\",\"symbol\":\"circle\"},\"mode\":\"markers\",\"name\":\"Rassie van der Dussen\",\"orientation\":\"v\",\"showlegend\":true,\"x\":[54,154,163,299,305,332,593,706,782,848],\"xaxis\":\"x\",\"y\":[14.28,98.36,19.35,112.71,98.18,86.66,57.14,53.84,40.62,80.0],\"yaxis\":\"y\",\"type\":\"scatter\"},{\"hovertemplate\":\"color=Aiden Markram<br>index=%{x}<br>value=%{y}<extra></extra>\",\"legendgroup\":\"Aiden Markram\",\"marker\":{\"color\":\"#FF6692\",\"symbol\":\"circle\"},\"mode\":\"markers\",\"name\":\"Aiden Markram\",\"orientation\":\"v\",\"showlegend\":true,\"x\":[55,155,164,302,306,333,594,707,783,849],\"xaxis\":\"x\",\"y\":[86.95,95.45,50.0,600.0,196.29,127.27,33.33,97.84,150.0,78.12],\"yaxis\":\"y\",\"type\":\"scatter\"},{\"hovertemplate\":\"color=Heinrich Klaasen<br>index=%{x}<br>value=%{y}<extra></extra>\",\"legendgroup\":\"Heinrich Klaasen\",\"marker\":{\"color\":\"#B6E880\",\"symbol\":\"circle\"},\"mode\":\"markers\",\"name\":\"Heinrich Klaasen\",\"orientation\":\"v\",\"showlegend\":true,\"x\":[56,156,165,301,307,334,595,708,784,850],\"xaxis\":\"x\",\"y\":[183.67,162.68,97.91,214.28,160.0,107.4,100.0,120.0,9.09,76.92],\"yaxis\":\"y\",\"type\":\"scatter\"},{\"hovertemplate\":\"color=David Miller<br>index=%{x}<br>value=%{y}<extra></extra>\",\"legendgroup\":\"David Miller\",\"marker\":{\"color\":\"#FF97FF\",\"symbol\":\"circle\"},\"mode\":\"markers\",\"name\":\"David Miller\",\"orientation\":\"v\",\"showlegend\":true,\"x\":[57,157,166,300,308,335,596,709,785,851],\"xaxis\":\"x\",\"y\":[226.66,83.33,87.06,176.66,185.71,130.76,82.69,87.87,100.0,72.72],\"yaxis\":\"y\",\"type\":\"scatter\"},{\"hovertemplate\":\"color=Marco Jansen<br>index=%{x}<br>value=%{y}<extra></extra>\",\"legendgroup\":\"Marco Jansen\",\"marker\":{\"color\":\"#FECB52\",\"symbol\":\"circle\"},\"mode\":\"markers\",\"name\":\"Marco Jansen\",\"orientation\":\"v\",\"showlegend\":true,\"x\":[58,158,167,309,336,597,710,786],\"xaxis\":\"x\",\"y\":[100.0,178.57,0.0,171.42,118.18,36.0,142.85,46.66],\"yaxis\":\"y\",\"type\":\"scatter\"},{\"hovertemplate\":\"color=Litton Das<br>index=%{x}<br>value=%{y}<extra></extra>\",\"legendgroup\":\"Litton Das\",\"marker\":{\"color\":\"#636efa\",\"symbol\":\"circle\"},\"mode\":\"markers\",\"name\":\"Litton Das\",\"orientation\":\"v\",\"showlegend\":true,\"x\":[59,228,321,388,520,564,632,658,853],\"xaxis\":\"x\",\"y\":[0.0,80.0,80.48,70.31,50.0,104.54,72.22,115.15,25.0],\"yaxis\":\"y\",\"type\":\"scatter\"},{\"hovertemplate\":\"color=Tanzid Hasan<br>index=%{x}<br>value=%{y}<extra></extra>\",\"legendgroup\":\"Tanzid Hasan\",\"marker\":{\"color\":\"#EF553B\",\"symbol\":\"circle\"},\"mode\":\"markers\",\"name\":\"Tanzid Hasan\",\"orientation\":\"v\",\"showlegend\":true,\"x\":[60,227,320,387,519,563,631,659,854],\"xaxis\":\"x\",\"y\":[94.11,105.88,118.6,0.0,70.58,180.0,38.46,50.0,93.75],\"yaxis\":\"y\",\"type\":\"scatter\"},{\"hovertemplate\":\"color=Mehidy Hasan Miraz<br>index=%{x}<br>value=%{y}<extra></extra>\",\"legendgroup\":\"Mehidy Hasan Miraz\",\"marker\":{\"color\":\"#00cc96\",\"symbol\":\"circle\"},\"mode\":\"markers\",\"name\":\"Mehidy Hasan Miraz\",\"orientation\":\"v\",\"showlegend\":true,\"x\":[61,233,323,394,525,570,633,662,855],\"xaxis\":\"x\",\"y\":[65.21,145.0,23.07,83.33,57.89,60.0,78.08,114.28,87.5],\"yaxis\":\"y\",\"type\":\"scatter\"},{\"hovertemplate\":\"color=Najmul Hossain Shanto<br>index=%{x}<br>value=%{y}<extra></extra>\",\"legendgroup\":\"Najmul Hossain Shanto\",\"marker\":{\"color\":\"#ab63fa\",\"symbol\":\"circle\"},\"mode\":\"markers\",\"name\":\"Najmul Hossain Shanto\",\"orientation\":\"v\",\"showlegend\":true,\"x\":[62,229,322,389,521,565,634,660,856],\"xaxis\":\"x\",\"y\":[87.5,78.94,47.05,133.33,0.0,89.1,71.08,0.0,50.0],\"yaxis\":\"y\",\"type\":\"scatter\"},{\"hovertemplate\":\"color=Shakib Al Hasan<br>index=%{x}<br>value=%{y}<extra></extra>\",\"legendgroup\":\"Shakib Al Hasan\",\"marker\":{\"color\":\"#FFA15A\",\"symbol\":\"circle\"},\"mode\":\"markers\",\"name\":\"Shakib Al Hasan\",\"orientation\":\"v\",\"showlegend\":true,\"x\":[63,392,522,566,635,661,857],\"xaxis\":\"x\",\"y\":[78.43,67.18,25.0,126.15,73.68,11.11,35.71],\"yaxis\":\"y\",\"type\":\"scatter\"},{\"hovertemplate\":\"color=Mushfiqur Rahim<br>index=%{x}<br>value=%{y}<extra></extra>\",\"legendgroup\":\"Mushfiqur Rahim\",\"marker\":{\"color\":\"#19d3f3\",\"symbol\":\"circle\"},\"mode\":\"markers\",\"name\":\"Mushfiqur Rahim\",\"orientation\":\"v\",\"showlegend\":true,\"x\":[64,232,325,390,523,568,636,663,858],\"xaxis\":\"x\",\"y\":[88.0,87.5,82.6,62.5,47.05,76.92,66.66,79.68,20.0],\"yaxis\":\"y\",\"type\":\"scatter\"},{\"hovertemplate\":\"color=Towhid Hridoy<br>index=%{x}<br>value=%{y}<extra></extra>\",\"legendgroup\":\"Towhid Hridoy\",\"marker\":{\"color\":\"#FF6692\",\"symbol\":\"circle\"},\"mode\":\"markers\",\"name\":\"Towhid Hridoy\",\"orientation\":\"v\",\"showlegend\":true,\"x\":[65,230,324,393,569,664],\"xaxis\":\"x\",\"y\":[52.0,93.67,45.71,233.33,214.28,63.93],\"yaxis\":\"y\",\"type\":\"scatter\"},{\"hovertemplate\":\"color=Mahmudullah<br>index=%{x}<br>value=%{y}<extra></extra>\",\"legendgroup\":\"Mahmudullah\",\"marker\":{\"color\":\"#B6E880\",\"symbol\":\"circle\"},\"mode\":\"markers\",\"name\":\"Mahmudullah\",\"orientation\":\"v\",\"showlegend\":true,\"x\":[66,231,326,391,524,567,859],\"xaxis\":\"x\",\"y\":[83.67,114.28,127.77,80.0,100.0,95.65,48.78],\"yaxis\":\"y\",\"type\":\"scatter\"},{\"hovertemplate\":\"color=Taskin Ahmed<br>index=%{x}<br>value=%{y}<extra></extra>\",\"legendgroup\":\"Taskin Ahmed\",\"marker\":{\"color\":\"#FF97FF\",\"symbol\":\"circle\"},\"mode\":\"markers\",\"name\":\"Taskin Ahmed\",\"orientation\":\"v\",\"showlegend\":true,\"x\":[67,236,395,666,861],\"xaxis\":\"x\",\"y\":[89.47,0.0,46.15,60.0,31.42],\"yaxis\":\"y\",\"type\":\"scatter\"},{\"hovertemplate\":\"color=Mustafizur Rahman<br>index=%{x}<br>value=%{y}<extra></extra>\",\"legendgroup\":\"Mustafizur Rahman\",\"marker\":{\"color\":\"#FECB52\",\"symbol\":\"circle\"},\"mode\":\"markers\",\"name\":\"Mustafizur Rahman\",\"orientation\":\"v\",\"showlegend\":true,\"x\":[68,328,396,528,668,862],\"xaxis\":\"x\",\"y\":[40.0,14.28,42.85,52.38,33.33,57.14],\"yaxis\":\"y\",\"type\":\"scatter\"},{\"hovertemplate\":\"color=Shoriful Islam<br>index=%{x}<br>value=%{y}<extra></extra>\",\"legendgroup\":\"Shoriful Islam\",\"marker\":{\"color\":\"#636efa\",\"symbol\":\"circle\"},\"mode\":\"markers\",\"name\":\"Shoriful Islam\",\"orientation\":\"v\",\"showlegend\":true,\"x\":[69,329,397,529,667,863],\"xaxis\":\"x\",\"y\":[66.66,233.33,25.0,150.0,85.71,0.0],\"yaxis\":\"y\",\"type\":\"scatter\"},{\"hovertemplate\":\"color=Abdullah Shafique<br>index=%{x}<br>value=%{y}<extra></extra>\",\"legendgroup\":\"Abdullah Shafique\",\"marker\":{\"color\":\"#EF553B\",\"symbol\":\"circle\"},\"mode\":\"markers\",\"name\":\"Abdullah Shafique\",\"orientation\":\"v\",\"showlegend\":true,\"x\":[70,286,432,791,813,818,835,864],\"xaxis\":\"x\",\"y\":[83.33,52.94,77.33,104.91,98.55,109.7,44.44,0.0],\"yaxis\":\"y\",\"type\":\"scatter\"},{\"hovertemplate\":\"color=Pathum Nissanka<br>index=%{x}<br>value=%{y}<extra></extra>\",\"legendgroup\":\"Pathum Nissanka\",\"marker\":{\"color\":\"#00cc96\",\"symbol\":\"circle\"},\"mode\":\"markers\",\"name\":\"Pathum Nissanka\",\"orientation\":\"v\",\"showlegend\":true,\"x\":[81,109,183,347,398,473,512,680,726],\"xaxis\":\"x\",\"y\":[25.0,113.88,91.04,76.66,83.6,0.0,103.84,92.77,0.0],\"yaxis\":\"y\",\"type\":\"scatter\"},{\"hovertemplate\":\"color=Kusal Perera<br>index=%{x}<br>value=%{y}<extra></extra>\",\"legendgroup\":\"Kusal Perera\",\"marker\":{\"color\":\"#ab63fa\",\"symbol\":\"circle\"},\"mode\":\"markers\",\"name\":\"Kusal Perera\",\"orientation\":\"v\",\"showlegend\":true,\"x\":[82,110,184,399,513,681,727],\"xaxis\":\"x\",\"y\":[182.14,80.0,95.12,0.0,62.5,80.0,46.66],\"yaxis\":\"y\",\"type\":\"scatter\"},{\"hovertemplate\":\"color=Kusal Mendis<br>index=%{x}<br>value=%{y}<extra></extra>\",\"legendgroup\":\"Kusal Mendis\",\"marker\":{\"color\":\"#FFA15A\",\"symbol\":\"circle\"},\"mode\":\"markers\",\"name\":\"Kusal Mendis\",\"orientation\":\"v\",\"showlegend\":true,\"x\":[83,111,185,349,400,475,514,682,728],\"xaxis\":\"x\",\"y\":[85.71,63.33,69.23,78.0,158.44,10.0,64.7,91.66,180.95],\"yaxis\":\"y\",\"type\":\"scatter\"},{\"hovertemplate\":\"color=Sadeera Samarawickrama<br>index=%{x}<br>value=%{y}<extra></extra>\",\"legendgroup\":\"Sadeera Samarawickrama\",\"marker\":{\"color\":\"#19d3f3\",\"symbol\":\"circle\"},\"mode\":\"markers\",\"name\":\"Sadeera Samarawickrama\",\"orientation\":\"v\",\"showlegend\":true,\"x\":[84,112,186,350,401,476,515,683,729],\"xaxis\":\"x\",\"y\":[50.0,97.61,100.0,90.0,121.34,0.0,85.04,120.37,121.05],\"yaxis\":\"y\",\"type\":\"scatter\"},{\"hovertemplate\":\"color=Charith Asalanka<br>index=%{x}<br>value=%{y}<extra></extra>\",\"legendgroup\":\"Charith Asalanka\",\"marker\":{\"color\":\"#FF6692\",\"symbol\":\"circle\"},\"mode\":\"markers\",\"name\":\"Charith Asalanka\",\"orientation\":\"v\",\"showlegend\":true,\"x\":[85,113,187,351,402,477,516,730],\"xaxis\":\"x\",\"y\":[100.0,102.85,64.1,78.57,33.33,4.16,66.66,121.53],\"yaxis\":\"y\",\"type\":\"scatter\"},{\"hovertemplate\":\"color=Angelo Mathews<br>index=%{x}<br>value=%{y}<extra></extra>\",\"legendgroup\":\"Angelo Mathews\",\"marker\":{\"color\":\"#B6E880\",\"symbol\":\"circle\"},\"mode\":\"markers\",\"name\":\"Angelo Mathews\",\"orientation\":\"v\",\"showlegend\":true,\"x\":[86,114,353,478],\"xaxis\":\"x\",\"y\":[59.25,0.0,88.46,48.0],\"yaxis\":\"y\",\"type\":\"scatter\"},{\"hovertemplate\":\"color=Dhananjaya de Silva<br>index=%{x}<br>value=%{y}<extra></extra>\",\"legendgroup\":\"Dhananjaya de Silva\",\"marker\":{\"color\":\"#FF97FF\",\"symbol\":\"circle\"},\"mode\":\"markers\",\"name\":\"Dhananjaya de Silva\",\"orientation\":\"v\",\"showlegend\":true,\"x\":[87,115,188,352,403,517,731],\"xaxis\":\"x\",\"y\":[79.16,94.44,53.84,53.84,73.52,81.08,78.57],\"yaxis\":\"y\",\"type\":\"scatter\"},{\"hovertemplate\":\"color=Chamika Karunaratne<br>index=%{x}<br>value=%{y}<extra></extra>\",\"legendgroup\":\"Chamika Karunaratne\",\"marker\":{\"color\":\"#FECB52\",\"symbol\":\"circle\"},\"mode\":\"markers\",\"name\":\"Chamika Karunaratne\",\"orientation\":\"v\",\"showlegend\":true,\"x\":[88,190],\"xaxis\":\"x\",\"y\":[35.29,18.18],\"yaxis\":\"y\",\"type\":\"scatter\"},{\"hovertemplate\":\"color=Maheesh Theekshana<br>index=%{x}<br>value=%{y}<extra></extra>\",\"legendgroup\":\"Maheesh Theekshana\",\"marker\":{\"color\":\"#636efa\",\"symbol\":\"circle\"},\"mode\":\"markers\",\"name\":\"Maheesh Theekshana\",\"orientation\":\"v\",\"showlegend\":true,\"x\":[89,116,191,355,406,481],\"xaxis\":\"x\",\"y\":[41.75,67.74,0.0,93.54,0.0,52.17],\"yaxis\":\"y\",\"type\":\"scatter\"},{\"hovertemplate\":\"color=Dushmantha Chameera<br>index=%{x}<br>value=%{y}<extra></extra>\",\"legendgroup\":\"Dushmantha Chameera\",\"marker\":{\"color\":\"#EF553B\",\"symbol\":\"circle\"},\"mode\":\"markers\",\"name\":\"Dushmantha Chameera\",\"orientation\":\"v\",\"showlegend\":true,\"x\":[90,117,354,480],\"xaxis\":\"x\",\"y\":[5.0,44.44,25.0,0.0],\"yaxis\":\"y\",\"type\":\"scatter\"},{\"hovertemplate\":\"color=Dilshan Madushanka<br>index=%{x}<br>value=%{y}<extra></extra>\",\"legendgroup\":\"Dilshan Madushanka\",\"marker\":{\"color\":\"#00cc96\",\"symbol\":\"circle\"},\"mode\":\"markers\",\"name\":\"Dilshan Madushanka\",\"orientation\":\"v\",\"showlegend\":true,\"x\":[91,119,193,357,483,736],\"xaxis\":\"x\",\"y\":[39.58,0.0,0.0,0.0,83.33,200.0],\"yaxis\":\"y\",\"type\":\"scatter\"},{\"hovertemplate\":\"color=Wesley Barresi<br>index=%{x}<br>value=%{y}<extra></extra>\",\"legendgroup\":\"Wesley Barresi\",\"marker\":{\"color\":\"#ab63fa\",\"symbol\":\"circle\"},\"mode\":\"markers\",\"name\":\"Wesley Barresi\",\"orientation\":\"v\",\"showlegend\":true,\"x\":[98,453,802,824],\"xaxis\":\"x\",\"y\":[25.0,100.0,59.67,80.0],\"yaxis\":\"y\",\"type\":\"scatter\"},{\"hovertemplate\":\"color=Saqib Zulfiqar<br>index=%{x}<br>value=%{y}<extra></extra>\",\"legendgroup\":\"Saqib Zulfiqar\",\"marker\":{\"color\":\"#FFA15A\",\"symbol\":\"circle\"},\"mode\":\"markers\",\"name\":\"Saqib Zulfiqar\",\"orientation\":\"v\",\"showlegend\":true,\"x\":[104,490],\"xaxis\":\"x\",\"y\":[20.0,55.55],\"yaxis\":\"y\",\"type\":\"scatter\"},{\"hovertemplate\":\"color=Kasun Rajitha<br>index=%{x}<br>value=%{y}<extra></extra>\",\"legendgroup\":\"Kasun Rajitha\",\"marker\":{\"color\":\"#19d3f3\",\"symbol\":\"circle\"},\"mode\":\"markers\",\"name\":\"Kasun Rajitha\",\"orientation\":\"v\",\"showlegend\":true,\"x\":[118,356,482,734],\"xaxis\":\"x\",\"y\":[0.0,71.42,82.35,106.45],\"yaxis\":\"y\",\"type\":\"scatter\"},{\"hovertemplate\":\"color=Devon Conway<br>index=%{x}<br>value=%{y}<extra></extra>\",\"legendgroup\":\"Devon Conway\",\"marker\":{\"color\":\"#FF6692\",\"symbol\":\"circle\"},\"mode\":\"markers\",\"name\":\"Devon Conway\",\"orientation\":\"v\",\"showlegend\":true,\"x\":[120,270,339,414,530,540,547,580,621,715],\"xaxis\":\"x\",\"y\":[0.0,80.0,111.11,89.74,76.27,107.14,86.66,164.7,125.61,33.33],\"yaxis\":\"y\",\"type\":\"scatter\"},{\"hovertemplate\":\"color=Will Young<br>index=%{x}<br>value=%{y}<extra></extra>\",\"legendgroup\":\"Will Young\",\"marker\":{\"color\":\"#B6E880\",\"symbol\":\"circle\"},\"mode\":\"markers\",\"name\":\"Will Young\",\"orientation\":\"v\",\"showlegend\":true,\"x\":[121,271,340,581,622,716],\"xaxis\":\"x\",\"y\":[62.96,87.5,84.37,86.48,0.0,89.18],\"yaxis\":\"y\",\"type\":\"scatter\"},{\"hovertemplate\":\"color=Rachin Ravindra<br>index=%{x}<br>value=%{y}<extra></extra>\",\"legendgroup\":\"Rachin Ravindra\",\"marker\":{\"color\":\"#FF97FF\",\"symbol\":\"circle\"},\"mode\":\"markers\",\"name\":\"Rachin Ravindra\",\"orientation\":\"v\",\"showlegend\":true,\"x\":[122,272,341,415,531,541,548,582,623,717],\"xaxis\":\"x\",\"y\":[86.2,100.0,78.04,114.89,69.23,123.52,59.09,130.33,128.12,56.25],\"yaxis\":\"y\",\"type\":\"scatter\"},{\"hovertemplate\":\"color=Daryl Mitchell<br>index=%{x}<br>value=%{y}<extra></extra>\",\"legendgroup\":\"Daryl Mitchell\",\"marker\":{\"color\":\"#FECB52\",\"symbol\":\"circle\"},\"mode\":\"markers\",\"name\":\"Daryl Mitchell\",\"orientation\":\"v\",\"showlegend\":true,\"x\":[123,273,342,417,533,543,550,583,718],\"xaxis\":\"x\",\"y\":[102.36,102.12,14.28,161.11,132.83,138.7,112.6,105.88,80.0],\"yaxis\":\"y\",\"type\":\"scatter\"},{\"hovertemplate\":\"color=Tom Latham<br>index=%{x}<br>value=%{y}<extra></extra>\",\"legendgroup\":\"Tom Latham\",\"marker\":{\"color\":\"#636efa\",\"symbol\":\"circle\"},\"mode\":\"markers\",\"name\":\"Tom Latham\",\"orientation\":\"v\",\"showlegend\":true,\"x\":[124,274,343,421,546,551,584,719],\"xaxis\":\"x\",\"y\":[71.42,115.21,91.89,100.0,100.0,0.0,95.45,26.66],\"yaxis\":\"y\",\"type\":\"scatter\"},{\"hovertemplate\":\"color=Glenn Phillips<br>index=%{x}<br>value=%{y}<extra></extra>\",\"legendgroup\":\"Glenn Phillips\",\"marker\":{\"color\":\"#EF553B\",\"symbol\":\"circle\"},\"mode\":\"markers\",\"name\":\"Glenn Phillips\",\"orientation\":\"v\",\"showlegend\":true,\"x\":[125,275,344,419,534,545,552,585,720],\"xaxis\":\"x\",\"y\":[88.46,100.0,88.75,164.0,145.45,170.0,124.24,75.0,120.0],\"yaxis\":\"y\",\"type\":\"scatter\"},{\"hovertemplate\":\"color=Mark Chapman<br>index=%{x}<br>value=%{y}<extra></extra>\",\"legendgroup\":\"Mark Chapman\",\"marker\":{\"color\":\"#00cc96\",\"symbol\":\"circle\"},\"mode\":\"markers\",\"name\":\"Mark Chapman\",\"orientation\":\"v\",\"showlegend\":true,\"x\":[126,276,345,418,544,553],\"xaxis\":\"x\",\"y\":[75.0,38.46,208.33,144.44,116.66,40.0],\"yaxis\":\"y\",\"type\":\"scatter\"},{\"hovertemplate\":\"color=Mitchell Santner<br>index=%{x}<br>value=%{y}<extra></extra>\",\"legendgroup\":\"Mitchell Santner\",\"marker\":{\"color\":\"#ab63fa\",\"symbol\":\"circle\"},\"mode\":\"markers\",\"name\":\"Mitchell Santner\",\"orientation\":\"v\",\"showlegend\":true,\"x\":[127,277,346,420,554,587,721],\"xaxis\":\"x\",\"y\":[50.0,211.76,140.0,152.94,90.0,141.66,38.88],\"yaxis\":\"y\",\"type\":\"scatter\"},{\"hovertemplate\":\"color=Matt Henry<br>index=%{x}<br>value=%{y}<extra></extra>\",\"legendgroup\":\"Matt Henry\",\"marker\":{\"color\":\"#FFA15A\",\"symbol\":\"circle\"},\"mode\":\"markers\",\"name\":\"Matt Henry\",\"orientation\":\"v\",\"showlegend\":true,\"x\":[128,278,588,725],\"xaxis\":\"x\",\"y\":[0.0,250.0,112.5,0.0],\"yaxis\":\"y\",\"type\":\"scatter\"},{\"hovertemplate\":\"color=Lockie Ferguson<br>index=%{x}<br>value=%{y}<extra></extra>\",\"legendgroup\":\"Lockie Ferguson\",\"marker\":{\"color\":\"#19d3f3\",\"symbol\":\"circle\"},\"mode\":\"markers\",\"name\":\"Lockie Ferguson\",\"orientation\":\"v\",\"showlegend\":true,\"x\":[129,557,590],\"xaxis\":\"x\",\"y\":[20.0,200.0,0.0],\"yaxis\":\"y\",\"type\":\"scatter\"},{\"hovertemplate\":\"color=Trent Boult<br>index=%{x}<br>value=%{y}<extra></extra>\",\"legendgroup\":\"Trent Boult\",\"marker\":{\"color\":\"#FF6692\",\"symbol\":\"circle\"},\"mode\":\"markers\",\"name\":\"Trent Boult\",\"orientation\":\"v\",\"showlegend\":true,\"x\":[130,556,589,724],\"xaxis\":\"x\",\"y\":[0.0,100.0,125.0,64.28],\"yaxis\":\"y\",\"type\":\"scatter\"},{\"hovertemplate\":\"color=David Warner<br>index=%{x}<br>value=%{y}<extra></extra>\",\"legendgroup\":\"David Warner\",\"marker\":{\"color\":\"#B6E880\",\"symbol\":\"circle\"},\"mode\":\"markers\",\"name\":\"David Warner\",\"orientation\":\"v\",\"showlegend\":true,\"x\":[131,205,217,311,365,495,613,625,655,695,754],\"xaxis\":\"x\",\"y\":[124.61,78.84,93.75,111.82,131.45,233.33,161.11,183.33,86.88,62.06,48.14],\"yaxis\":\"y\",\"type\":\"scatter\"},{\"hovertemplate\":\"color=Travis Head<br>index=%{x}<br>value=%{y}<extra></extra>\",\"legendgroup\":\"Travis Head\",\"marker\":{\"color\":\"#FF97FF\",\"symbol\":\"circle\"},\"mode\":\"markers\",\"name\":\"Travis Head\",\"orientation\":\"v\",\"showlegend\":true,\"x\":[132,216,496,612,654,696],\"xaxis\":\"x\",\"y\":[162.68,110.0,114.16,129.16,90.9,0.0],\"yaxis\":\"y\",\"type\":\"scatter\"},{\"hovertemplate\":\"color=Mitchell Marsh<br>index=%{x}<br>value=%{y}<extra></extra>\",\"legendgroup\":\"Mitchell Marsh\",\"marker\":{\"color\":\"#FECB52\",\"symbol\":\"circle\"},\"mode\":\"markers\",\"name\":\"Mitchell Marsh\",\"orientation\":\"v\",\"showlegend\":true,\"x\":[133,206,310,366,497,614,624,656,697,753],\"xaxis\":\"x\",\"y\":[70.58,0.0,60.0,112.03,100.0,0.0,101.96,134.09,218.18,46.66],\"yaxis\":\"y\",\"type\":\"scatter\"},{\"hovertemplate\":\"color=Steven Smith<br>index=%{x}<br>value=%{y}<extra></extra>\",\"legendgroup\":\"Steven Smith\",\"marker\":{\"color\":\"#636efa\",\"symbol\":\"circle\"},\"mode\":\"markers\",\"name\":\"Steven Smith\",\"orientation\":\"v\",\"showlegend\":true,\"x\":[134,207,218,312,368,498,615,626,657,755],\"xaxis\":\"x\",\"y\":[105.88,64.78,84.61,104.41,77.77,44.44,48.38,0.0,98.43,118.75],\"yaxis\":\"y\",\"type\":\"scatter\"},{\"hovertemplate\":\"color=Marnus Labuschagne<br>index=%{x}<br>value=%{y}<extra></extra>\",\"legendgroup\":\"Marnus Labuschagne\",\"marker\":{\"color\":\"#EF553B\",\"symbol\":\"circle\"},\"mode\":\"markers\",\"name\":\"Marnus Labuschagne\",\"orientation\":\"v\",\"showlegend\":true,\"x\":[135,208,219,313,371,499,616,627,698,756],\"xaxis\":\"x\",\"y\":[69.23,65.85,85.54,131.91,66.66,52.72,58.06,66.66,50.0,62.16],\"yaxis\":\"y\",\"type\":\"scatter\"},{\"hovertemplate\":\"color=Glenn Maxwell<br>index=%{x}<br>value=%{y}<extra></extra>\",\"legendgroup\":\"Glenn Maxwell\",\"marker\":{\"color\":\"#00cc96\",\"symbol\":\"circle\"},\"mode\":\"markers\",\"name\":\"Glenn Maxwell\",\"orientation\":\"v\",\"showlegend\":true,\"x\":[136,209,315,367,500,617,629,700,758],\"xaxis\":\"x\",\"y\":[170.83,60.0,240.9,0.0,200.0,20.0,147.61,157.03,17.64],\"yaxis\":\"y\",\"type\":\"scatter\"},{\"hovertemplate\":\"color=Josh Inglis<br>index=%{x}<br>value=%{y}<extra></extra>\",\"legendgroup\":\"Josh Inglis\",\"marker\":{\"color\":\"#ab63fa\",\"symbol\":\"circle\"},\"mode\":\"markers\",\"name\":\"Josh Inglis\",\"orientation\":\"v\",\"showlegend\":true,\"x\":[137,220,314,370,618,628,699,757],\"xaxis\":\"x\",\"y\":[135.71,50.0,116.66,144.44,57.14,98.3,0.0,125.0],\"yaxis\":\"y\",\"type\":\"scatter\"},{\"hovertemplate\":\"color=Pat Cummins<br>index=%{x}<br>value=%{y}<extra></extra>\",\"legendgroup\":\"Pat Cummins\",\"marker\":{\"color\":\"#FFA15A\",\"symbol\":\"circle\"},\"mode\":\"markers\",\"name\":\"Pat Cummins\",\"orientation\":\"v\",\"showlegend\":true,\"x\":[138,212,223,317,372,620,703,761],\"xaxis\":\"x\",\"y\":[264.28,62.5,76.92,133.33,75.0,48.27,17.64,104.76],\"yaxis\":\"y\",\"type\":\"scatter\"},{\"hovertemplate\":\"color=Mitchell Starc<br>index=%{x}<br>value=%{y}<extra></extra>\",\"legendgroup\":\"Mitchell Starc\",\"marker\":{\"color\":\"#19d3f3\",\"symbol\":\"circle\"},\"mode\":\"markers\",\"name\":\"Mitchell Starc\",\"orientation\":\"v\",\"showlegend\":true,\"x\":[139,213,224,318,373,619,702,760],\"xaxis\":\"x\",\"y\":[33.33,80.0,76.92,0.0,66.66,42.1,42.85,52.94],\"yaxis\":\"y\",\"type\":\"scatter\"},{\"hovertemplate\":\"color=Adam Zampa<br>index=%{x}<br>value=%{y}<extra></extra>\",\"legendgroup\":\"Adam Zampa\",\"marker\":{\"color\":\"#FF6692\",\"symbol\":\"circle\"},\"mode\":\"markers\",\"name\":\"Adam Zampa\",\"orientation\":\"v\",\"showlegend\":true,\"x\":[140,214,225,319,375,762],\"xaxis\":\"x\",\"y\":[0.0,30.0,152.63,100.0,100.0,68.75],\"yaxis\":\"y\",\"type\":\"scatter\"},{\"hovertemplate\":\"color=Josh Hazlewood<br>index=%{x}<br>value=%{y}<extra></extra>\",\"legendgroup\":\"Josh Hazlewood\",\"marker\":{\"color\":\"#B6E880\",\"symbol\":\"circle\"},\"mode\":\"markers\",\"name\":\"Josh Hazlewood\",\"orientation\":\"v\",\"showlegend\":true,\"x\":[141,215,226,374,763],\"xaxis\":\"x\",\"y\":[0.0,100.0,100.0,0.0,100.0],\"yaxis\":\"y\",\"type\":\"scatter\"},{\"hovertemplate\":\"color=Gerald Coetzee<br>index=%{x}<br>value=%{y}<extra></extra>\",\"legendgroup\":\"Gerald Coetzee\",\"marker\":{\"color\":\"#FF97FF\",\"symbol\":\"circle\"},\"mode\":\"markers\",\"name\":\"Gerald Coetzee\",\"orientation\":\"v\",\"showlegend\":true,\"x\":[159,168,598,711],\"xaxis\":\"x\",\"y\":[100.0,48.71,95.65,76.92],\"yaxis\":\"y\",\"type\":\"scatter\"},{\"hovertemplate\":\"color=Keshav Maharaj<br>index=%{x}<br>value=%{y}<extra></extra>\",\"legendgroup\":\"Keshav Maharaj\",\"marker\":{\"color\":\"#FECB52\",\"symbol\":\"circle\"},\"mode\":\"markers\",\"name\":\"Keshav Maharaj\",\"orientation\":\"v\",\"showlegend\":true,\"x\":[160,169,338,599,712,787],\"xaxis\":\"x\",\"y\":[100.0,50.0,0.0,108.1,33.33,63.63],\"yaxis\":\"y\",\"type\":\"scatter\"},{\"hovertemplate\":\"color=Temba Bavuma<br>index=%{x}<br>value=%{y}<extra></extra>\",\"legendgroup\":\"Temba Bavuma\",\"marker\":{\"color\":\"#636efa\",\"symbol\":\"circle\"},\"mode\":\"markers\",\"name\":\"Temba Bavuma\",\"orientation\":\"v\",\"showlegend\":true,\"x\":[162,298,304,331,591,704,781,847],\"xaxis\":\"x\",\"y\":[0.0,85.71,160.0,63.63,51.61,103.7,57.89,82.14],\"yaxis\":\"y\",\"type\":\"scatter\"},{\"hovertemplate\":\"color=Kagiso Rabada<br>index=%{x}<br>value=%{y}<extra></extra>\",\"legendgroup\":\"Kagiso Rabada\",\"marker\":{\"color\":\"#EF553B\",\"symbol\":\"circle\"},\"mode\":\"markers\",\"name\":\"Kagiso Rabada\",\"orientation\":\"v\",\"showlegend\":true,\"x\":[170,337,600,788],\"xaxis\":\"x\",\"y\":[83.33,0.0,150.0,23.07],\"yaxis\":\"y\",\"type\":\"scatter\"},{\"hovertemplate\":\"color=Tabraiz Shamsi<br>index=%{x}<br>value=%{y}<extra></extra>\",\"legendgroup\":\"Tabraiz Shamsi\",\"marker\":{\"color\":\"#00cc96\",\"symbol\":\"circle\"},\"mode\":\"markers\",\"name\":\"Tabraiz Shamsi\",\"orientation\":\"v\",\"showlegend\":true,\"x\":[171,714,790],\"xaxis\":\"x\",\"y\":[20.0,66.66,100.0],\"yaxis\":\"y\",\"type\":\"scatter\"},{\"hovertemplate\":\"color=Jonny Bairstow<br>index=%{x}<br>value=%{y}<extra></extra>\",\"legendgroup\":\"Jonny Bairstow\",\"marker\":{\"color\":\"#ab63fa\",\"symbol\":\"circle\"},\"mode\":\"markers\",\"name\":\"Jonny Bairstow\",\"orientation\":\"v\",\"showlegend\":true,\"x\":[172,237,259,376,463,501,602,643,669],\"xaxis\":\"x\",\"y\":[94.28,88.13,96.77,88.23,96.72,60.86,83.33,0.0,50.0],\"yaxis\":\"y\",\"type\":\"scatter\"},{\"hovertemplate\":\"color=Dawid Malan<br>index=%{x}<br>value=%{y}<extra></extra>\",\"legendgroup\":\"Dawid Malan\",\"marker\":{\"color\":\"#FFA15A\",\"symbol\":\"circle\"},\"mode\":\"markers\",\"name\":\"Dawid Malan\",\"orientation\":\"v\",\"showlegend\":true,\"x\":[173,238,260,377,462,502,603,644,670],\"xaxis\":\"x\",\"y\":[58.33,130.84,112.0,117.56,79.48,94.11,54.54,78.12,82.05],\"yaxis\":\"y\",\"type\":\"scatter\"},{\"hovertemplate\":\"color=Joe Root<br>index=%{x}<br>value=%{y}<extra></extra>\",\"legendgroup\":\"Joe Root\",\"marker\":{\"color\":\"#19d3f3\",\"symbol\":\"circle\"},\"mode\":\"markers\",\"name\":\"Joe Root\",\"orientation\":\"v\",\"showlegend\":true,\"x\":[174,239,261,378,464,503,604,645,671],\"xaxis\":\"x\",\"y\":[89.53,120.58,30.0,80.0,83.33,0.0,33.33,76.47,64.7],\"yaxis\":\"y\",\"type\":\"scatter\"},{\"hovertemplate\":\"color=Harry Brook<br>index=%{x}<br>value=%{y}<extra></extra>\",\"legendgroup\":\"Harry Brook\",\"marker\":{\"color\":\"#FF6692\",\"symbol\":\"circle\"},\"mode\":\"markers\",\"name\":\"Harry Brook\",\"orientation\":\"v\",\"showlegend\":true,\"x\":[175,241,380,467,606,672],\"xaxis\":\"x\",\"y\":[156.25,133.33,68.75,176.47,68.0,108.19],\"yaxis\":\"y\",\"type\":\"scatter\"},{\"hovertemplate\":\"color=Moeen Ali<br>index=%{x}<br>value=%{y}<extra></extra>\",\"legendgroup\":\"Moeen Ali\",\"marker\":{\"color\":\"#B6E880\",\"symbol\":\"circle\"},\"mode\":\"markers\",\"name\":\"Moeen Ali\",\"orientation\":\"v\",\"showlegend\":true,\"x\":[176,265,382,468,506,648],\"xaxis\":\"x\",\"y\":[64.7,100.0,26.66,133.33,48.38,97.67],\"yaxis\":\"y\",\"type\":\"scatter\"},{\"hovertemplate\":\"color=Jos Buttler<br>index=%{x}<br>value=%{y}<extra></extra>\",\"legendgroup\":\"Jos Buttler\",\"marker\":{\"color\":\"#FF97FF\",\"symbol\":\"circle\"},\"mode\":\"markers\",\"name\":\"Jos Buttler\",\"orientation\":\"v\",\"showlegend\":true,\"x\":[177,240,263,381,466,505,607,647,673],\"xaxis\":\"x\",\"y\":[102.38,200.0,133.33,45.45,150.0,43.47,214.28,14.28,50.0],\"yaxis\":\"y\",\"type\":\"scatter\"},{\"hovertemplate\":\"color=Liam Livingstone<br>index=%{x}<br>value=%{y}<extra></extra>\",\"legendgroup\":\"Liam Livingstone\",\"marker\":{\"color\":\"#FECB52\",\"symbol\":\"circle\"},\"mode\":\"markers\",\"name\":\"Liam Livingstone\",\"orientation\":\"v\",\"showlegend\":true,\"x\":[178,242,264,507,649,674],\"xaxis\":\"x\",\"y\":[90.9,0.0,16.66,58.69,40.0,71.42],\"yaxis\":\"y\",\"type\":\"scatter\"},{\"hovertemplate\":\"color=Sam Curran<br>index=%{x}<br>value=%{y}<extra></extra>\",\"legendgroup\":\"Sam Curran\",\"marker\":{\"color\":\"#636efa\",\"symbol\":\"circle\"},\"mode\":\"markers\",\"name\":\"Sam Curran\",\"orientation\":\"v\",\"showlegend\":true,\"x\":[179,243,675],\"xaxis\":\"x\",\"y\":[73.68,73.33,43.47],\"yaxis\":\"y\",\"type\":\"scatter\"},{\"hovertemplate\":\"color=Chris Woakes<br>index=%{x}<br>value=%{y}<extra></extra>\",\"legendgroup\":\"Chris Woakes\",\"marker\":{\"color\":\"#EF553B\",\"symbol\":\"circle\"},\"mode\":\"markers\",\"name\":\"Chris Woakes\",\"orientation\":\"v\",\"showlegend\":true,\"x\":[180,244,266,383,469,508,650,676],\"xaxis\":\"x\",\"y\":[91.66,127.27,0.0,113.33,100.0,50.0,96.96,34.61],\"yaxis\":\"y\",\"type\":\"scatter\"},{\"hovertemplate\":\"color=Adil Rashid<br>index=%{x}<br>value=%{y}<extra></extra>\",\"legendgroup\":\"Adil Rashid\",\"marker\":{\"color\":\"#00cc96\",\"symbol\":\"circle\"},\"mode\":\"markers\",\"name\":\"Adil Rashid\",\"orientation\":\"v\",\"showlegend\":true,\"x\":[181,245,268,386,472,510,609,652,677],\"xaxis\":\"x\",\"y\":[115.38,157.14,28.57,100.0,0.0,65.0,71.42,133.33,153.84],\"yaxis\":\"y\",\"type\":\"scatter\"},{\"hovertemplate\":\"color=Mark Wood<br>index=%{x}<br>value=%{y}<extra></extra>\",\"legendgroup\":\"Mark Wood\",\"marker\":{\"color\":\"#ab63fa\",\"symbol\":\"circle\"},\"mode\":\"markers\",\"name\":\"Mark Wood\",\"orientation\":\"v\",\"showlegend\":true,\"x\":[182,246,269,511,611,653,678],\"xaxis\":\"x\",\"y\":[92.85,120.0,83.33,0.0,252.94,0.0,81.81],\"yaxis\":\"y\",\"type\":\"scatter\"},{\"hovertemplate\":\"color=Dunith Wellalage<br>index=%{x}<br>value=%{y}<extra></extra>\",\"legendgroup\":\"Dunith Wellalage\",\"marker\":{\"color\":\"#FFA15A\",\"symbol\":\"circle\"},\"mode\":\"markers\",\"name\":\"Dunith Wellalage\",\"orientation\":\"v\",\"showlegend\":true,\"x\":[189,405,733],\"xaxis\":\"x\",\"y\":[22.22,125.0,0.0],\"yaxis\":\"y\",\"type\":\"scatter\"},{\"hovertemplate\":\"color=Lahiru Kumara<br>index=%{x}<br>value=%{y}<extra></extra>\",\"legendgroup\":\"Lahiru Kumara\",\"marker\":{\"color\":\"#19d3f3\",\"symbol\":\"circle\"},\"mode\":\"markers\",\"name\":\"Lahiru Kumara\",\"orientation\":\"v\",\"showlegend\":true,\"x\":[192],\"xaxis\":\"x\",\"y\":[50.0],\"yaxis\":\"y\",\"type\":\"scatter\"},{\"hovertemplate\":\"color=Rahmanullah Gurbaz<br>index=%{x}<br>value=%{y}<extra></extra>\",\"legendgroup\":\"Rahmanullah Gurbaz\",\"marker\":{\"color\":\"#FF6692\",\"symbol\":\"circle\"},\"mode\":\"markers\",\"name\":\"Rahmanullah Gurbaz\",\"orientation\":\"v\",\"showlegend\":true,\"x\":[194,248,279,422,440,558,764,775,842],\"xaxis\":\"x\",\"y\":[75.8,140.35,84.0,75.0,113.63,90.9,52.38,0.0,122.64],\"yaxis\":\"y\",\"type\":\"scatter\"},{\"hovertemplate\":\"color=Ibrahim Zadran<br>index=%{x}<br>value=%{y}<extra></extra>\",\"legendgroup\":\"Ibrahim Zadran\",\"marker\":{\"color\":\"#B6E880\",\"symbol\":\"circle\"},\"mode\":\"markers\",\"name\":\"Ibrahim Zadran\",\"orientation\":\"v\",\"showlegend\":true,\"x\":[195,249,280,423,441,559,765,776,843],\"xaxis\":\"x\",\"y\":[88.0,58.33,90.2,78.57,50.0,58.82,93.33,68.42,76.99],\"yaxis\":\"y\",\"type\":\"scatter\"},{\"hovertemplate\":\"color=Rahmat Shah<br>index=%{x}<br>value=%{y}<extra></extra>\",\"legendgroup\":\"Rahmat Shah\",\"marker\":{\"color\":\"#FF97FF\",\"symbol\":\"circle\"},\"mode\":\"markers\",\"name\":\"Rahmat Shah\",\"orientation\":\"v\",\"showlegend\":true,\"x\":[196,250,281,424,442,560,766,777,844],\"xaxis\":\"x\",\"y\":[72.0,37.5,68.18,72.72,56.52,96.29,58.06,83.78,91.66],\"yaxis\":\"y\",\"type\":\"scatter\"},{\"hovertemplate\":\"color=Hashmatullah Shahidi<br>index=%{x}<br>value=%{y}<extra></extra>\",\"legendgroup\":\"Hashmatullah Shahidi\",\"marker\":{\"color\":\"#FECB52\",\"symbol\":\"circle\"},\"mode\":\"markers\",\"name\":\"Hashmatullah Shahidi\",\"orientation\":\"v\",\"showlegend\":true,\"x\":[197,251,282,425,443,561,767,778,845],\"xaxis\":\"x\",\"y\":[47.36,38.88,60.46,90.9,28.57,87.5,27.58,78.37,106.66],\"yaxis\":\"y\",\"type\":\"scatter\"},{\"hovertemplate\":\"color=Najibullah Zadran<br>index=%{x}<br>value=%{y}<extra></extra>\",\"legendgroup\":\"Najibullah Zadran\",\"marker\":{\"color\":\"#636efa\",\"symbol\":\"circle\"},\"mode\":\"markers\",\"name\":\"Najibullah Zadran\",\"orientation\":\"v\",\"showlegend\":true,\"x\":[198,428],\"xaxis\":\"x\",\"y\":[38.46,25.0],\"yaxis\":\"y\",\"type\":\"scatter\"},{\"hovertemplate\":\"color=Mohammad Nabi<br>index=%{x}<br>value=%{y}<extra></extra>\",\"legendgroup\":\"Mohammad Nabi\",\"marker\":{\"color\":\"#EF553B\",\"symbol\":\"circle\"},\"mode\":\"markers\",\"name\":\"Mohammad Nabi\",\"orientation\":\"v\",\"showlegend\":true,\"x\":[199,254,284,427,446,770],\"xaxis\":\"x\",\"y\":[50.0,60.0,120.0,70.37,66.66,77.77],\"yaxis\":\"y\",\"type\":\"scatter\"},{\"hovertemplate\":\"color=Azmatullah Omarzai<br>index=%{x}<br>value=%{y}<extra></extra>\",\"legendgroup\":\"Azmatullah Omarzai\",\"marker\":{\"color\":\"#00cc96\",\"symbol\":\"circle\"},\"mode\":\"markers\",\"name\":\"Azmatullah Omarzai\",\"orientation\":\"v\",\"showlegend\":true,\"x\":[200,252,283,426,444,562,768,779],\"xaxis\":\"x\",\"y\":[110.0,79.16,122.22,89.85,90.65,110.71,84.37,115.87],\"yaxis\":\"y\",\"type\":\"scatter\"},{\"hovertemplate\":\"color=Rashid Khan<br>index=%{x}<br>value=%{y}<extra></extra>\",\"legendgroup\":\"Rashid Khan\",\"marker\":{\"color\":\"#ab63fa\",\"symbol\":\"circle\"},\"mode\":\"markers\",\"name\":\"Rashid Khan\",\"orientation\":\"v\",\"showlegend\":true,\"x\":[201,255,285,429,447,771],\"xaxis\":\"x\",\"y\":[56.25,104.54,194.44,133.33,46.66,61.53],\"yaxis\":\"y\",\"type\":\"scatter\"},{\"hovertemplate\":\"color=Mujeeb Ur Rahman<br>index=%{x}<br>value=%{y}<extra></extra>\",\"legendgroup\":\"Mujeeb Ur Rahman\",\"marker\":{\"color\":\"#FFA15A\",\"symbol\":\"circle\"},\"mode\":\"markers\",\"name\":\"Mujeeb Ur Rahman\",\"orientation\":\"v\",\"showlegend\":true,\"x\":[202,256,430,449,772],\"xaxis\":\"x\",\"y\":[25.0,175.0,83.33,160.0,133.33],\"yaxis\":\"y\",\"type\":\"scatter\"},{\"hovertemplate\":\"color=Naveen-ul-Haq<br>index=%{x}<br>value=%{y}<extra></extra>\",\"legendgroup\":\"Naveen-ul-Haq\",\"marker\":{\"color\":\"#19d3f3\",\"symbol\":\"circle\"},\"mode\":\"markers\",\"name\":\"Naveen-ul-Haq\",\"orientation\":\"v\",\"showlegend\":true,\"x\":[203,257,431,450,773],\"xaxis\":\"x\",\"y\":[0.0,83.33,112.5,50.0,0.0],\"yaxis\":\"y\",\"type\":\"scatter\"},{\"hovertemplate\":\"color=Fazalhaq Farooqi<br>index=%{x}<br>value=%{y}<extra></extra>\",\"legendgroup\":\"Fazalhaq Farooqi\",\"marker\":{\"color\":\"#FF6692\",\"symbol\":\"circle\"},\"mode\":\"markers\",\"name\":\"Fazalhaq Farooqi\",\"orientation\":\"v\",\"showlegend\":true,\"x\":[204,258,774],\"xaxis\":\"x\",\"y\":[0.0,50.0,0.0],\"yaxis\":\"y\",\"type\":\"scatter\"},{\"hovertemplate\":\"color=Alex Carey<br>index=%{x}<br>value=%{y}<extra></extra>\",\"legendgroup\":\"Alex Carey\",\"marker\":{\"color\":\"#B6E880\",\"symbol\":\"circle\"},\"mode\":\"markers\",\"name\":\"Alex Carey\",\"orientation\":\"v\",\"showlegend\":true,\"x\":[210],\"xaxis\":\"x\",\"y\":[0.0],\"yaxis\":\"y\",\"type\":\"scatter\"},{\"hovertemplate\":\"color=Cameron Green<br>index=%{x}<br>value=%{y}<extra></extra>\",\"legendgroup\":\"Cameron Green\",\"marker\":{\"color\":\"#FF97FF\",\"symbol\":\"circle\"},\"mode\":\"markers\",\"name\":\"Cameron Green\",\"orientation\":\"v\",\"showlegend\":true,\"x\":[211,221,316],\"xaxis\":\"x\",\"y\":[40.0,90.38,72.72],\"yaxis\":\"y\",\"type\":\"scatter\"},{\"hovertemplate\":\"color=Marcus Stoinis<br>index=%{x}<br>value=%{y}<extra></extra>\",\"legendgroup\":\"Marcus Stoinis\",\"marker\":{\"color\":\"#FECB52\",\"symbol\":\"circle\"},\"mode\":\"markers\",\"name\":\"Marcus Stoinis\",\"orientation\":\"v\",\"showlegend\":true,\"x\":[222,369,630,701,759],\"xaxis\":\"x\",\"y\":[109.37,87.5,200.0,85.71,125.0],\"yaxis\":\"y\",\"type\":\"scatter\"},{\"hovertemplate\":\"color=Nasum Ahmed<br>index=%{x}<br>value=%{y}<extra></extra>\",\"legendgroup\":\"Nasum Ahmed\",\"marker\":{\"color\":\"#636efa\",\"symbol\":\"circle\"},\"mode\":\"markers\",\"name\":\"Nasum Ahmed\",\"orientation\":\"v\",\"showlegend\":true,\"x\":[234,327,526],\"xaxis\":\"x\",\"y\":[63.63,77.77,100.0],\"yaxis\":\"y\",\"type\":\"scatter\"},{\"hovertemplate\":\"color=Mahedi Hasan<br>index=%{x}<br>value=%{y}<extra></extra>\",\"legendgroup\":\"Mahedi Hasan\",\"marker\":{\"color\":\"#EF553B\",\"symbol\":\"circle\"},\"mode\":\"markers\",\"name\":\"Mahedi Hasan\",\"orientation\":\"v\",\"showlegend\":true,\"x\":[235,665,860],\"xaxis\":\"x\",\"y\":[66.66,43.75,44.73],\"yaxis\":\"y\",\"type\":\"scatter\"},{\"hovertemplate\":\"color=Reece Topley<br>index=%{x}<br>value=%{y}<extra></extra>\",\"legendgroup\":\"Reece Topley\",\"marker\":{\"color\":\"#00cc96\",\"symbol\":\"circle\"},\"mode\":\"markers\",\"name\":\"Reece Topley\",\"orientation\":\"v\",\"showlegend\":true,\"x\":[247,679],\"xaxis\":\"x\",\"y\":[50.0,214.28],\"yaxis\":\"y\",\"type\":\"scatter\"},{\"hovertemplate\":\"color=Ikram Alikhil<br>index=%{x}<br>value=%{y}<extra></extra>\",\"legendgroup\":\"Ikram Alikhil\",\"marker\":{\"color\":\"#ab63fa\",\"symbol\":\"circle\"},\"mode\":\"markers\",\"name\":\"Ikram Alikhil\",\"orientation\":\"v\",\"showlegend\":true,\"x\":[253,445,769],\"xaxis\":\"x\",\"y\":[87.87,85.71,90.47],\"yaxis\":\"y\",\"type\":\"scatter\"},{\"hovertemplate\":\"color=Ben Stokes<br>index=%{x}<br>value=%{y}<extra></extra>\",\"legendgroup\":\"Ben Stokes\",\"marker\":{\"color\":\"#FFA15A\",\"symbol\":\"circle\"},\"mode\":\"markers\",\"name\":\"Ben Stokes\",\"orientation\":\"v\",\"showlegend\":true,\"x\":[262,379,465,504,605,646],\"xaxis\":\"x\",\"y\":[58.9,128.57,110.52,0.0,62.5,71.11],\"yaxis\":\"y\",\"type\":\"scatter\"},{\"hovertemplate\":\"color=David Willey<br>index=%{x}<br>value=%{y}<extra></extra>\",\"legendgroup\":\"David Willey\",\"marker\":{\"color\":\"#19d3f3\",\"symbol\":\"circle\"},\"mode\":\"markers\",\"name\":\"David Willey\",\"orientation\":\"v\",\"showlegend\":true,\"x\":[267,384,470,509,608,651],\"xaxis\":\"x\",\"y\":[82.35,300.0,300.0,94.11,100.0,107.14],\"yaxis\":\"y\",\"type\":\"scatter\"},{\"hovertemplate\":\"color=Mohammad Wasim<br>index=%{x}<br>value=%{y}<extra></extra>\",\"legendgroup\":\"Mohammad Wasim\",\"marker\":{\"color\":\"#FF6692\",\"symbol\":\"circle\"},\"mode\":\"markers\",\"name\":\"Mohammad Wasim\",\"orientation\":\"v\",\"showlegend\":true,\"x\":[295,873],\"xaxis\":\"x\",\"y\":[77.77,114.28],\"yaxis\":\"y\",\"type\":\"scatter\"},{\"hovertemplate\":\"color=Dimuth Karunaratne<br>index=%{x}<br>value=%{y}<extra></extra>\",\"legendgroup\":\"Dimuth Karunaratne\",\"marker\":{\"color\":\"#B6E880\",\"symbol\":\"circle\"},\"mode\":\"markers\",\"name\":\"Dimuth Karunaratne\",\"orientation\":\"v\",\"showlegend\":true,\"x\":[348,474],\"xaxis\":\"x\",\"y\":[71.42,0.0],\"yaxis\":\"y\",\"type\":\"scatter\"},{\"hovertemplate\":\"color=Gus Atkinson<br>index=%{x}<br>value=%{y}<extra></extra>\",\"legendgroup\":\"Gus Atkinson\",\"marker\":{\"color\":\"#FF97FF\",\"symbol\":\"circle\"},\"mode\":\"markers\",\"name\":\"Gus Atkinson\",\"orientation\":\"v\",\"showlegend\":true,\"x\":[385,471,610],\"xaxis\":\"x\",\"y\":[200.0,0.0,166.66],\"yaxis\":\"y\",\"type\":\"scatter\"},{\"hovertemplate\":\"color=Dasun Shanaka<br>index=%{x}<br>value=%{y}<extra></extra>\",\"legendgroup\":\"Dasun Shanaka\",\"marker\":{\"color\":\"#FECB52\",\"symbol\":\"circle\"},\"mode\":\"markers\",\"name\":\"Dasun Shanaka\",\"orientation\":\"v\",\"showlegend\":true,\"x\":[404,732],\"xaxis\":\"x\",\"y\":[66.66,109.67],\"yaxis\":\"y\",\"type\":\"scatter\"},{\"hovertemplate\":\"color=Matheesha Pathirana<br>index=%{x}<br>value=%{y}<extra></extra>\",\"legendgroup\":\"Matheesha Pathirana\",\"marker\":{\"color\":\"#636efa\",\"symbol\":\"circle\"},\"mode\":\"markers\",\"name\":\"Matheesha Pathirana\",\"orientation\":\"v\",\"showlegend\":true,\"x\":[407,735],\"xaxis\":\"x\",\"y\":[33.33,31.25],\"yaxis\":\"y\",\"type\":\"scatter\"},{\"hovertemplate\":\"color=Kane Williamson<br>index=%{x}<br>value=%{y}<extra></extra>\",\"legendgroup\":\"Kane Williamson\",\"marker\":{\"color\":\"#EF553B\",\"symbol\":\"circle\"},\"mode\":\"markers\",\"name\":\"Kane Williamson\",\"orientation\":\"v\",\"showlegend\":true,\"x\":[416,532,542,549],\"xaxis\":\"x\",\"y\":[120.25,72.89,93.33,94.52],\"yaxis\":\"y\",\"type\":\"scatter\"},{\"hovertemplate\":\"color=Noor Ahmad<br>index=%{x}<br>value=%{y}<extra></extra>\",\"legendgroup\":\"Noor Ahmad\",\"marker\":{\"color\":\"#00cc96\",\"symbol\":\"circle\"},\"mode\":\"markers\",\"name\":\"Noor Ahmad\",\"orientation\":\"v\",\"showlegend\":true,\"x\":[448],\"xaxis\":\"x\",\"y\":[81.25],\"yaxis\":\"y\",\"type\":\"scatter\"},{\"hovertemplate\":\"color=Shariz Ahmad<br>index=%{x}<br>value=%{y}<extra></extra>\",\"legendgroup\":\"Shariz Ahmad\",\"marker\":{\"color\":\"#ab63fa\",\"symbol\":\"circle\"},\"mode\":\"markers\",\"name\":\"Shariz Ahmad\",\"orientation\":\"v\",\"showlegend\":true,\"x\":[459],\"xaxis\":\"x\",\"y\":[75.0],\"yaxis\":\"y\",\"type\":\"scatter\"},{\"hovertemplate\":\"color=Dushan Hemantha<br>index=%{x}<br>value=%{y}<extra></extra>\",\"legendgroup\":\"Dushan Hemantha\",\"marker\":{\"color\":\"#FFA15A\",\"symbol\":\"circle\"},\"mode\":\"markers\",\"name\":\"Dushan Hemantha\",\"orientation\":\"v\",\"showlegend\":true,\"x\":[479,518],\"xaxis\":\"x\",\"y\":[0.0,133.33],\"yaxis\":\"y\",\"type\":\"scatter\"},{\"hovertemplate\":\"color=Hasan Mahmud<br>index=%{x}<br>value=%{y}<extra></extra>\",\"legendgroup\":\"Hasan Mahmud\",\"marker\":{\"color\":\"#19d3f3\",\"symbol\":\"circle\"},\"mode\":\"markers\",\"name\":\"Hasan Mahmud\",\"orientation\":\"v\",\"showlegend\":true,\"x\":[527],\"xaxis\":\"x\",\"y\":[60.0],\"yaxis\":\"y\",\"type\":\"scatter\"},{\"hovertemplate\":\"color=Tim Southee<br>index=%{x}<br>value=%{y}<extra></extra>\",\"legendgroup\":\"Tim Southee\",\"marker\":{\"color\":\"#FF6692\",\"symbol\":\"circle\"},\"mode\":\"markers\",\"name\":\"Tim Southee\",\"orientation\":\"v\",\"showlegend\":true,\"x\":[555,722],\"xaxis\":\"x\",\"y\":[90.0,63.63],\"yaxis\":\"y\",\"type\":\"scatter\"},{\"hovertemplate\":\"color=Tanzim Hasan Sakib<br>index=%{x}<br>value=%{y}<extra></extra>\",\"legendgroup\":\"Tanzim Hasan Sakib\",\"marker\":{\"color\":\"#B6E880\",\"symbol\":\"circle\"},\"mode\":\"markers\",\"name\":\"Tanzim Hasan Sakib\",\"orientation\":\"v\",\"showlegend\":true,\"x\":[571],\"xaxis\":\"x\",\"y\":[83.33],\"yaxis\":\"y\",\"type\":\"scatter\"},{\"hovertemplate\":\"color=James Neesham<br>index=%{x}<br>value=%{y}<extra></extra>\",\"legendgroup\":\"James Neesham\",\"marker\":{\"color\":\"#FF97FF\",\"symbol\":\"circle\"},\"mode\":\"markers\",\"name\":\"James Neesham\",\"orientation\":\"v\",\"showlegend\":true,\"x\":[586,723],\"xaxis\":\"x\",\"y\":[148.71,0.0],\"yaxis\":\"y\",\"type\":\"scatter\"},{\"hovertemplate\":\"color=Lungi Ngidi<br>index=%{x}<br>value=%{y}<extra></extra>\",\"legendgroup\":\"Lungi Ngidi\",\"marker\":{\"color\":\"#FECB52\",\"symbol\":\"circle\"},\"mode\":\"markers\",\"name\":\"Lungi Ngidi\",\"orientation\":\"v\",\"showlegend\":true,\"x\":[601,713,789],\"xaxis\":\"x\",\"y\":[29.16,28.57,0.0],\"yaxis\":\"y\",\"type\":\"scatter\"},{\"hovertemplate\":\"color=Ishan Kishan<br>index=%{x}<br>value=%{y}<extra></extra>\",\"legendgroup\":\"Ishan Kishan\",\"marker\":{\"color\":\"#636efa\",\"symbol\":\"circle\"},\"mode\":\"markers\",\"name\":\"Ishan Kishan\",\"orientation\":\"v\",\"showlegend\":true,\"x\":[638,839],\"xaxis\":\"x\",\"y\":[0.0,100.0],\"yaxis\":\"y\",\"type\":\"scatter\"},{\"hovertemplate\":\"color=Hardik Pandya<br>index=%{x}<br>value=%{y}<extra></extra>\",\"legendgroup\":\"Hardik Pandya\",\"marker\":{\"color\":\"#EF553B\",\"symbol\":\"circle\"},\"mode\":\"markers\",\"name\":\"Hardik Pandya\",\"orientation\":\"v\",\"showlegend\":true,\"x\":[642],\"xaxis\":\"x\",\"y\":[137.5],\"yaxis\":\"y\",\"type\":\"scatter\"},{\"hovertemplate\":\"color=Ryan Klein<br>index=%{x}<br>value=%{y}<extra></extra>\",\"legendgroup\":\"Ryan Klein\",\"marker\":{\"color\":\"#00cc96\",\"symbol\":\"circle\"},\"mode\":\"markers\",\"name\":\"Ryan Klein\",\"orientation\":\"v\",\"showlegend\":true,\"x\":[692],\"xaxis\":\"x\",\"y\":[53.33],\"yaxis\":\"y\",\"type\":\"scatter\"},{\"hovertemplate\":\"color=Usama Mir<br>index=%{x}<br>value=%{y}<extra></extra>\",\"legendgroup\":\"Usama Mir\",\"marker\":{\"color\":\"#ab63fa\",\"symbol\":\"circle\"},\"mode\":\"markers\",\"name\":\"Usama Mir\",\"orientation\":\"v\",\"showlegend\":true,\"x\":[798],\"xaxis\":\"x\",\"y\":[0.0],\"yaxis\":\"y\",\"type\":\"scatter\"},{\"hovertemplate\":\"color=Andile Phehlukwayo<br>index=%{x}<br>value=%{y}<extra></extra>\",\"legendgroup\":\"Andile Phehlukwayo\",\"marker\":{\"color\":\"#FFA15A\",\"symbol\":\"circle\"},\"mode\":\"markers\",\"name\":\"Andile Phehlukwayo\",\"orientation\":\"v\",\"showlegend\":true,\"x\":[852],\"xaxis\":\"x\",\"y\":[105.4],\"yaxis\":\"y\",\"type\":\"scatter\"},{\"hovertemplate\":\"color=Agha Salman<br>index=%{x}<br>value=%{y}<extra></extra>\",\"legendgroup\":\"Agha Salman\",\"marker\":{\"color\":\"#19d3f3\",\"symbol\":\"circle\"},\"mode\":\"markers\",\"name\":\"Agha Salman\",\"orientation\":\"v\",\"showlegend\":true,\"x\":[869],\"xaxis\":\"x\",\"y\":[113.33],\"yaxis\":\"y\",\"type\":\"scatter\"}],                        {\"template\":{\"data\":{\"histogram2dcontour\":[{\"type\":\"histogram2dcontour\",\"colorbar\":{\"outlinewidth\":0,\"ticks\":\"\"},\"colorscale\":[[0.0,\"#0d0887\"],[0.1111111111111111,\"#46039f\"],[0.2222222222222222,\"#7201a8\"],[0.3333333333333333,\"#9c179e\"],[0.4444444444444444,\"#bd3786\"],[0.5555555555555556,\"#d8576b\"],[0.6666666666666666,\"#ed7953\"],[0.7777777777777778,\"#fb9f3a\"],[0.8888888888888888,\"#fdca26\"],[1.0,\"#f0f921\"]]}],\"choropleth\":[{\"type\":\"choropleth\",\"colorbar\":{\"outlinewidth\":0,\"ticks\":\"\"}}],\"histogram2d\":[{\"type\":\"histogram2d\",\"colorbar\":{\"outlinewidth\":0,\"ticks\":\"\"},\"colorscale\":[[0.0,\"#0d0887\"],[0.1111111111111111,\"#46039f\"],[0.2222222222222222,\"#7201a8\"],[0.3333333333333333,\"#9c179e\"],[0.4444444444444444,\"#bd3786\"],[0.5555555555555556,\"#d8576b\"],[0.6666666666666666,\"#ed7953\"],[0.7777777777777778,\"#fb9f3a\"],[0.8888888888888888,\"#fdca26\"],[1.0,\"#f0f921\"]]}],\"heatmap\":[{\"type\":\"heatmap\",\"colorbar\":{\"outlinewidth\":0,\"ticks\":\"\"},\"colorscale\":[[0.0,\"#0d0887\"],[0.1111111111111111,\"#46039f\"],[0.2222222222222222,\"#7201a8\"],[0.3333333333333333,\"#9c179e\"],[0.4444444444444444,\"#bd3786\"],[0.5555555555555556,\"#d8576b\"],[0.6666666666666666,\"#ed7953\"],[0.7777777777777778,\"#fb9f3a\"],[0.8888888888888888,\"#fdca26\"],[1.0,\"#f0f921\"]]}],\"heatmapgl\":[{\"type\":\"heatmapgl\",\"colorbar\":{\"outlinewidth\":0,\"ticks\":\"\"},\"colorscale\":[[0.0,\"#0d0887\"],[0.1111111111111111,\"#46039f\"],[0.2222222222222222,\"#7201a8\"],[0.3333333333333333,\"#9c179e\"],[0.4444444444444444,\"#bd3786\"],[0.5555555555555556,\"#d8576b\"],[0.6666666666666666,\"#ed7953\"],[0.7777777777777778,\"#fb9f3a\"],[0.8888888888888888,\"#fdca26\"],[1.0,\"#f0f921\"]]}],\"contourcarpet\":[{\"type\":\"contourcarpet\",\"colorbar\":{\"outlinewidth\":0,\"ticks\":\"\"}}],\"contour\":[{\"type\":\"contour\",\"colorbar\":{\"outlinewidth\":0,\"ticks\":\"\"},\"colorscale\":[[0.0,\"#0d0887\"],[0.1111111111111111,\"#46039f\"],[0.2222222222222222,\"#7201a8\"],[0.3333333333333333,\"#9c179e\"],[0.4444444444444444,\"#bd3786\"],[0.5555555555555556,\"#d8576b\"],[0.6666666666666666,\"#ed7953\"],[0.7777777777777778,\"#fb9f3a\"],[0.8888888888888888,\"#fdca26\"],[1.0,\"#f0f921\"]]}],\"surface\":[{\"type\":\"surface\",\"colorbar\":{\"outlinewidth\":0,\"ticks\":\"\"},\"colorscale\":[[0.0,\"#0d0887\"],[0.1111111111111111,\"#46039f\"],[0.2222222222222222,\"#7201a8\"],[0.3333333333333333,\"#9c179e\"],[0.4444444444444444,\"#bd3786\"],[0.5555555555555556,\"#d8576b\"],[0.6666666666666666,\"#ed7953\"],[0.7777777777777778,\"#fb9f3a\"],[0.8888888888888888,\"#fdca26\"],[1.0,\"#f0f921\"]]}],\"mesh3d\":[{\"type\":\"mesh3d\",\"colorbar\":{\"outlinewidth\":0,\"ticks\":\"\"}}],\"scatter\":[{\"fillpattern\":{\"fillmode\":\"overlay\",\"size\":10,\"solidity\":0.2},\"type\":\"scatter\"}],\"parcoords\":[{\"type\":\"parcoords\",\"line\":{\"colorbar\":{\"outlinewidth\":0,\"ticks\":\"\"}}}],\"scatterpolargl\":[{\"type\":\"scatterpolargl\",\"marker\":{\"colorbar\":{\"outlinewidth\":0,\"ticks\":\"\"}}}],\"bar\":[{\"error_x\":{\"color\":\"#2a3f5f\"},\"error_y\":{\"color\":\"#2a3f5f\"},\"marker\":{\"line\":{\"color\":\"#E5ECF6\",\"width\":0.5},\"pattern\":{\"fillmode\":\"overlay\",\"size\":10,\"solidity\":0.2}},\"type\":\"bar\"}],\"scattergeo\":[{\"type\":\"scattergeo\",\"marker\":{\"colorbar\":{\"outlinewidth\":0,\"ticks\":\"\"}}}],\"scatterpolar\":[{\"type\":\"scatterpolar\",\"marker\":{\"colorbar\":{\"outlinewidth\":0,\"ticks\":\"\"}}}],\"histogram\":[{\"marker\":{\"pattern\":{\"fillmode\":\"overlay\",\"size\":10,\"solidity\":0.2}},\"type\":\"histogram\"}],\"scattergl\":[{\"type\":\"scattergl\",\"marker\":{\"colorbar\":{\"outlinewidth\":0,\"ticks\":\"\"}}}],\"scatter3d\":[{\"type\":\"scatter3d\",\"line\":{\"colorbar\":{\"outlinewidth\":0,\"ticks\":\"\"}},\"marker\":{\"colorbar\":{\"outlinewidth\":0,\"ticks\":\"\"}}}],\"scattermapbox\":[{\"type\":\"scattermapbox\",\"marker\":{\"colorbar\":{\"outlinewidth\":0,\"ticks\":\"\"}}}],\"scatterternary\":[{\"type\":\"scatterternary\",\"marker\":{\"colorbar\":{\"outlinewidth\":0,\"ticks\":\"\"}}}],\"scattercarpet\":[{\"type\":\"scattercarpet\",\"marker\":{\"colorbar\":{\"outlinewidth\":0,\"ticks\":\"\"}}}],\"carpet\":[{\"aaxis\":{\"endlinecolor\":\"#2a3f5f\",\"gridcolor\":\"white\",\"linecolor\":\"white\",\"minorgridcolor\":\"white\",\"startlinecolor\":\"#2a3f5f\"},\"baxis\":{\"endlinecolor\":\"#2a3f5f\",\"gridcolor\":\"white\",\"linecolor\":\"white\",\"minorgridcolor\":\"white\",\"startlinecolor\":\"#2a3f5f\"},\"type\":\"carpet\"}],\"table\":[{\"cells\":{\"fill\":{\"color\":\"#EBF0F8\"},\"line\":{\"color\":\"white\"}},\"header\":{\"fill\":{\"color\":\"#C8D4E3\"},\"line\":{\"color\":\"white\"}},\"type\":\"table\"}],\"barpolar\":[{\"marker\":{\"line\":{\"color\":\"#E5ECF6\",\"width\":0.5},\"pattern\":{\"fillmode\":\"overlay\",\"size\":10,\"solidity\":0.2}},\"type\":\"barpolar\"}],\"pie\":[{\"automargin\":true,\"type\":\"pie\"}]},\"layout\":{\"autotypenumbers\":\"strict\",\"colorway\":[\"#636efa\",\"#EF553B\",\"#00cc96\",\"#ab63fa\",\"#FFA15A\",\"#19d3f3\",\"#FF6692\",\"#B6E880\",\"#FF97FF\",\"#FECB52\"],\"font\":{\"color\":\"#2a3f5f\"},\"hovermode\":\"closest\",\"hoverlabel\":{\"align\":\"left\"},\"paper_bgcolor\":\"white\",\"plot_bgcolor\":\"#E5ECF6\",\"polar\":{\"bgcolor\":\"#E5ECF6\",\"angularaxis\":{\"gridcolor\":\"white\",\"linecolor\":\"white\",\"ticks\":\"\"},\"radialaxis\":{\"gridcolor\":\"white\",\"linecolor\":\"white\",\"ticks\":\"\"}},\"ternary\":{\"bgcolor\":\"#E5ECF6\",\"aaxis\":{\"gridcolor\":\"white\",\"linecolor\":\"white\",\"ticks\":\"\"},\"baxis\":{\"gridcolor\":\"white\",\"linecolor\":\"white\",\"ticks\":\"\"},\"caxis\":{\"gridcolor\":\"white\",\"linecolor\":\"white\",\"ticks\":\"\"}},\"coloraxis\":{\"colorbar\":{\"outlinewidth\":0,\"ticks\":\"\"}},\"colorscale\":{\"sequential\":[[0.0,\"#0d0887\"],[0.1111111111111111,\"#46039f\"],[0.2222222222222222,\"#7201a8\"],[0.3333333333333333,\"#9c179e\"],[0.4444444444444444,\"#bd3786\"],[0.5555555555555556,\"#d8576b\"],[0.6666666666666666,\"#ed7953\"],[0.7777777777777778,\"#fb9f3a\"],[0.8888888888888888,\"#fdca26\"],[1.0,\"#f0f921\"]],\"sequentialminus\":[[0.0,\"#0d0887\"],[0.1111111111111111,\"#46039f\"],[0.2222222222222222,\"#7201a8\"],[0.3333333333333333,\"#9c179e\"],[0.4444444444444444,\"#bd3786\"],[0.5555555555555556,\"#d8576b\"],[0.6666666666666666,\"#ed7953\"],[0.7777777777777778,\"#fb9f3a\"],[0.8888888888888888,\"#fdca26\"],[1.0,\"#f0f921\"]],\"diverging\":[[0,\"#8e0152\"],[0.1,\"#c51b7d\"],[0.2,\"#de77ae\"],[0.3,\"#f1b6da\"],[0.4,\"#fde0ef\"],[0.5,\"#f7f7f7\"],[0.6,\"#e6f5d0\"],[0.7,\"#b8e186\"],[0.8,\"#7fbc41\"],[0.9,\"#4d9221\"],[1,\"#276419\"]]},\"xaxis\":{\"gridcolor\":\"white\",\"linecolor\":\"white\",\"ticks\":\"\",\"title\":{\"standoff\":15},\"zerolinecolor\":\"white\",\"automargin\":true,\"zerolinewidth\":2},\"yaxis\":{\"gridcolor\":\"white\",\"linecolor\":\"white\",\"ticks\":\"\",\"title\":{\"standoff\":15},\"zerolinecolor\":\"white\",\"automargin\":true,\"zerolinewidth\":2},\"scene\":{\"xaxis\":{\"backgroundcolor\":\"#E5ECF6\",\"gridcolor\":\"white\",\"linecolor\":\"white\",\"showbackground\":true,\"ticks\":\"\",\"zerolinecolor\":\"white\",\"gridwidth\":2},\"yaxis\":{\"backgroundcolor\":\"#E5ECF6\",\"gridcolor\":\"white\",\"linecolor\":\"white\",\"showbackground\":true,\"ticks\":\"\",\"zerolinecolor\":\"white\",\"gridwidth\":2},\"zaxis\":{\"backgroundcolor\":\"#E5ECF6\",\"gridcolor\":\"white\",\"linecolor\":\"white\",\"showbackground\":true,\"ticks\":\"\",\"zerolinecolor\":\"white\",\"gridwidth\":2}},\"shapedefaults\":{\"line\":{\"color\":\"#2a3f5f\"}},\"annotationdefaults\":{\"arrowcolor\":\"#2a3f5f\",\"arrowhead\":0,\"arrowwidth\":1},\"geo\":{\"bgcolor\":\"white\",\"landcolor\":\"#E5ECF6\",\"subunitcolor\":\"white\",\"showland\":true,\"showlakes\":true,\"lakecolor\":\"white\"},\"title\":{\"x\":0.05},\"mapbox\":{\"style\":\"light\"}}},\"xaxis\":{\"anchor\":\"y\",\"domain\":[0.0,1.0],\"title\":{\"text\":\"index\"}},\"yaxis\":{\"anchor\":\"x\",\"domain\":[0.0,1.0],\"title\":{\"text\":\"value\"}},\"legend\":{\"title\":{\"text\":\"color\"},\"tracegroupgap\":0},\"title\":{\"text\":\"Strike Rate\"}},                        {\"responsive\": true}                    ).then(function(){\n",
       "                            \n",
       "var gd = document.getElementById('81e04868-a2a3-4b52-844f-f8821d6e1b39');\n",
       "var x = new MutationObserver(function (mutations, observer) {{\n",
       "        var display = window.getComputedStyle(gd).display;\n",
       "        if (!display || display === 'none') {{\n",
       "            console.log([gd, 'removed!']);\n",
       "            Plotly.purge(gd);\n",
       "            observer.disconnect();\n",
       "        }}\n",
       "}});\n",
       "\n",
       "// Listen for the removal of the full notebook cells\n",
       "var notebookContainer = gd.closest('#notebook-container');\n",
       "if (notebookContainer) {{\n",
       "    x.observe(notebookContainer, {childList: true});\n",
       "}}\n",
       "\n",
       "// Listen for the clearing of the current output cell\n",
       "var outputEl = gd.closest('.output');\n",
       "if (outputEl) {{\n",
       "    x.observe(outputEl, {childList: true});\n",
       "}}\n",
       "\n",
       "                        })                };                });            </script>        </div>"
      ]
     },
     "metadata": {},
     "output_type": "display_data"
    }
   ],
   "source": [
    "pt.plot(batting[\"strike_rate\"],kind=\"scatter\",title = \"Strike Rate\",color = batting[\"player\"])"
   ]
  },
  {
   "cell_type": "code",
   "execution_count": null,
   "id": "d7727587-97ba-4901-a281-71ff52931238",
   "metadata": {},
   "outputs": [],
   "source": []
  }
 ],
 "metadata": {
  "kernelspec": {
   "display_name": "Python 3 (ipykernel)",
   "language": "python",
   "name": "python3"
  },
  "language_info": {
   "codemirror_mode": {
    "name": "ipython",
    "version": 3
   },
   "file_extension": ".py",
   "mimetype": "text/x-python",
   "name": "python",
   "nbconvert_exporter": "python",
   "pygments_lexer": "ipython3",
   "version": "3.11.7"
  }
 },
 "nbformat": 4,
 "nbformat_minor": 5
}
